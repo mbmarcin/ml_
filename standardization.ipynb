{
  "nbformat": 4,
  "nbformat_minor": 0,
  "metadata": {
    "colab": {
      "name": "standardization.ipynb",
      "provenance": [],
      "collapsed_sections": [],
      "authorship_tag": "ABX9TyNiCbSl2Vwc+woFL40bEJd/",
      "include_colab_link": true
    },
    "kernelspec": {
      "display_name": "Python 3",
      "name": "python3"
    }
  },
  "cells": [
    {
      "cell_type": "markdown",
      "metadata": {
        "id": "view-in-github",
        "colab_type": "text"
      },
      "source": [
        "<a href=\"https://colab.research.google.com/github/mbmarcin/ml_/blob/main/standardization.ipynb\" target=\"_parent\"><img src=\"https://colab.research.google.com/assets/colab-badge.svg\" alt=\"Open In Colab\"/></a>"
      ]
    },
    {
      "cell_type": "code",
      "metadata": {
        "colab": {
          "base_uri": "https://localhost:8080/"
        },
        "id": "YTghgq9LqRyz",
        "outputId": "95e14f15-73bf-4af9-8a12-109e6ca9ed0f"
      },
      "source": [
        "# example of a normalization\n",
        "import numpy as np\n",
        "from sklearn.preprocessing import MinMaxScaler, StandardScaler\n",
        "# define data\n",
        "data = asarray([[1000, 10],\n",
        "\t\t\t\t[8, 0.05],\n",
        "\t\t\t\t[50, 0.005],\n",
        "\t\t\t\t[88, 0.07],\n",
        "\t\t\t\t[4, 0.1]])\n",
        "print(data)\n",
        "# define min max scaler\n",
        "scaler = MinMaxScaler()\n",
        "# transform data\n",
        "scaled = scaler.fit_transform(data)\n",
        "print(scaled)"
      ],
      "execution_count": 18,
      "outputs": [
        {
          "output_type": "stream",
          "text": [
            "[[1.0e+03 1.0e+01]\n",
            " [8.0e+00 5.0e-02]\n",
            " [5.0e+01 5.0e-03]\n",
            " [8.8e+01 7.0e-02]\n",
            " [4.0e+00 1.0e-01]]\n",
            "[[1.         1.        ]\n",
            " [0.00401606 0.00450225]\n",
            " [0.04618474 0.        ]\n",
            " [0.08433735 0.00650325]\n",
            " [0.         0.00950475]]\n"
          ],
          "name": "stdout"
        }
      ]
    },
    {
      "cell_type": "code",
      "metadata": {
        "colab": {
          "base_uri": "https://localhost:8080/"
        },
        "id": "1dJf1GbprqC-",
        "outputId": "d0cfd3ad-466e-4911-df3f-60904ab0d9a3"
      },
      "source": [
        "# perform a robust scaler transform of the dataset\n",
        "# define standard scaler\n",
        "scaler = StandardScaler()\n",
        "# transform data\n",
        "scaled2 = scaler.fit_transform(data)\n",
        "x = np.absolute(scaled2)\n",
        "print(x)"
      ],
      "execution_count": 21,
      "outputs": [
        {
          "output_type": "stream",
          "text": [
            "[[1.99368963 1.99993972]\n",
            " [0.57480402 0.50155622]\n",
            " [0.46605732 0.51286952]\n",
            " [0.36766744 0.49652809]\n",
            " [0.58516085 0.48898589]]\n"
          ],
          "name": "stdout"
        }
      ]
    },
    {
      "cell_type": "code",
      "metadata": {
        "colab": {
          "base_uri": "https://localhost:8080/"
        },
        "id": "bYpxFLtL55K0",
        "outputId": "0443b6af-eb81-4d3b-a1ef-f845d6a81e04"
      },
      "source": [
        "np.sum(x, axis=0)"
      ],
      "execution_count": 23,
      "outputs": [
        {
          "output_type": "execute_result",
          "data": {
            "text/plain": [
              "array([3.98737926, 3.99987943])"
            ]
          },
          "metadata": {
            "tags": []
          },
          "execution_count": 23
        }
      ]
    }
  ]
}