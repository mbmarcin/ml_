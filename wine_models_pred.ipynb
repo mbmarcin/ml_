{
  "nbformat": 4,
  "nbformat_minor": 0,
  "metadata": {
    "colab": {
      "name": "wine_models_pred",
      "provenance": [],
      "collapsed_sections": [],
      "authorship_tag": "ABX9TyNERrpelmUFDDThDBVHZm2y",
      "include_colab_link": true
    },
    "kernelspec": {
      "name": "python3",
      "display_name": "Python 3"
    }
  },
  "cells": [
    {
      "cell_type": "markdown",
      "metadata": {
        "id": "view-in-github",
        "colab_type": "text"
      },
      "source": [
        "<a href=\"https://colab.research.google.com/github/mbmarcin/ml_/blob/main/wine_models_pred.ipynb\" target=\"_parent\"><img src=\"https://colab.research.google.com/assets/colab-badge.svg\" alt=\"Open In Colab\"/></a>"
      ]
    },
    {
      "cell_type": "code",
      "metadata": {
        "id": "WkZk8WYXAdH1"
      },
      "source": [
        "import pandas as pd\n",
        "import numpy as np\n",
        "import seaborn as sns\n",
        "import matplotlib.pyplot as plt\n",
        "import scipy.stats\n",
        "from sklearn.decomposition import PCA\n",
        "from sklearn.model_selection import train_test_split, cross_val_score, GridSearchCV, RandomizedSearchCV\n",
        "from sklearn.tree import DecisionTreeClassifier\n",
        "from sklearn.metrics import roc_auc_score, roc_curve, recall_score\n",
        "from sklearn.feature_selection import RFE\n",
        "from scipy.stats import randint\n",
        "from sklearn import tree\n",
        "import graphviz\n"
      ],
      "execution_count": 56,
      "outputs": []
    },
    {
      "cell_type": "code",
      "metadata": {
        "id": "4RnNn1uTA_cn"
      },
      "source": [
        "wines = pd.read_csv('winequality-all.csv')\n",
        "wines.columns\n",
        "wines['color'] = wines['color'].astype('category')\n",
        "wines['color'] = wines['color'].cat.codes.values"
      ],
      "execution_count": 57,
      "outputs": []
    },
    {
      "cell_type": "code",
      "metadata": {
        "colab": {
          "base_uri": "https://localhost:8080/"
        },
        "id": "CgGMH-xkBIph",
        "outputId": "bf175718-d3df-49a6-ee1b-e08749518a80"
      },
      "source": [
        "print(\"Distribution of target variable in 'wines' data set:\")\n",
        "wines.color.value_counts(normalize=True)"
      ],
      "execution_count": 58,
      "outputs": [
        {
          "output_type": "stream",
          "text": [
            "Distribution of target variable in 'wines' data set:\n"
          ],
          "name": "stdout"
        },
        {
          "output_type": "execute_result",
          "data": {
            "text/plain": [
              "1    0.744549\n",
              "0    0.255451\n",
              "Name: color, dtype: float64"
            ]
          },
          "metadata": {
            "tags": []
          },
          "execution_count": 58
        }
      ]
    },
    {
      "cell_type": "code",
      "metadata": {
        "id": "3wtOo6tHBPIw"
      },
      "source": [
        "y = wines.color\n",
        "wines.drop('color', axis = 1, inplace = True)"
      ],
      "execution_count": 59,
      "outputs": []
    },
    {
      "cell_type": "code",
      "metadata": {
        "id": "kxbCNMGDBWU7"
      },
      "source": [
        "x_tr, x_te, y_tr, y_te = train_test_split(wines, y, test_size = 0.2, random_state = 5062018, stratify = y)"
      ],
      "execution_count": 60,
      "outputs": []
    },
    {
      "cell_type": "code",
      "metadata": {
        "colab": {
          "base_uri": "https://localhost:8080/"
        },
        "id": "LLqZ-Zxv0Flx",
        "outputId": "ad9e8e14-26a5-4882-a374-0003eab95e51"
      },
      "source": [
        "print(\"Distribution of datasets in both data set after splitting. \\n \\n\")\n",
        "print('Training data set:')\n",
        "print(y_tr.value_counts(normalize=True))\n",
        "print('')\n",
        "print('Test data set:')\n",
        "print(y_te.value_counts(normalize=True))"
      ],
      "execution_count": 61,
      "outputs": [
        {
          "output_type": "stream",
          "text": [
            "Distribution of datasets in both data set after splitting. \n",
            " \n",
            "\n",
            "Training data set:\n",
            "1    0.744596\n",
            "0    0.255404\n",
            "Name: color, dtype: float64\n",
            "\n",
            "Test data set:\n",
            "1    0.744361\n",
            "0    0.255639\n",
            "Name: color, dtype: float64\n"
          ],
          "name": "stdout"
        }
      ]
    },
    {
      "cell_type": "code",
      "metadata": {
        "id": "LP3meFX62jkS"
      },
      "source": [
        "\n",
        "\n",
        "def cv_and_score_model(model, x, y, prints):\n",
        "    \"\"\"Model scorer. Calculates: average gini score, average recall and stability.\n",
        "\n",
        "    Parameters:\n",
        "    -----------\n",
        "    model: sklearn predictive model, model that will be scored\n",
        "    \n",
        "    x : pandas DataFrame, set of x-features\n",
        "\n",
        "    y : pandas Series, target feature\n",
        "    \"\"\"\n",
        "    \n",
        "    cv_auc = cross_val_score(model, x, y, cv = 10, scoring = 'roc_auc')\n",
        "    cv_recall = cross_val_score(model, x, y, cv = 10, scoring = 'recall')\n",
        "    \n",
        "    # Calculate Gini score based on AUC.\n",
        "    cv_gini = (cv_auc * 2) - 1 \n",
        "    \n",
        "    # Printing results.\n",
        "    if prints:\n",
        "        print('Average Gini: {}.'.format(np.mean(cv_gini).round(3)))\n",
        "        print('Average recall: {}.'.format(np.mean(cv_recall).round(3)))\n",
        "        print('Stability: {}%'.format((100 - np.std(cv_gini)*100/cv_gini.mean()).round(3)))\n",
        "    return cv_gini\n",
        "\n",
        "def test_model(model, features, plots):\n",
        "    \"\"\"Model scorer. Calculates: average gini score, average recall and stability.\n",
        "\n",
        "    Parameters:\n",
        "    -----------\n",
        "    model: sklearn predictive model, model that will be tested\n",
        "    \n",
        "    plots : bool, decission whether to print plots\n",
        "    \"\"\"\n",
        "    \n",
        "    model.fit(x_tr[features], y_tr)\n",
        "    pred_prob = model.predict_proba(x_te[features])\n",
        "    y_pred = model.predict(x_te[features])\n",
        "    \n",
        "    # convert 2D list to list of probabilities\n",
        "    prob = []\n",
        "    for n in pred_prob:\n",
        "        prob.append(n[1])\n",
        "    gini_score = (2* roc_auc_score(y_te, prob))-1\n",
        "    \n",
        "    # calculate FPR and TPR\n",
        "    fpr, tpr, thresholds = roc_curve(y_te, prob)\n",
        "    \n",
        "    print('Gini score: {}.'.format(gini_score.round(3)))\n",
        "    print('Recall score: {}.'.format(recall_score(y_te, y_pred).round(3)))\n",
        "    \n",
        "    if plots == True:\n",
        "        # ROC CURVE\n",
        "        plt.figure()\n",
        "        lw = 2\n",
        "        plt.plot(fpr, tpr, color='blue',\n",
        "                 lw=lw, label='ROC curve (area under curve = %0.3f)' % roc_auc_score(y_te, prob))\n",
        "        plt.plot([0, 1], [0, 1], color='navy', lw=lw, linestyle='--')\n",
        "        plt.xlim([0.0, 1.0])\n",
        "        plt.ylim([0.0, 1.05])\n",
        "        plt.xlabel('False Positive Rate')\n",
        "        plt.ylabel('True Positive Rate')\n",
        "        plt.title('ROC curve')\n",
        "        plt.legend(loc=\"lower right\")\n",
        "        plt.show()\n",
        "\n",
        "        # DENSITY PLOT\n",
        "        pre = pd.DataFrame(prob, columns = ['prob'])\n",
        "        pre['pred_class'] = 1\n",
        "        pre.loc[pre.prob < 0.5,'pred_class'] = 0\n",
        "        pre['real_class'] = list(y_te)\n",
        "\n",
        "        sns.distplot(pre[pre.real_class == 0]['prob'], label = 'negatives').set(title = 'Density plot', xlabel = 'probability')\n",
        "        sns.distplot(pre[pre.real_class == 1]['prob'], label = 'positives').set(title = 'Density plot', xlabel = 'probability')\n",
        "        plt.legend()\n",
        "        plt.show()\n"
      ],
      "execution_count": 62,
      "outputs": []
    },
    {
      "cell_type": "code",
      "metadata": {
        "colab": {
          "base_uri": "https://localhost:8080/"
        },
        "id": "UfMyPJTt25Oh",
        "outputId": "784b9f94-89ff-493e-ca46-12a6a14ac494"
      },
      "source": [
        "model_1 = DecisionTreeClassifier()\n",
        "gini = cv_and_score_model(model_1, x_tr, y_tr, True)"
      ],
      "execution_count": 63,
      "outputs": [
        {
          "output_type": "stream",
          "text": [
            "Average Gini: 0.951.\n",
            "Average recall: 0.986.\n",
            "Stability: 98.016%\n"
          ],
          "name": "stdout"
        }
      ]
    },
    {
      "cell_type": "code",
      "metadata": {
        "colab": {
          "base_uri": "https://localhost:8080/"
        },
        "id": "1cBoezbz_rFq",
        "outputId": "ac7c6886-bd38-4298-db9d-98279a46c774"
      },
      "source": [
        "test_model(model_1, x_tr.columns, False)"
      ],
      "execution_count": 64,
      "outputs": [
        {
          "output_type": "stream",
          "text": [
            "Gini score: 0.922.\n",
            "Recall score: 0.985.\n"
          ],
          "name": "stdout"
        }
      ]
    },
    {
      "cell_type": "code",
      "metadata": {
        "id": "uKjM-6xHBRqQ"
      },
      "source": [
        "def forward_selection(model, x, y):\n",
        "    \"\"\"Forward selection method.\n",
        "\n",
        "    Parameters:\n",
        "    -----------\n",
        "    model : sklearn model, that will be used in features selection \n",
        "    \n",
        "    x : pandas DataFrame with all possible predictors\n",
        "    \n",
        "    y : pandas Series with target variable\n",
        "\n",
        "    Returns:\n",
        "    --------\n",
        "    best_features: \"optimal\" set of features selected by forward selection evaluated by Gini score\n",
        "    \"\"\"\n",
        "    \n",
        "    \n",
        "    remaining = set(x.columns)\n",
        "    best_features = []\n",
        "    current_score, best_new_score = 0.0, 0.0\n",
        "    while remaining and current_score == best_new_score:\n",
        "        scores_with_candidates = []\n",
        "        for candidate in remaining:\n",
        "            gini_score = cv_and_score_model(model, x[best_features+[candidate]], y_tr, False) \n",
        "            scores_with_candidates.append((gini_score.mean(), candidate))\n",
        "        scores_with_candidates.sort()\n",
        "        best_new_score, best_candidate = scores_with_candidates.pop()\n",
        "        if current_score < best_new_score:\n",
        "            remaining.remove(best_candidate)\n",
        "            best_features.append(best_candidate)\n",
        "            current_score = best_new_score\n",
        "    return best_features\n",
        "\n",
        "def backward_selection(model, x, y):\n",
        "    \"\"\"Backward selection method.\n",
        "\n",
        "    Parameters:\n",
        "    -----------\n",
        "    model : sklearn model, that will be used in features selection \n",
        "    \n",
        "    x : pandas DataFrame with all possible predictors\n",
        "    \n",
        "    y : pandas Series with target variable\n",
        "\n",
        "    Returns:\n",
        "    --------\n",
        "    best_features: \"optimal\" set of features selected by backward selection evaluated by Gini score\n",
        "    \"\"\"\n",
        "    \n",
        "    \n",
        "    remaining = set(x.columns)\n",
        "    features_to_remove = []\n",
        "    current_score, best_new_score = 0.0, 0.0\n",
        "    while remaining and current_score == best_new_score:\n",
        "        scores_with_candidates = []\n",
        "        for candidate in remaining:\n",
        "            gini_score = cv_and_score_model(model, x[list(remaining)].drop([candidate], axis = 1), y_tr, False) \n",
        "            scores_with_candidates.append((gini_score.mean(), candidate))\n",
        "        scores_with_candidates.sort()\n",
        "        best_new_score, best_candidate = scores_with_candidates.pop()\n",
        "        if current_score < best_new_score:\n",
        "            remaining.remove(best_candidate)\n",
        "            features_to_remove.append(best_candidate)\n",
        "            current_score = best_new_score\n",
        "    best_features = list(x.drop(features_to_remove, axis = 1).columns)\n",
        "    return best_features\n"
      ],
      "execution_count": 65,
      "outputs": []
    },
    {
      "cell_type": "code",
      "metadata": {
        "colab": {
          "base_uri": "https://localhost:8080/"
        },
        "id": "qyW_Hz_BCRnC",
        "outputId": "7377cb41-fd19-4a6b-ed62-ddbd303d3146"
      },
      "source": [
        "# model 2\n",
        "\n",
        "model_2 = DecisionTreeClassifier()\n",
        "model_2.fit(x_tr, y_tr)"
      ],
      "execution_count": 66,
      "outputs": [
        {
          "output_type": "execute_result",
          "data": {
            "text/plain": [
              "DecisionTreeClassifier(ccp_alpha=0.0, class_weight=None, criterion='gini',\n",
              "                       max_depth=None, max_features=None, max_leaf_nodes=None,\n",
              "                       min_impurity_decrease=0.0, min_impurity_split=None,\n",
              "                       min_samples_leaf=1, min_samples_split=2,\n",
              "                       min_weight_fraction_leaf=0.0, presort='deprecated',\n",
              "                       random_state=None, splitter='best')"
            ]
          },
          "metadata": {
            "tags": []
          },
          "execution_count": 66
        }
      ]
    },
    {
      "cell_type": "code",
      "metadata": {
        "colab": {
          "base_uri": "https://localhost:8080/"
        },
        "id": "k8DoZFZlCilL",
        "outputId": "3e7ed688-17ec-459a-b2f4-76de74ee7605"
      },
      "source": [
        "#Feature importances - using decission tree model.\n",
        "\n",
        "pd.Series(model_2.feature_importances_, index = x_tr.columns).sort_values(ascending = False)"
      ],
      "execution_count": 67,
      "outputs": [
        {
          "output_type": "execute_result",
          "data": {
            "text/plain": [
              "total.sulfur.dioxide    0.677634\n",
              "chlorides               0.212401\n",
              "density                 0.048577\n",
              "pH                      0.019272\n",
              "residual.sugar          0.013017\n",
              "volatile.acidity        0.010004\n",
              "sulphates               0.007990\n",
              "citric.acid             0.004648\n",
              "alcohol                 0.003716\n",
              "fixed.acidity           0.002122\n",
              "free.sulfur.dioxide     0.000618\n",
              "response                0.000000\n",
              "dtype: float64"
            ]
          },
          "metadata": {
            "tags": []
          },
          "execution_count": 67
        }
      ]
    },
    {
      "cell_type": "code",
      "metadata": {
        "colab": {
          "base_uri": "https://localhost:8080/"
        },
        "id": "kGxaWdZg-Wbz",
        "outputId": "90594e75-9b7b-408c-cb80-54e37640707c"
      },
      "source": [
        "selected_features_fs = forward_selection(model_2, x_tr, y_tr)\n",
        "print('Number of selected features: {}.'.format(len(selected_features_fs)))\n",
        "print('Selected features: {}.'.format(list(selected_features_fs)))"
      ],
      "execution_count": 68,
      "outputs": [
        {
          "output_type": "stream",
          "text": [
            "Number of selected features: 7.\n",
            "Selected features: ['total.sulfur.dioxide', 'chlorides', 'density', 'residual.sugar', 'citric.acid', 'alcohol', 'free.sulfur.dioxide'].\n"
          ],
          "name": "stdout"
        }
      ]
    },
    {
      "cell_type": "code",
      "metadata": {
        "colab": {
          "base_uri": "https://localhost:8080/"
        },
        "id": "zRGMVETlJojU",
        "outputId": "799295ce-7ae7-4217-965f-d8e318877c57"
      },
      "source": [
        "gini = cv_and_score_model(model_2, x_tr[selected_features_fs], y_tr, True)"
      ],
      "execution_count": 69,
      "outputs": [
        {
          "output_type": "stream",
          "text": [
            "Average Gini: 0.951.\n",
            "Average recall: 0.987.\n",
            "Stability: 98.643%\n"
          ],
          "name": "stdout"
        }
      ]
    },
    {
      "cell_type": "code",
      "metadata": {
        "colab": {
          "base_uri": "https://localhost:8080/"
        },
        "id": "qdG_5YE-K3OM",
        "outputId": "47b1a13d-1638-4791-a6d1-f42742889e05"
      },
      "source": [
        "selected_features_bs = backward_selection(model_2, x_tr, y_tr)\n",
        "print('Number of selected features: {}.'.format(len(selected_features_bs)))\n",
        "print('Selected features: {}.'.format(list(selected_features_bs)))"
      ],
      "execution_count": 70,
      "outputs": [
        {
          "output_type": "stream",
          "text": [
            "Number of selected features: 11.\n",
            "Selected features: ['fixed.acidity', 'volatile.acidity', 'citric.acid', 'residual.sugar', 'chlorides', 'total.sulfur.dioxide', 'density', 'pH', 'sulphates', 'alcohol', 'response'].\n"
          ],
          "name": "stdout"
        }
      ]
    },
    {
      "cell_type": "code",
      "metadata": {
        "colab": {
          "base_uri": "https://localhost:8080/"
        },
        "id": "JKVEnUpNLV0j",
        "outputId": "cfc21821-a7e9-4f2f-ae2d-ab49464a4187"
      },
      "source": [
        "gini = cv_and_score_model(model_2, x_tr[selected_features_bs], y_tr, True)"
      ],
      "execution_count": 71,
      "outputs": [
        {
          "output_type": "stream",
          "text": [
            "Average Gini: 0.953.\n",
            "Average recall: 0.986.\n",
            "Stability: 98.27%\n"
          ],
          "name": "stdout"
        }
      ]
    },
    {
      "cell_type": "code",
      "metadata": {
        "colab": {
          "base_uri": "https://localhost:8080/"
        },
        "id": "BX76Bef3LyFI",
        "outputId": "3e82e8ea-ff46-4f88-8d38-a8da62c54fcd"
      },
      "source": [
        "for n in np.arange(1, 13, 1):\n",
        "    selector = RFE(model_2, n, 1)\n",
        "    print('=================================')\n",
        "    print('Model with {} features.'.format(n))\n",
        "    print('=================================')\n",
        "    cv_and_score_model(model_2, x_tr.iloc[:,selector.fit(x_tr, y_tr).support_], y_tr, True)\n",
        "    print('')"
      ],
      "execution_count": 72,
      "outputs": [
        {
          "output_type": "stream",
          "text": [
            "=================================\n",
            "Model with 1 features.\n",
            "=================================\n",
            "Average Gini: 0.879.\n",
            "Average recall: 0.962.\n",
            "Stability: 97.764%\n",
            "\n",
            "=================================\n",
            "Model with 2 features.\n",
            "=================================\n",
            "Average Gini: 0.91.\n",
            "Average recall: 0.975.\n",
            "Stability: 97.827%\n",
            "\n",
            "=================================\n",
            "Model with 3 features.\n",
            "=================================\n",
            "Average Gini: 0.939.\n",
            "Average recall: 0.98.\n",
            "Stability: 98.197%\n",
            "\n",
            "=================================\n",
            "Model with 4 features.\n",
            "=================================\n",
            "Average Gini: 0.945.\n",
            "Average recall: 0.985.\n",
            "Stability: 97.953%\n",
            "\n",
            "=================================\n",
            "Model with 5 features.\n",
            "=================================\n",
            "Average Gini: 0.945.\n",
            "Average recall: 0.988.\n",
            "Stability: 98.235%\n",
            "\n",
            "=================================\n",
            "Model with 6 features.\n",
            "=================================\n",
            "Average Gini: 0.948.\n",
            "Average recall: 0.988.\n",
            "Stability: 97.406%\n",
            "\n",
            "=================================\n",
            "Model with 7 features.\n",
            "=================================\n",
            "Average Gini: 0.95.\n",
            "Average recall: 0.988.\n",
            "Stability: 98.261%\n",
            "\n",
            "=================================\n",
            "Model with 8 features.\n",
            "=================================\n",
            "Average Gini: 0.952.\n",
            "Average recall: 0.99.\n",
            "Stability: 98.261%\n",
            "\n",
            "=================================\n",
            "Model with 9 features.\n",
            "=================================\n",
            "Average Gini: 0.948.\n",
            "Average recall: 0.989.\n",
            "Stability: 98.081%\n",
            "\n",
            "=================================\n",
            "Model with 10 features.\n",
            "=================================\n",
            "Average Gini: 0.943.\n",
            "Average recall: 0.987.\n",
            "Stability: 97.585%\n",
            "\n",
            "=================================\n",
            "Model with 11 features.\n",
            "=================================\n",
            "Average Gini: 0.948.\n",
            "Average recall: 0.987.\n",
            "Stability: 97.726%\n",
            "\n",
            "=================================\n",
            "Model with 12 features.\n",
            "=================================\n",
            "Average Gini: 0.948.\n",
            "Average recall: 0.989.\n",
            "Stability: 98.404%\n",
            "\n"
          ],
          "name": "stdout"
        }
      ]
    },
    {
      "cell_type": "code",
      "metadata": {
        "colab": {
          "base_uri": "https://localhost:8080/"
        },
        "id": "aCyf8OZiM1S9",
        "outputId": "f9bafda7-f0f5-4e7a-e4d7-cb461edd6b75"
      },
      "source": [
        "selector = RFE(model_2, 8, 1)\n",
        "selected_features_rfe = x_tr.iloc[:,selector.fit(x_tr, y_tr).support_].columns\n",
        "print('Number of selected features: {}.'.format(len(selected_features_rfe)))\n",
        "print('Selected features: {}.'.format(list(selected_features_rfe)))"
      ],
      "execution_count": 73,
      "outputs": [
        {
          "output_type": "stream",
          "text": [
            "Number of selected features: 8.\n",
            "Selected features: ['volatile.acidity', 'citric.acid', 'residual.sugar', 'chlorides', 'total.sulfur.dioxide', 'density', 'pH', 'sulphates'].\n"
          ],
          "name": "stdout"
        }
      ]
    },
    {
      "cell_type": "code",
      "metadata": {
        "colab": {
          "base_uri": "https://localhost:8080/"
        },
        "id": "GoM_4H1ENfsu",
        "outputId": "170b840c-b9c0-45df-d70b-c077b8e523e9"
      },
      "source": [
        "gini = cv_and_score_model(model_2, x_tr[selected_features_rfe], y_tr, True)"
      ],
      "execution_count": 74,
      "outputs": [
        {
          "output_type": "stream",
          "text": [
            "Average Gini: 0.949.\n",
            "Average recall: 0.988.\n",
            "Stability: 97.757%\n"
          ],
          "name": "stdout"
        }
      ]
    },
    {
      "cell_type": "code",
      "metadata": {
        "colab": {
          "base_uri": "https://localhost:8080/"
        },
        "id": "fu0UDXieSHsr",
        "outputId": "e7b574e0-931c-4289-bf29-ac263c493e48"
      },
      "source": [
        "#GridSearchCV.\n",
        "\n",
        "parameters = {'criterion':('entropy', 'gini'), \n",
        "              'splitter':('best','random'), \n",
        "              'max_depth':np.arange(1, 6), \n",
        "              'min_samples_split':np.arange(2,10), \n",
        "              'min_samples_leaf':np.arange(1,5)}\n",
        "\n",
        "grid_search = GridSearchCV(DecisionTreeClassifier(), parameters, cv=10)\n",
        "grid_search.fit(x_tr[selected_features_bs], y_tr)"
      ],
      "execution_count": 75,
      "outputs": [
        {
          "output_type": "execute_result",
          "data": {
            "text/plain": [
              "GridSearchCV(cv=10, error_score=nan,\n",
              "             estimator=DecisionTreeClassifier(ccp_alpha=0.0, class_weight=None,\n",
              "                                              criterion='gini', max_depth=None,\n",
              "                                              max_features=None,\n",
              "                                              max_leaf_nodes=None,\n",
              "                                              min_impurity_decrease=0.0,\n",
              "                                              min_impurity_split=None,\n",
              "                                              min_samples_leaf=1,\n",
              "                                              min_samples_split=2,\n",
              "                                              min_weight_fraction_leaf=0.0,\n",
              "                                              presort='deprecated',\n",
              "                                              random_state=None,\n",
              "                                              splitter='best'),\n",
              "             iid='deprecated', n_jobs=None,\n",
              "             param_grid={'criterion': ('entropy', 'gini'),\n",
              "                         'max_depth': array([1, 2, 3, 4, 5]),\n",
              "                         'min_samples_leaf': array([1, 2, 3, 4]),\n",
              "                         'min_samples_split': array([2, 3, 4, 5, 6, 7, 8, 9]),\n",
              "                         'splitter': ('best', 'random')},\n",
              "             pre_dispatch='2*n_jobs', refit=True, return_train_score=False,\n",
              "             scoring=None, verbose=0)"
            ]
          },
          "metadata": {
            "tags": []
          },
          "execution_count": 75
        }
      ]
    },
    {
      "cell_type": "code",
      "metadata": {
        "colab": {
          "base_uri": "https://localhost:8080/"
        },
        "id": "7wJeqADdS1kR",
        "outputId": "9f0dc24c-0368-4ba7-cb33-29912cfad166"
      },
      "source": [
        "best_parameters_gs = grid_search.best_params_\n",
        "print('Best parameters choosed by GridSearchCV: {}'.format(best_parameters_gs))"
      ],
      "execution_count": 76,
      "outputs": [
        {
          "output_type": "stream",
          "text": [
            "Best parameters choosed by GridSearchCV: {'criterion': 'entropy', 'max_depth': 5, 'min_samples_leaf': 3, 'min_samples_split': 8, 'splitter': 'best'}\n"
          ],
          "name": "stdout"
        }
      ]
    },
    {
      "cell_type": "code",
      "metadata": {
        "colab": {
          "base_uri": "https://localhost:8080/"
        },
        "id": "O--nAjlsS60p",
        "outputId": "e5bc19da-6640-4a54-c39f-ceccec473c24"
      },
      "source": [
        "model_3 = DecisionTreeClassifier(**best_parameters_gs)\n",
        "gini = cv_and_score_model(model_3, x_tr[selected_features_bs], y_tr, True)"
      ],
      "execution_count": 77,
      "outputs": [
        {
          "output_type": "stream",
          "text": [
            "Average Gini: 0.972.\n",
            "Average recall: 0.989.\n",
            "Stability: 97.589%\n"
          ],
          "name": "stdout"
        }
      ]
    },
    {
      "cell_type": "code",
      "metadata": {
        "colab": {
          "base_uri": "https://localhost:8080/"
        },
        "id": "N5uh6pPmTFyB",
        "outputId": "7de26dc5-d50a-4fb9-f8ce-d819571ba68c"
      },
      "source": [
        "#RandomizedSearchCV.\n",
        "\n",
        "params_rs = {'criterion':('entropy', 'gini'),\n",
        "'splitter':('best','random'),\n",
        "'max_depth':randint(1,6),\n",
        "'min_samples_split':randint(3,8),\n",
        "'min_samples_leaf':randint(1,5)}\n",
        "\n",
        "rs = RandomizedSearchCV(model_3, cv = 10, n_iter = 20, param_distributions = params_rs)\n",
        "rs.fit(x_tr[selected_features_bs], y_tr)"
      ],
      "execution_count": 78,
      "outputs": [
        {
          "output_type": "execute_result",
          "data": {
            "text/plain": [
              "RandomizedSearchCV(cv=10, error_score=nan,\n",
              "                   estimator=DecisionTreeClassifier(ccp_alpha=0.0,\n",
              "                                                    class_weight=None,\n",
              "                                                    criterion='entropy',\n",
              "                                                    max_depth=5,\n",
              "                                                    max_features=None,\n",
              "                                                    max_leaf_nodes=None,\n",
              "                                                    min_impurity_decrease=0.0,\n",
              "                                                    min_impurity_split=None,\n",
              "                                                    min_samples_leaf=3,\n",
              "                                                    min_samples_split=8,\n",
              "                                                    min_weight_fraction_leaf=0.0,\n",
              "                                                    presort='deprecated',\n",
              "                                                    random_state=None,\n",
              "                                                    splitter='best'),...\n",
              "                                        'max_depth': <scipy.stats._distn_infrastructure.rv_frozen object at 0x7fce36f2d400>,\n",
              "                                        'min_samples_leaf': <scipy.stats._distn_infrastructure.rv_frozen object at 0x7fce36f2ea90>,\n",
              "                                        'min_samples_split': <scipy.stats._distn_infrastructure.rv_frozen object at 0x7fce36f2e710>,\n",
              "                                        'splitter': ('best', 'random')},\n",
              "                   pre_dispatch='2*n_jobs', random_state=None, refit=True,\n",
              "                   return_train_score=False, scoring=None, verbose=0)"
            ]
          },
          "metadata": {
            "tags": []
          },
          "execution_count": 78
        }
      ]
    },
    {
      "cell_type": "code",
      "metadata": {
        "colab": {
          "base_uri": "https://localhost:8080/"
        },
        "id": "XWz3dFoFTfLk",
        "outputId": "2139c1ab-11fe-4df3-e523-fd105b926ed1"
      },
      "source": [
        "best_parameters_rs = rs.best_params_\n",
        "print('Best parameters choosed by RandomizedSearchCV: {}'.format(best_parameters_rs))"
      ],
      "execution_count": 79,
      "outputs": [
        {
          "output_type": "stream",
          "text": [
            "Best parameters choosed by RandomizedSearchCV: {'criterion': 'entropy', 'max_depth': 5, 'min_samples_leaf': 2, 'min_samples_split': 7, 'splitter': 'best'}\n"
          ],
          "name": "stdout"
        }
      ]
    },
    {
      "cell_type": "code",
      "metadata": {
        "colab": {
          "base_uri": "https://localhost:8080/"
        },
        "id": "y_icWWgXTkSc",
        "outputId": "e0870260-574a-41ac-c979-dd50de273579"
      },
      "source": [
        "model_3 = DecisionTreeClassifier(**best_parameters_rs)\n",
        "gini = cv_and_score_model(model_3, x_tr[selected_features_bs], y_tr, True)"
      ],
      "execution_count": 80,
      "outputs": [
        {
          "output_type": "stream",
          "text": [
            "Average Gini: 0.971.\n",
            "Average recall: 0.989.\n",
            "Stability: 97.745%\n"
          ],
          "name": "stdout"
        }
      ]
    },
    {
      "cell_type": "code",
      "metadata": {
        "colab": {
          "base_uri": "https://localhost:8080/"
        },
        "id": "M4XmhcafUAL8",
        "outputId": "0897a3c0-23cf-4c7b-bb96-3fb50ddbe864"
      },
      "source": [
        "model_3.fit(x_tr[selected_features_bs], y_tr)\n",
        "pd.Series(model_3.feature_importances_, index = selected_features_bs).sort_values(ascending = False)"
      ],
      "execution_count": 82,
      "outputs": [
        {
          "output_type": "execute_result",
          "data": {
            "text/plain": [
              "chlorides               0.599358\n",
              "total.sulfur.dioxide    0.292640\n",
              "density                 0.033542\n",
              "fixed.acidity           0.028199\n",
              "volatile.acidity        0.026655\n",
              "alcohol                 0.008063\n",
              "sulphates               0.006461\n",
              "pH                      0.005082\n",
              "response                0.000000\n",
              "residual.sugar          0.000000\n",
              "citric.acid             0.000000\n",
              "dtype: float64"
            ]
          },
          "metadata": {
            "tags": []
          },
          "execution_count": 82
        }
      ]
    },
    {
      "cell_type": "code",
      "metadata": {
        "colab": {
          "base_uri": "https://localhost:8080/"
        },
        "id": "EacqwbAIWzQy",
        "outputId": "b93069a9-7105-45f7-dc1a-620b0f8044ce"
      },
      "source": [
        "# model 4\n",
        "selected_features_bs_2 = backward_selection(model_3, x_tr[selected_features_bs], y_tr)\n",
        "gini = cv_and_score_model(model_3, x_tr[selected_features_bs_2], y_tr, True)"
      ],
      "execution_count": 86,
      "outputs": [
        {
          "output_type": "stream",
          "text": [
            "Average Gini: 0.979.\n",
            "Average recall: 0.99.\n",
            "Stability: 99.202%\n"
          ],
          "name": "stdout"
        }
      ]
    },
    {
      "cell_type": "code",
      "metadata": {
        "colab": {
          "base_uri": "https://localhost:8080/"
        },
        "id": "FTWW4vl7quEN",
        "outputId": "c3af6bf2-3673-4bf9-eafe-eef5b89c79be"
      },
      "source": [
        "selected_features_fs_2 = forward_selection(model_3, x_tr[selected_features_bs], y_tr)\n",
        "gini = cv_and_score_model(model_3, x_tr[selected_features_fs_2], y_tr, True)"
      ],
      "execution_count": 87,
      "outputs": [
        {
          "output_type": "stream",
          "text": [
            "Average Gini: 0.982.\n",
            "Average recall: 0.989.\n",
            "Stability: 98.864%\n"
          ],
          "name": "stdout"
        }
      ]
    },
    {
      "cell_type": "code",
      "metadata": {
        "colab": {
          "base_uri": "https://localhost:8080/"
        },
        "id": "c7XLY2OYrE18",
        "outputId": "ea0365ca-22da-4303-e4cb-bb22ba0c55f4"
      },
      "source": [
        "gini = test_model(model_3, selected_features_fs_2, False)"
      ],
      "execution_count": 91,
      "outputs": [
        {
          "output_type": "stream",
          "text": [
            "Gini score: 0.968.\n",
            "Recall score: 0.985.\n"
          ],
          "name": "stdout"
        }
      ]
    },
    {
      "cell_type": "code",
      "metadata": {
        "colab": {
          "base_uri": "https://localhost:8080/",
          "height": 529
        },
        "id": "VfYhvNNPXSv5",
        "outputId": "79e16010-853f-4d29-8fe2-1e3be378a64e"
      },
      "source": [
        "dot_data = tree.export_graphviz(model_3, out_file=None, \n",
        "                         feature_names=selected_features_fs_2,  \n",
        "                         class_names=['0','1'],  \n",
        "                         filled=True, rounded=True,  \n",
        "                         special_characters=True)\n",
        "graph = graphviz.Source(dot_data)\n",
        "out = dot_data[0:14] + 'ranksep=.75; size = \"20,30\";' + dot_data[14:]\n",
        "graph = graphviz.Source(out)\n",
        "graph"
      ],
      "execution_count": 95,
      "outputs": [
        {
          "output_type": "execute_result",
          "data": {
            "text/plain": [
              "<graphviz.files.Source at 0x7fce36f6d828>"
            ],
            "image/svg+xml": "<?xml version=\"1.0\" encoding=\"UTF-8\" standalone=\"no\"?>\n<!DOCTYPE svg PUBLIC \"-//W3C//DTD SVG 1.1//EN\"\n \"http://www.w3.org/Graphics/SVG/1.1/DTD/svg11.dtd\">\n<!-- Generated by graphviz version 2.40.1 (20161225.0304)\n -->\n<!-- Title: Tree Pages: 1 -->\n<svg width=\"1440pt\" height=\"366pt\"\n viewBox=\"0.00 0.00 1440.00 365.83\" xmlns=\"http://www.w3.org/2000/svg\" xmlns:xlink=\"http://www.w3.org/1999/xlink\">\n<g id=\"graph0\" class=\"graph\" transform=\"scale(.4807 .4807) rotate(0) translate(4 757)\">\n<title>Tree</title>\n<polygon fill=\"#ffffff\" stroke=\"transparent\" points=\"-4,4 -4,-757 2991.5,-757 2991.5,4 -4,4\"/>\n<!-- 0 -->\n<g id=\"node1\" class=\"node\">\n<title>0</title>\n<path fill=\"#7dbfee\" stroke=\"#000000\" d=\"M1472,-753C1472,-753 1347,-753 1347,-753 1341,-753 1335,-747 1335,-741 1335,-741 1335,-682 1335,-682 1335,-676 1341,-670 1347,-670 1347,-670 1472,-670 1472,-670 1478,-670 1484,-676 1484,-682 1484,-682 1484,-741 1484,-741 1484,-747 1478,-753 1472,-753\"/>\n<text text-anchor=\"start\" x=\"1358\" y=\"-737.8\" font-family=\"Helvetica,sans-Serif\" font-size=\"14.00\" fill=\"#000000\">chlorides ≤ 0.06</text>\n<text text-anchor=\"start\" x=\"1362.5\" y=\"-722.8\" font-family=\"Helvetica,sans-Serif\" font-size=\"14.00\" fill=\"#000000\">entropy = 0.82</text>\n<text text-anchor=\"start\" x=\"1357.5\" y=\"-707.8\" font-family=\"Helvetica,sans-Serif\" font-size=\"14.00\" fill=\"#000000\">samples = 4256</text>\n<text text-anchor=\"start\" x=\"1343\" y=\"-692.8\" font-family=\"Helvetica,sans-Serif\" font-size=\"14.00\" fill=\"#000000\">value = [1087, 3169]</text>\n<text text-anchor=\"start\" x=\"1380.5\" y=\"-677.8\" font-family=\"Helvetica,sans-Serif\" font-size=\"14.00\" fill=\"#000000\">class = 1</text>\n</g>\n<!-- 1 -->\n<g id=\"node2\" class=\"node\">\n<title>1</title>\n<path fill=\"#41a1e6\" stroke=\"#000000\" d=\"M1159.5,-616C1159.5,-616 1007.5,-616 1007.5,-616 1001.5,-616 995.5,-610 995.5,-604 995.5,-604 995.5,-545 995.5,-545 995.5,-539 1001.5,-533 1007.5,-533 1007.5,-533 1159.5,-533 1159.5,-533 1165.5,-533 1171.5,-539 1171.5,-545 1171.5,-545 1171.5,-604 1171.5,-604 1171.5,-610 1165.5,-616 1159.5,-616\"/>\n<text text-anchor=\"start\" x=\"1003.5\" y=\"-600.8\" font-family=\"Helvetica,sans-Serif\" font-size=\"14.00\" fill=\"#000000\">total.sulfur.dioxide ≤ 54.0</text>\n<text text-anchor=\"start\" x=\"1032.5\" y=\"-585.8\" font-family=\"Helvetica,sans-Serif\" font-size=\"14.00\" fill=\"#000000\">entropy = 0.234</text>\n<text text-anchor=\"start\" x=\"1031.5\" y=\"-570.8\" font-family=\"Helvetica,sans-Serif\" font-size=\"14.00\" fill=\"#000000\">samples = 3033</text>\n<text text-anchor=\"start\" x=\"1021.5\" y=\"-555.8\" font-family=\"Helvetica,sans-Serif\" font-size=\"14.00\" fill=\"#000000\">value = [116, 2917]</text>\n<text text-anchor=\"start\" x=\"1054.5\" y=\"-540.8\" font-family=\"Helvetica,sans-Serif\" font-size=\"14.00\" fill=\"#000000\">class = 1</text>\n</g>\n<!-- 0&#45;&gt;1 -->\n<g id=\"edge1\" class=\"edge\">\n<title>0&#45;&gt;1</title>\n<path fill=\"none\" stroke=\"#000000\" d=\"M1334.709,-680.0694C1289.0581,-660.8848 1230.1975,-636.1489 1180.9285,-615.4439\"/>\n<polygon fill=\"#000000\" stroke=\"#000000\" points=\"1182.1032,-612.1411 1171.5281,-611.4934 1179.3912,-618.5944 1182.1032,-612.1411\"/>\n<text text-anchor=\"middle\" x=\"1180.9764\" y=\"-630.9393\" font-family=\"Helvetica,sans-Serif\" font-size=\"14.00\" fill=\"#000000\">True</text>\n</g>\n<!-- 26 -->\n<g id=\"node27\" class=\"node\">\n<title>26</title>\n<path fill=\"#eca26c\" stroke=\"#000000\" d=\"M1788.5,-616C1788.5,-616 1628.5,-616 1628.5,-616 1622.5,-616 1616.5,-610 1616.5,-604 1616.5,-604 1616.5,-545 1616.5,-545 1616.5,-539 1622.5,-533 1628.5,-533 1628.5,-533 1788.5,-533 1788.5,-533 1794.5,-533 1800.5,-539 1800.5,-545 1800.5,-545 1800.5,-604 1800.5,-604 1800.5,-610 1794.5,-616 1788.5,-616\"/>\n<text text-anchor=\"start\" x=\"1624.5\" y=\"-600.8\" font-family=\"Helvetica,sans-Serif\" font-size=\"14.00\" fill=\"#000000\">total.sulfur.dioxide ≤ 102.5</text>\n<text text-anchor=\"start\" x=\"1657.5\" y=\"-585.8\" font-family=\"Helvetica,sans-Serif\" font-size=\"14.00\" fill=\"#000000\">entropy = 0.734</text>\n<text text-anchor=\"start\" x=\"1656.5\" y=\"-570.8\" font-family=\"Helvetica,sans-Serif\" font-size=\"14.00\" fill=\"#000000\">samples = 1223</text>\n<text text-anchor=\"start\" x=\"1650.5\" y=\"-555.8\" font-family=\"Helvetica,sans-Serif\" font-size=\"14.00\" fill=\"#000000\">value = [971, 252]</text>\n<text text-anchor=\"start\" x=\"1679.5\" y=\"-540.8\" font-family=\"Helvetica,sans-Serif\" font-size=\"14.00\" fill=\"#000000\">class = 0</text>\n</g>\n<!-- 0&#45;&gt;26 -->\n<g id=\"edge26\" class=\"edge\">\n<title>0&#45;&gt;26</title>\n<path fill=\"none\" stroke=\"#000000\" d=\"M1484.179,-677.2825C1521.8086,-660.0409 1567.959,-638.895 1608.5958,-620.2755\"/>\n<polygon fill=\"#000000\" stroke=\"#000000\" points=\"1610.0821,-623.4445 1617.7153,-616.097 1607.1662,-617.0807 1610.0821,-623.4445\"/>\n<text text-anchor=\"middle\" x=\"1609.0079\" y=\"-635.8317\" font-family=\"Helvetica,sans-Serif\" font-size=\"14.00\" fill=\"#000000\">False</text>\n</g>\n<!-- 2 -->\n<g id=\"node3\" class=\"node\">\n<title>2</title>\n<path fill=\"#f1bc96\" stroke=\"#000000\" d=\"M518,-479C518,-479 415,-479 415,-479 409,-479 403,-473 403,-467 403,-467 403,-408 403,-408 403,-402 409,-396 415,-396 415,-396 518,-396 518,-396 524,-396 530,-402 530,-408 530,-408 530,-467 530,-467 530,-473 524,-479 518,-479\"/>\n<text text-anchor=\"start\" x=\"411\" y=\"-463.8\" font-family=\"Helvetica,sans-Serif\" font-size=\"14.00\" fill=\"#000000\">chlorides ≤ 0.041</text>\n<text text-anchor=\"start\" x=\"415.5\" y=\"-448.8\" font-family=\"Helvetica,sans-Serif\" font-size=\"14.00\" fill=\"#000000\">entropy = 0.904</text>\n<text text-anchor=\"start\" x=\"418.5\" y=\"-433.8\" font-family=\"Helvetica,sans-Serif\" font-size=\"14.00\" fill=\"#000000\">samples = 125</text>\n<text text-anchor=\"start\" x=\"416.5\" y=\"-418.8\" font-family=\"Helvetica,sans-Serif\" font-size=\"14.00\" fill=\"#000000\">value = [85, 40]</text>\n<text text-anchor=\"start\" x=\"437.5\" y=\"-403.8\" font-family=\"Helvetica,sans-Serif\" font-size=\"14.00\" fill=\"#000000\">class = 0</text>\n</g>\n<!-- 1&#45;&gt;2 -->\n<g id=\"edge2\" class=\"edge\">\n<title>1&#45;&gt;2</title>\n<path fill=\"none\" stroke=\"#000000\" d=\"M995.4268,-554.944C873.2557,-527.8169 654.5414,-479.2531 540.4055,-453.9101\"/>\n<polygon fill=\"#000000\" stroke=\"#000000\" points=\"540.8835,-450.4311 530.3626,-451.6802 539.3661,-457.2647 540.8835,-450.4311\"/>\n</g>\n<!-- 13 -->\n<g id=\"node14\" class=\"node\">\n<title>13</title>\n<path fill=\"#3b9ee5\" stroke=\"#000000\" d=\"M1159.5,-479C1159.5,-479 1007.5,-479 1007.5,-479 1001.5,-479 995.5,-473 995.5,-467 995.5,-467 995.5,-408 995.5,-408 995.5,-402 1001.5,-396 1007.5,-396 1007.5,-396 1159.5,-396 1159.5,-396 1165.5,-396 1171.5,-402 1171.5,-408 1171.5,-408 1171.5,-467 1171.5,-467 1171.5,-473 1165.5,-479 1159.5,-479\"/>\n<text text-anchor=\"start\" x=\"1003.5\" y=\"-463.8\" font-family=\"Helvetica,sans-Serif\" font-size=\"14.00\" fill=\"#000000\">total.sulfur.dioxide ≤ 91.5</text>\n<text text-anchor=\"start\" x=\"1032.5\" y=\"-448.8\" font-family=\"Helvetica,sans-Serif\" font-size=\"14.00\" fill=\"#000000\">entropy = 0.085</text>\n<text text-anchor=\"start\" x=\"1031.5\" y=\"-433.8\" font-family=\"Helvetica,sans-Serif\" font-size=\"14.00\" fill=\"#000000\">samples = 2908</text>\n<text text-anchor=\"start\" x=\"1025.5\" y=\"-418.8\" font-family=\"Helvetica,sans-Serif\" font-size=\"14.00\" fill=\"#000000\">value = [31, 2877]</text>\n<text text-anchor=\"start\" x=\"1054.5\" y=\"-403.8\" font-family=\"Helvetica,sans-Serif\" font-size=\"14.00\" fill=\"#000000\">class = 1</text>\n</g>\n<!-- 1&#45;&gt;13 -->\n<g id=\"edge13\" class=\"edge\">\n<title>1&#45;&gt;13</title>\n<path fill=\"none\" stroke=\"#000000\" d=\"M1083.5,-532.6511C1083.5,-518.9738 1083.5,-503.6171 1083.5,-489.2974\"/>\n<polygon fill=\"#000000\" stroke=\"#000000\" points=\"1087.0001,-489.0926 1083.5,-479.0927 1080.0001,-489.0927 1087.0001,-489.0926\"/>\n</g>\n<!-- 3 -->\n<g id=\"node4\" class=\"node\">\n<title>3</title>\n<path fill=\"#50a8e8\" stroke=\"#000000\" d=\"M302.5,-342C302.5,-342 208.5,-342 208.5,-342 202.5,-342 196.5,-336 196.5,-330 196.5,-330 196.5,-271 196.5,-271 196.5,-265 202.5,-259 208.5,-259 208.5,-259 302.5,-259 302.5,-259 308.5,-259 314.5,-265 314.5,-271 314.5,-271 314.5,-330 314.5,-330 314.5,-336 308.5,-342 302.5,-342\"/>\n<text text-anchor=\"start\" x=\"206\" y=\"-326.8\" font-family=\"Helvetica,sans-Serif\" font-size=\"14.00\" fill=\"#000000\">density ≤ 0.995</text>\n<text text-anchor=\"start\" x=\"204.5\" y=\"-311.8\" font-family=\"Helvetica,sans-Serif\" font-size=\"14.00\" fill=\"#000000\">entropy = 0.477</text>\n<text text-anchor=\"start\" x=\"211.5\" y=\"-296.8\" font-family=\"Helvetica,sans-Serif\" font-size=\"14.00\" fill=\"#000000\">samples = 39</text>\n<text text-anchor=\"start\" x=\"210\" y=\"-281.8\" font-family=\"Helvetica,sans-Serif\" font-size=\"14.00\" fill=\"#000000\">value = [4, 35]</text>\n<text text-anchor=\"start\" x=\"226.5\" y=\"-266.8\" font-family=\"Helvetica,sans-Serif\" font-size=\"14.00\" fill=\"#000000\">class = 1</text>\n</g>\n<!-- 2&#45;&gt;3 -->\n<g id=\"edge3\" class=\"edge\">\n<title>2&#45;&gt;3</title>\n<path fill=\"none\" stroke=\"#000000\" d=\"M402.9069,-396.2097C377.7236,-379.8584 348.7362,-361.0372 323.1665,-344.4351\"/>\n<polygon fill=\"#000000\" stroke=\"#000000\" points=\"324.9296,-341.4069 314.6365,-338.8967 321.1176,-347.2779 324.9296,-341.4069\"/>\n</g>\n<!-- 8 -->\n<g id=\"node9\" class=\"node\">\n<title>8</title>\n<path fill=\"#e78945\" stroke=\"#000000\" d=\"M542.5,-342C542.5,-342 390.5,-342 390.5,-342 384.5,-342 378.5,-336 378.5,-330 378.5,-330 378.5,-271 378.5,-271 378.5,-265 384.5,-259 390.5,-259 390.5,-259 542.5,-259 542.5,-259 548.5,-259 554.5,-265 554.5,-271 554.5,-271 554.5,-330 554.5,-330 554.5,-336 548.5,-342 542.5,-342\"/>\n<text text-anchor=\"start\" x=\"386.5\" y=\"-326.8\" font-family=\"Helvetica,sans-Serif\" font-size=\"14.00\" fill=\"#000000\">total.sulfur.dioxide ≤ 36.5</text>\n<text text-anchor=\"start\" x=\"419.5\" y=\"-311.8\" font-family=\"Helvetica,sans-Serif\" font-size=\"14.00\" fill=\"#000000\">entropy = 0.32</text>\n<text text-anchor=\"start\" x=\"422.5\" y=\"-296.8\" font-family=\"Helvetica,sans-Serif\" font-size=\"14.00\" fill=\"#000000\">samples = 86</text>\n<text text-anchor=\"start\" x=\"421\" y=\"-281.8\" font-family=\"Helvetica,sans-Serif\" font-size=\"14.00\" fill=\"#000000\">value = [81, 5]</text>\n<text text-anchor=\"start\" x=\"437.5\" y=\"-266.8\" font-family=\"Helvetica,sans-Serif\" font-size=\"14.00\" fill=\"#000000\">class = 0</text>\n</g>\n<!-- 2&#45;&gt;8 -->\n<g id=\"edge8\" class=\"edge\">\n<title>2&#45;&gt;8</title>\n<path fill=\"none\" stroke=\"#000000\" d=\"M466.5,-395.6511C466.5,-381.9738 466.5,-366.6171 466.5,-352.2974\"/>\n<polygon fill=\"#000000\" stroke=\"#000000\" points=\"470.0001,-352.0926 466.5,-342.0927 463.0001,-352.0927 470.0001,-352.0926\"/>\n</g>\n<!-- 4 -->\n<g id=\"node5\" class=\"node\">\n<title>4</title>\n<path fill=\"#44a3e6\" stroke=\"#000000\" d=\"M175,-205C175,-205 72,-205 72,-205 66,-205 60,-199 60,-193 60,-193 60,-134 60,-134 60,-128 66,-122 72,-122 72,-122 175,-122 175,-122 181,-122 187,-128 187,-134 187,-134 187,-193 187,-193 187,-199 181,-205 175,-205\"/>\n<text text-anchor=\"start\" x=\"68\" y=\"-189.8\" font-family=\"Helvetica,sans-Serif\" font-size=\"14.00\" fill=\"#000000\">chlorides ≤ 0.034</text>\n<text text-anchor=\"start\" x=\"72.5\" y=\"-174.8\" font-family=\"Helvetica,sans-Serif\" font-size=\"14.00\" fill=\"#000000\">entropy = 0.303</text>\n<text text-anchor=\"start\" x=\"79.5\" y=\"-159.8\" font-family=\"Helvetica,sans-Serif\" font-size=\"14.00\" fill=\"#000000\">samples = 37</text>\n<text text-anchor=\"start\" x=\"78\" y=\"-144.8\" font-family=\"Helvetica,sans-Serif\" font-size=\"14.00\" fill=\"#000000\">value = [2, 35]</text>\n<text text-anchor=\"start\" x=\"94.5\" y=\"-129.8\" font-family=\"Helvetica,sans-Serif\" font-size=\"14.00\" fill=\"#000000\">class = 1</text>\n</g>\n<!-- 3&#45;&gt;4 -->\n<g id=\"edge4\" class=\"edge\">\n<title>3&#45;&gt;4</title>\n<path fill=\"none\" stroke=\"#000000\" d=\"M215.1784,-258.6511C201.1047,-244.0443 185.1854,-227.522 170.6087,-212.3931\"/>\n<polygon fill=\"#000000\" stroke=\"#000000\" points=\"173.0336,-209.8655 163.5747,-205.0927 167.9927,-214.7224 173.0336,-209.8655\"/>\n</g>\n<!-- 7 -->\n<g id=\"node8\" class=\"node\">\n<title>7</title>\n<path fill=\"#e58139\" stroke=\"#000000\" d=\"M294,-197.5C294,-197.5 217,-197.5 217,-197.5 211,-197.5 205,-191.5 205,-185.5 205,-185.5 205,-141.5 205,-141.5 205,-135.5 211,-129.5 217,-129.5 217,-129.5 294,-129.5 294,-129.5 300,-129.5 306,-135.5 306,-141.5 306,-141.5 306,-185.5 306,-185.5 306,-191.5 300,-197.5 294,-197.5\"/>\n<text text-anchor=\"start\" x=\"213\" y=\"-182.3\" font-family=\"Helvetica,sans-Serif\" font-size=\"14.00\" fill=\"#000000\">entropy = 0.0</text>\n<text text-anchor=\"start\" x=\"216\" y=\"-167.3\" font-family=\"Helvetica,sans-Serif\" font-size=\"14.00\" fill=\"#000000\">samples = 2</text>\n<text text-anchor=\"start\" x=\"214\" y=\"-152.3\" font-family=\"Helvetica,sans-Serif\" font-size=\"14.00\" fill=\"#000000\">value = [2, 0]</text>\n<text text-anchor=\"start\" x=\"226.5\" y=\"-137.3\" font-family=\"Helvetica,sans-Serif\" font-size=\"14.00\" fill=\"#000000\">class = 0</text>\n</g>\n<!-- 3&#45;&gt;7 -->\n<g id=\"edge7\" class=\"edge\">\n<title>3&#45;&gt;7</title>\n<path fill=\"none\" stroke=\"#000000\" d=\"M255.5,-258.6511C255.5,-242.6426 255.5,-224.3334 255.5,-208.0793\"/>\n<polygon fill=\"#000000\" stroke=\"#000000\" points=\"259.0001,-207.7395 255.5,-197.7395 252.0001,-207.7396 259.0001,-207.7395\"/>\n</g>\n<!-- 5 -->\n<g id=\"node6\" class=\"node\">\n<title>5</title>\n<path fill=\"#399de5\" stroke=\"#000000\" d=\"M95,-68C95,-68 12,-68 12,-68 6,-68 0,-62 0,-56 0,-56 0,-12 0,-12 0,-6 6,0 12,0 12,0 95,0 95,0 101,0 107,-6 107,-12 107,-12 107,-56 107,-56 107,-62 101,-68 95,-68\"/>\n<text text-anchor=\"start\" x=\"11\" y=\"-52.8\" font-family=\"Helvetica,sans-Serif\" font-size=\"14.00\" fill=\"#000000\">entropy = 0.0</text>\n<text text-anchor=\"start\" x=\"9.5\" y=\"-37.8\" font-family=\"Helvetica,sans-Serif\" font-size=\"14.00\" fill=\"#000000\">samples = 21</text>\n<text text-anchor=\"start\" x=\"8\" y=\"-22.8\" font-family=\"Helvetica,sans-Serif\" font-size=\"14.00\" fill=\"#000000\">value = [0, 21]</text>\n<text text-anchor=\"start\" x=\"24.5\" y=\"-7.8\" font-family=\"Helvetica,sans-Serif\" font-size=\"14.00\" fill=\"#000000\">class = 1</text>\n</g>\n<!-- 4&#45;&gt;5 -->\n<g id=\"edge5\" class=\"edge\">\n<title>4&#45;&gt;5</title>\n<path fill=\"none\" stroke=\"#000000\" d=\"M100.9662,-121.8126C93.2944,-107.6197 84.7034,-91.7262 76.9607,-77.4022\"/>\n<polygon fill=\"#000000\" stroke=\"#000000\" points=\"79.8475,-75.3824 72.0133,-68.2496 73.6896,-78.711 79.8475,-75.3824\"/>\n</g>\n<!-- 6 -->\n<g id=\"node7\" class=\"node\">\n<title>6</title>\n<path fill=\"#55abe9\" stroke=\"#000000\" d=\"M231.5,-68C231.5,-68 137.5,-68 137.5,-68 131.5,-68 125.5,-62 125.5,-56 125.5,-56 125.5,-12 125.5,-12 125.5,-6 131.5,0 137.5,0 137.5,0 231.5,0 231.5,0 237.5,0 243.5,-6 243.5,-12 243.5,-12 243.5,-56 243.5,-56 243.5,-62 237.5,-68 231.5,-68\"/>\n<text text-anchor=\"start\" x=\"133.5\" y=\"-52.8\" font-family=\"Helvetica,sans-Serif\" font-size=\"14.00\" fill=\"#000000\">entropy = 0.544</text>\n<text text-anchor=\"start\" x=\"140.5\" y=\"-37.8\" font-family=\"Helvetica,sans-Serif\" font-size=\"14.00\" fill=\"#000000\">samples = 16</text>\n<text text-anchor=\"start\" x=\"139\" y=\"-22.8\" font-family=\"Helvetica,sans-Serif\" font-size=\"14.00\" fill=\"#000000\">value = [2, 14]</text>\n<text text-anchor=\"start\" x=\"155.5\" y=\"-7.8\" font-family=\"Helvetica,sans-Serif\" font-size=\"14.00\" fill=\"#000000\">class = 1</text>\n</g>\n<!-- 4&#45;&gt;6 -->\n<g id=\"edge6\" class=\"edge\">\n<title>4&#45;&gt;6</title>\n<path fill=\"none\" stroke=\"#000000\" d=\"M143.1366,-121.8126C149.822,-107.6197 157.3085,-91.7262 164.0557,-77.4022\"/>\n<polygon fill=\"#000000\" stroke=\"#000000\" points=\"167.2719,-78.7877 168.367,-68.2496 160.9393,-75.8048 167.2719,-78.7877\"/>\n</g>\n<!-- 9 -->\n<g id=\"node10\" class=\"node\">\n<title>9</title>\n<path fill=\"#e58139\" stroke=\"#000000\" d=\"M419,-197.5C419,-197.5 336,-197.5 336,-197.5 330,-197.5 324,-191.5 324,-185.5 324,-185.5 324,-141.5 324,-141.5 324,-135.5 330,-129.5 336,-129.5 336,-129.5 419,-129.5 419,-129.5 425,-129.5 431,-135.5 431,-141.5 431,-141.5 431,-185.5 431,-185.5 431,-191.5 425,-197.5 419,-197.5\"/>\n<text text-anchor=\"start\" x=\"335\" y=\"-182.3\" font-family=\"Helvetica,sans-Serif\" font-size=\"14.00\" fill=\"#000000\">entropy = 0.0</text>\n<text text-anchor=\"start\" x=\"333.5\" y=\"-167.3\" font-family=\"Helvetica,sans-Serif\" font-size=\"14.00\" fill=\"#000000\">samples = 62</text>\n<text text-anchor=\"start\" x=\"332\" y=\"-152.3\" font-family=\"Helvetica,sans-Serif\" font-size=\"14.00\" fill=\"#000000\">value = [62, 0]</text>\n<text text-anchor=\"start\" x=\"348.5\" y=\"-137.3\" font-family=\"Helvetica,sans-Serif\" font-size=\"14.00\" fill=\"#000000\">class = 0</text>\n</g>\n<!-- 8&#45;&gt;9 -->\n<g id=\"edge9\" class=\"edge\">\n<title>8&#45;&gt;9</title>\n<path fill=\"none\" stroke=\"#000000\" d=\"M439.3135,-258.6511C428.5176,-242.0328 416.1111,-222.9351 405.2594,-206.2308\"/>\n<polygon fill=\"#000000\" stroke=\"#000000\" points=\"408.126,-204.2187 399.7432,-197.7395 402.2559,-208.0321 408.126,-204.2187\"/>\n</g>\n<!-- 10 -->\n<g id=\"node11\" class=\"node\">\n<title>10</title>\n<path fill=\"#eca26d\" stroke=\"#000000\" d=\"M564,-205C564,-205 461,-205 461,-205 455,-205 449,-199 449,-193 449,-193 449,-134 449,-134 449,-128 455,-122 461,-122 461,-122 564,-122 564,-122 570,-122 576,-128 576,-134 576,-134 576,-193 576,-193 576,-199 570,-205 564,-205\"/>\n<text text-anchor=\"start\" x=\"457\" y=\"-189.8\" font-family=\"Helvetica,sans-Serif\" font-size=\"14.00\" fill=\"#000000\">chlorides ≤ 0.054</text>\n<text text-anchor=\"start\" x=\"461.5\" y=\"-174.8\" font-family=\"Helvetica,sans-Serif\" font-size=\"14.00\" fill=\"#000000\">entropy = 0.738</text>\n<text text-anchor=\"start\" x=\"468.5\" y=\"-159.8\" font-family=\"Helvetica,sans-Serif\" font-size=\"14.00\" fill=\"#000000\">samples = 24</text>\n<text text-anchor=\"start\" x=\"467\" y=\"-144.8\" font-family=\"Helvetica,sans-Serif\" font-size=\"14.00\" fill=\"#000000\">value = [19, 5]</text>\n<text text-anchor=\"start\" x=\"483.5\" y=\"-129.8\" font-family=\"Helvetica,sans-Serif\" font-size=\"14.00\" fill=\"#000000\">class = 0</text>\n</g>\n<!-- 8&#45;&gt;10 -->\n<g id=\"edge10\" class=\"edge\">\n<title>8&#45;&gt;10</title>\n<path fill=\"none\" stroke=\"#000000\" d=\"M480.5515,-258.6511C485.1884,-244.841 490.4003,-229.3187 495.2481,-214.8807\"/>\n<polygon fill=\"#000000\" stroke=\"#000000\" points=\"498.6695,-215.6866 498.5346,-205.0927 492.0335,-213.4585 498.6695,-215.6866\"/>\n</g>\n<!-- 11 -->\n<g id=\"node12\" class=\"node\">\n<title>11</title>\n<path fill=\"#f5d0b5\" stroke=\"#000000\" d=\"M428.5,-68C428.5,-68 334.5,-68 334.5,-68 328.5,-68 322.5,-62 322.5,-56 322.5,-56 322.5,-12 322.5,-12 322.5,-6 328.5,0 334.5,0 334.5,0 428.5,0 428.5,0 434.5,0 440.5,-6 440.5,-12 440.5,-12 440.5,-56 440.5,-56 440.5,-62 434.5,-68 428.5,-68\"/>\n<text text-anchor=\"start\" x=\"330.5\" y=\"-52.8\" font-family=\"Helvetica,sans-Serif\" font-size=\"14.00\" fill=\"#000000\">entropy = 0.961</text>\n<text text-anchor=\"start\" x=\"337.5\" y=\"-37.8\" font-family=\"Helvetica,sans-Serif\" font-size=\"14.00\" fill=\"#000000\">samples = 13</text>\n<text text-anchor=\"start\" x=\"340\" y=\"-22.8\" font-family=\"Helvetica,sans-Serif\" font-size=\"14.00\" fill=\"#000000\">value = [8, 5]</text>\n<text text-anchor=\"start\" x=\"352.5\" y=\"-7.8\" font-family=\"Helvetica,sans-Serif\" font-size=\"14.00\" fill=\"#000000\">class = 0</text>\n</g>\n<!-- 10&#45;&gt;11 -->\n<g id=\"edge11\" class=\"edge\">\n<title>10&#45;&gt;11</title>\n<path fill=\"none\" stroke=\"#000000\" d=\"M470.3297,-121.8126C455.2887,-106.9438 438.3598,-90.2087 423.3461,-75.367\"/>\n<polygon fill=\"#000000\" stroke=\"#000000\" points=\"425.7186,-72.7908 416.1463,-68.2496 420.7974,-77.769 425.7186,-72.7908\"/>\n</g>\n<!-- 12 -->\n<g id=\"node13\" class=\"node\">\n<title>12</title>\n<path fill=\"#e58139\" stroke=\"#000000\" d=\"M554,-68C554,-68 471,-68 471,-68 465,-68 459,-62 459,-56 459,-56 459,-12 459,-12 459,-6 465,0 471,0 471,0 554,0 554,0 560,0 566,-6 566,-12 566,-12 566,-56 566,-56 566,-62 560,-68 554,-68\"/>\n<text text-anchor=\"start\" x=\"470\" y=\"-52.8\" font-family=\"Helvetica,sans-Serif\" font-size=\"14.00\" fill=\"#000000\">entropy = 0.0</text>\n<text text-anchor=\"start\" x=\"468.5\" y=\"-37.8\" font-family=\"Helvetica,sans-Serif\" font-size=\"14.00\" fill=\"#000000\">samples = 11</text>\n<text text-anchor=\"start\" x=\"467\" y=\"-22.8\" font-family=\"Helvetica,sans-Serif\" font-size=\"14.00\" fill=\"#000000\">value = [11, 0]</text>\n<text text-anchor=\"start\" x=\"483.5\" y=\"-7.8\" font-family=\"Helvetica,sans-Serif\" font-size=\"14.00\" fill=\"#000000\">class = 0</text>\n</g>\n<!-- 10&#45;&gt;12 -->\n<g id=\"edge12\" class=\"edge\">\n<title>10&#45;&gt;12</title>\n<path fill=\"none\" stroke=\"#000000\" d=\"M512.5,-121.8126C512.5,-108.0252 512.5,-92.633 512.5,-78.6338\"/>\n<polygon fill=\"#000000\" stroke=\"#000000\" points=\"516.0001,-78.2496 512.5,-68.2496 509.0001,-78.2497 516.0001,-78.2496\"/>\n</g>\n<!-- 14 -->\n<g id=\"node15\" class=\"node\">\n<title>14</title>\n<path fill=\"#46a3e7\" stroke=\"#000000\" d=\"M1030,-342C1030,-342 927,-342 927,-342 921,-342 915,-336 915,-330 915,-330 915,-271 915,-271 915,-265 921,-259 927,-259 927,-259 1030,-259 1030,-259 1036,-259 1042,-265 1042,-271 1042,-271 1042,-330 1042,-330 1042,-336 1036,-342 1030,-342\"/>\n<text text-anchor=\"start\" x=\"923\" y=\"-326.8\" font-family=\"Helvetica,sans-Serif\" font-size=\"14.00\" fill=\"#000000\">chlorides ≤ 0.044</text>\n<text text-anchor=\"start\" x=\"927.5\" y=\"-311.8\" font-family=\"Helvetica,sans-Serif\" font-size=\"14.00\" fill=\"#000000\">entropy = 0.331</text>\n<text text-anchor=\"start\" x=\"930.5\" y=\"-296.8\" font-family=\"Helvetica,sans-Serif\" font-size=\"14.00\" fill=\"#000000\">samples = 378</text>\n<text text-anchor=\"start\" x=\"924.5\" y=\"-281.8\" font-family=\"Helvetica,sans-Serif\" font-size=\"14.00\" fill=\"#000000\">value = [23, 355]</text>\n<text text-anchor=\"start\" x=\"949.5\" y=\"-266.8\" font-family=\"Helvetica,sans-Serif\" font-size=\"14.00\" fill=\"#000000\">class = 1</text>\n</g>\n<!-- 13&#45;&gt;14 -->\n<g id=\"edge14\" class=\"edge\">\n<title>13&#45;&gt;14</title>\n<path fill=\"none\" stroke=\"#000000\" d=\"M1051.426,-395.6511C1040.4346,-381.3098 1028.028,-365.1222 1016.6063,-350.2197\"/>\n<polygon fill=\"#000000\" stroke=\"#000000\" points=\"1019.2387,-347.9006 1010.3776,-342.0927 1013.6828,-352.1588 1019.2387,-347.9006\"/>\n</g>\n<!-- 21 -->\n<g id=\"node22\" class=\"node\">\n<title>21</title>\n<path fill=\"#3a9de5\" stroke=\"#000000\" d=\"M1268.5,-342C1268.5,-342 1108.5,-342 1108.5,-342 1102.5,-342 1096.5,-336 1096.5,-330 1096.5,-330 1096.5,-271 1096.5,-271 1096.5,-265 1102.5,-259 1108.5,-259 1108.5,-259 1268.5,-259 1268.5,-259 1274.5,-259 1280.5,-265 1280.5,-271 1280.5,-271 1280.5,-330 1280.5,-330 1280.5,-336 1274.5,-342 1268.5,-342\"/>\n<text text-anchor=\"start\" x=\"1104.5\" y=\"-326.8\" font-family=\"Helvetica,sans-Serif\" font-size=\"14.00\" fill=\"#000000\">total.sulfur.dioxide ≤ 275.0</text>\n<text text-anchor=\"start\" x=\"1137.5\" y=\"-311.8\" font-family=\"Helvetica,sans-Serif\" font-size=\"14.00\" fill=\"#000000\">entropy = 0.031</text>\n<text text-anchor=\"start\" x=\"1136.5\" y=\"-296.8\" font-family=\"Helvetica,sans-Serif\" font-size=\"14.00\" fill=\"#000000\">samples = 2530</text>\n<text text-anchor=\"start\" x=\"1134.5\" y=\"-281.8\" font-family=\"Helvetica,sans-Serif\" font-size=\"14.00\" fill=\"#000000\">value = [8, 2522]</text>\n<text text-anchor=\"start\" x=\"1159.5\" y=\"-266.8\" font-family=\"Helvetica,sans-Serif\" font-size=\"14.00\" fill=\"#000000\">class = 1</text>\n</g>\n<!-- 13&#45;&gt;21 -->\n<g id=\"edge21\" class=\"edge\">\n<title>13&#45;&gt;21</title>\n<path fill=\"none\" stroke=\"#000000\" d=\"M1115.574,-395.6511C1126.5654,-381.3098 1138.972,-365.1222 1150.3937,-350.2197\"/>\n<polygon fill=\"#000000\" stroke=\"#000000\" points=\"1153.3172,-352.1588 1156.6224,-342.0927 1147.7613,-347.9006 1153.3172,-352.1588\"/>\n</g>\n<!-- 15 -->\n<g id=\"node16\" class=\"node\">\n<title>15</title>\n<path fill=\"#3a9ee5\" stroke=\"#000000\" d=\"M824.5,-205C824.5,-205 730.5,-205 730.5,-205 724.5,-205 718.5,-199 718.5,-193 718.5,-193 718.5,-134 718.5,-134 718.5,-128 724.5,-122 730.5,-122 730.5,-122 824.5,-122 824.5,-122 830.5,-122 836.5,-128 836.5,-134 836.5,-134 836.5,-193 836.5,-193 836.5,-199 830.5,-205 824.5,-205\"/>\n<text text-anchor=\"start\" x=\"728\" y=\"-189.8\" font-family=\"Helvetica,sans-Serif\" font-size=\"14.00\" fill=\"#000000\">density ≤ 0.993</text>\n<text text-anchor=\"start\" x=\"726.5\" y=\"-174.8\" font-family=\"Helvetica,sans-Serif\" font-size=\"14.00\" fill=\"#000000\">entropy = 0.061</text>\n<text text-anchor=\"start\" x=\"729.5\" y=\"-159.8\" font-family=\"Helvetica,sans-Serif\" font-size=\"14.00\" fill=\"#000000\">samples = 280</text>\n<text text-anchor=\"start\" x=\"727.5\" y=\"-144.8\" font-family=\"Helvetica,sans-Serif\" font-size=\"14.00\" fill=\"#000000\">value = [2, 278]</text>\n<text text-anchor=\"start\" x=\"748.5\" y=\"-129.8\" font-family=\"Helvetica,sans-Serif\" font-size=\"14.00\" fill=\"#000000\">class = 1</text>\n</g>\n<!-- 14&#45;&gt;15 -->\n<g id=\"edge15\" class=\"edge\">\n<title>14&#45;&gt;15</title>\n<path fill=\"none\" stroke=\"#000000\" d=\"M917.3747,-258.8375C894.5385,-243.2725 868.4805,-225.5116 845.0945,-209.5719\"/>\n<polygon fill=\"#000000\" stroke=\"#000000\" points=\"846.8448,-206.5292 836.6104,-203.7892 842.9023,-212.3134 846.8448,-206.5292\"/>\n</g>\n<!-- 18 -->\n<g id=\"node19\" class=\"node\">\n<title>18</title>\n<path fill=\"#6fb8ec\" stroke=\"#000000\" d=\"M1054.5,-205C1054.5,-205 902.5,-205 902.5,-205 896.5,-205 890.5,-199 890.5,-193 890.5,-193 890.5,-134 890.5,-134 890.5,-128 896.5,-122 902.5,-122 902.5,-122 1054.5,-122 1054.5,-122 1060.5,-122 1066.5,-128 1066.5,-134 1066.5,-134 1066.5,-193 1066.5,-193 1066.5,-199 1060.5,-205 1054.5,-205\"/>\n<text text-anchor=\"start\" x=\"898.5\" y=\"-189.8\" font-family=\"Helvetica,sans-Serif\" font-size=\"14.00\" fill=\"#000000\">total.sulfur.dioxide ≤ 65.5</text>\n<text text-anchor=\"start\" x=\"931.5\" y=\"-174.8\" font-family=\"Helvetica,sans-Serif\" font-size=\"14.00\" fill=\"#000000\">entropy = 0.75</text>\n<text text-anchor=\"start\" x=\"934.5\" y=\"-159.8\" font-family=\"Helvetica,sans-Serif\" font-size=\"14.00\" fill=\"#000000\">samples = 98</text>\n<text text-anchor=\"start\" x=\"928.5\" y=\"-144.8\" font-family=\"Helvetica,sans-Serif\" font-size=\"14.00\" fill=\"#000000\">value = [21, 77]</text>\n<text text-anchor=\"start\" x=\"949.5\" y=\"-129.8\" font-family=\"Helvetica,sans-Serif\" font-size=\"14.00\" fill=\"#000000\">class = 1</text>\n</g>\n<!-- 14&#45;&gt;18 -->\n<g id=\"edge18\" class=\"edge\">\n<title>14&#45;&gt;18</title>\n<path fill=\"none\" stroke=\"#000000\" d=\"M978.5,-258.6511C978.5,-244.9738 978.5,-229.6171 978.5,-215.2974\"/>\n<polygon fill=\"#000000\" stroke=\"#000000\" points=\"982.0001,-215.0926 978.5,-205.0927 975.0001,-215.0927 982.0001,-215.0926\"/>\n</g>\n<!-- 16 -->\n<g id=\"node17\" class=\"node\">\n<title>16</title>\n<path fill=\"#399de5\" stroke=\"#000000\" d=\"M688.5,-68C688.5,-68 596.5,-68 596.5,-68 590.5,-68 584.5,-62 584.5,-56 584.5,-56 584.5,-12 584.5,-12 584.5,-6 590.5,0 596.5,0 596.5,0 688.5,0 688.5,0 694.5,0 700.5,-6 700.5,-12 700.5,-12 700.5,-56 700.5,-56 700.5,-62 694.5,-68 688.5,-68\"/>\n<text text-anchor=\"start\" x=\"600\" y=\"-52.8\" font-family=\"Helvetica,sans-Serif\" font-size=\"14.00\" fill=\"#000000\">entropy = 0.0</text>\n<text text-anchor=\"start\" x=\"594.5\" y=\"-37.8\" font-family=\"Helvetica,sans-Serif\" font-size=\"14.00\" fill=\"#000000\">samples = 249</text>\n<text text-anchor=\"start\" x=\"592.5\" y=\"-22.8\" font-family=\"Helvetica,sans-Serif\" font-size=\"14.00\" fill=\"#000000\">value = [0, 249]</text>\n<text text-anchor=\"start\" x=\"613.5\" y=\"-7.8\" font-family=\"Helvetica,sans-Serif\" font-size=\"14.00\" fill=\"#000000\">class = 1</text>\n</g>\n<!-- 15&#45;&gt;16 -->\n<g id=\"edge16\" class=\"edge\">\n<title>15&#45;&gt;16</title>\n<path fill=\"none\" stroke=\"#000000\" d=\"M734.0421,-121.8126C718.5418,-106.9438 701.096,-90.2087 685.6239,-75.367\"/>\n<polygon fill=\"#000000\" stroke=\"#000000\" points=\"687.8437,-72.6464 678.2042,-68.2496 682.9979,-77.698 687.8437,-72.6464\"/>\n</g>\n<!-- 17 -->\n<g id=\"node18\" class=\"node\">\n<title>17</title>\n<path fill=\"#47a4e7\" stroke=\"#000000\" d=\"M824.5,-68C824.5,-68 730.5,-68 730.5,-68 724.5,-68 718.5,-62 718.5,-56 718.5,-56 718.5,-12 718.5,-12 718.5,-6 724.5,0 730.5,0 730.5,0 824.5,0 824.5,0 830.5,0 836.5,-6 836.5,-12 836.5,-12 836.5,-56 836.5,-56 836.5,-62 830.5,-68 824.5,-68\"/>\n<text text-anchor=\"start\" x=\"726.5\" y=\"-52.8\" font-family=\"Helvetica,sans-Serif\" font-size=\"14.00\" fill=\"#000000\">entropy = 0.345</text>\n<text text-anchor=\"start\" x=\"733.5\" y=\"-37.8\" font-family=\"Helvetica,sans-Serif\" font-size=\"14.00\" fill=\"#000000\">samples = 31</text>\n<text text-anchor=\"start\" x=\"732\" y=\"-22.8\" font-family=\"Helvetica,sans-Serif\" font-size=\"14.00\" fill=\"#000000\">value = [2, 29]</text>\n<text text-anchor=\"start\" x=\"748.5\" y=\"-7.8\" font-family=\"Helvetica,sans-Serif\" font-size=\"14.00\" fill=\"#000000\">class = 1</text>\n</g>\n<!-- 15&#45;&gt;17 -->\n<g id=\"edge17\" class=\"edge\">\n<title>15&#45;&gt;17</title>\n<path fill=\"none\" stroke=\"#000000\" d=\"M777.5,-121.8126C777.5,-108.0252 777.5,-92.633 777.5,-78.6338\"/>\n<polygon fill=\"#000000\" stroke=\"#000000\" points=\"781.0001,-78.2496 777.5,-68.2496 774.0001,-78.2497 781.0001,-78.2496\"/>\n</g>\n<!-- 19 -->\n<g id=\"node20\" class=\"node\">\n<title>19</title>\n<path fill=\"#fcefe6\" stroke=\"#000000\" d=\"M960.5,-68C960.5,-68 866.5,-68 866.5,-68 860.5,-68 854.5,-62 854.5,-56 854.5,-56 854.5,-12 854.5,-12 854.5,-6 860.5,0 866.5,0 866.5,0 960.5,0 960.5,0 966.5,0 972.5,-6 972.5,-12 972.5,-12 972.5,-56 972.5,-56 972.5,-62 966.5,-68 960.5,-68\"/>\n<text text-anchor=\"start\" x=\"862.5\" y=\"-52.8\" font-family=\"Helvetica,sans-Serif\" font-size=\"14.00\" fill=\"#000000\">entropy = 0.997</text>\n<text text-anchor=\"start\" x=\"869.5\" y=\"-37.8\" font-family=\"Helvetica,sans-Serif\" font-size=\"14.00\" fill=\"#000000\">samples = 15</text>\n<text text-anchor=\"start\" x=\"872\" y=\"-22.8\" font-family=\"Helvetica,sans-Serif\" font-size=\"14.00\" fill=\"#000000\">value = [8, 7]</text>\n<text text-anchor=\"start\" x=\"884.5\" y=\"-7.8\" font-family=\"Helvetica,sans-Serif\" font-size=\"14.00\" fill=\"#000000\">class = 0</text>\n</g>\n<!-- 18&#45;&gt;19 -->\n<g id=\"edge19\" class=\"edge\">\n<title>18&#45;&gt;19</title>\n<path fill=\"none\" stroke=\"#000000\" d=\"M957.5758,-121.8126C950.452,-107.6197 942.4746,-91.7262 935.2849,-77.4022\"/>\n<polygon fill=\"#000000\" stroke=\"#000000\" points=\"938.305,-75.6169 930.6909,-68.2496 932.0488,-78.7571 938.305,-75.6169\"/>\n</g>\n<!-- 20 -->\n<g id=\"node21\" class=\"node\">\n<title>20</title>\n<path fill=\"#5eafea\" stroke=\"#000000\" d=\"M1096.5,-68C1096.5,-68 1002.5,-68 1002.5,-68 996.5,-68 990.5,-62 990.5,-56 990.5,-56 990.5,-12 990.5,-12 990.5,-6 996.5,0 1002.5,0 1002.5,0 1096.5,0 1096.5,0 1102.5,0 1108.5,-6 1108.5,-12 1108.5,-12 1108.5,-56 1108.5,-56 1108.5,-62 1102.5,-68 1096.5,-68\"/>\n<text text-anchor=\"start\" x=\"998.5\" y=\"-52.8\" font-family=\"Helvetica,sans-Serif\" font-size=\"14.00\" fill=\"#000000\">entropy = 0.626</text>\n<text text-anchor=\"start\" x=\"1005.5\" y=\"-37.8\" font-family=\"Helvetica,sans-Serif\" font-size=\"14.00\" fill=\"#000000\">samples = 83</text>\n<text text-anchor=\"start\" x=\"999.5\" y=\"-22.8\" font-family=\"Helvetica,sans-Serif\" font-size=\"14.00\" fill=\"#000000\">value = [13, 70]</text>\n<text text-anchor=\"start\" x=\"1020.5\" y=\"-7.8\" font-family=\"Helvetica,sans-Serif\" font-size=\"14.00\" fill=\"#000000\">class = 1</text>\n</g>\n<!-- 18&#45;&gt;20 -->\n<g id=\"edge20\" class=\"edge\">\n<title>18&#45;&gt;20</title>\n<path fill=\"none\" stroke=\"#000000\" d=\"M1001.3557,-121.8126C1009.1371,-107.6197 1017.8509,-91.7262 1025.7042,-77.4022\"/>\n<polygon fill=\"#000000\" stroke=\"#000000\" points=\"1028.9837,-78.7009 1030.7222,-68.2496 1022.8457,-75.3356 1028.9837,-78.7009\"/>\n</g>\n<!-- 22 -->\n<g id=\"node23\" class=\"node\">\n<title>22</title>\n<path fill=\"#399de5\" stroke=\"#000000\" d=\"M1240,-205C1240,-205 1137,-205 1137,-205 1131,-205 1125,-199 1125,-193 1125,-193 1125,-134 1125,-134 1125,-128 1131,-122 1137,-122 1137,-122 1240,-122 1240,-122 1246,-122 1252,-128 1252,-134 1252,-134 1252,-193 1252,-193 1252,-199 1246,-205 1240,-205\"/>\n<text text-anchor=\"start\" x=\"1133\" y=\"-189.8\" font-family=\"Helvetica,sans-Serif\" font-size=\"14.00\" fill=\"#000000\">chlorides ≤ 0.045</text>\n<text text-anchor=\"start\" x=\"1137.5\" y=\"-174.8\" font-family=\"Helvetica,sans-Serif\" font-size=\"14.00\" fill=\"#000000\">entropy = 0.024</text>\n<text text-anchor=\"start\" x=\"1136.5\" y=\"-159.8\" font-family=\"Helvetica,sans-Serif\" font-size=\"14.00\" fill=\"#000000\">samples = 2524</text>\n<text text-anchor=\"start\" x=\"1134.5\" y=\"-144.8\" font-family=\"Helvetica,sans-Serif\" font-size=\"14.00\" fill=\"#000000\">value = [6, 2518]</text>\n<text text-anchor=\"start\" x=\"1159.5\" y=\"-129.8\" font-family=\"Helvetica,sans-Serif\" font-size=\"14.00\" fill=\"#000000\">class = 1</text>\n</g>\n<!-- 21&#45;&gt;22 -->\n<g id=\"edge22\" class=\"edge\">\n<title>21&#45;&gt;22</title>\n<path fill=\"none\" stroke=\"#000000\" d=\"M1188.5,-258.6511C1188.5,-244.9738 1188.5,-229.6171 1188.5,-215.2974\"/>\n<polygon fill=\"#000000\" stroke=\"#000000\" points=\"1192.0001,-215.0926 1188.5,-205.0927 1185.0001,-215.0927 1192.0001,-215.0926\"/>\n</g>\n<!-- 25 -->\n<g id=\"node26\" class=\"node\">\n<title>25</title>\n<path fill=\"#9ccef2\" stroke=\"#000000\" d=\"M1376.5,-197.5C1376.5,-197.5 1282.5,-197.5 1282.5,-197.5 1276.5,-197.5 1270.5,-191.5 1270.5,-185.5 1270.5,-185.5 1270.5,-141.5 1270.5,-141.5 1270.5,-135.5 1276.5,-129.5 1282.5,-129.5 1282.5,-129.5 1376.5,-129.5 1376.5,-129.5 1382.5,-129.5 1388.5,-135.5 1388.5,-141.5 1388.5,-141.5 1388.5,-185.5 1388.5,-185.5 1388.5,-191.5 1382.5,-197.5 1376.5,-197.5\"/>\n<text text-anchor=\"start\" x=\"1278.5\" y=\"-182.3\" font-family=\"Helvetica,sans-Serif\" font-size=\"14.00\" fill=\"#000000\">entropy = 0.918</text>\n<text text-anchor=\"start\" x=\"1290\" y=\"-167.3\" font-family=\"Helvetica,sans-Serif\" font-size=\"14.00\" fill=\"#000000\">samples = 6</text>\n<text text-anchor=\"start\" x=\"1288\" y=\"-152.3\" font-family=\"Helvetica,sans-Serif\" font-size=\"14.00\" fill=\"#000000\">value = [2, 4]</text>\n<text text-anchor=\"start\" x=\"1300.5\" y=\"-137.3\" font-family=\"Helvetica,sans-Serif\" font-size=\"14.00\" fill=\"#000000\">class = 1</text>\n</g>\n<!-- 21&#45;&gt;25 -->\n<g id=\"edge25\" class=\"edge\">\n<title>21&#45;&gt;25</title>\n<path fill=\"none\" stroke=\"#000000\" d=\"M1231.5708,-258.6511C1249.1451,-241.5754 1269.4134,-221.882 1286.9354,-204.8571\"/>\n<polygon fill=\"#000000\" stroke=\"#000000\" points=\"1289.5277,-207.2184 1294.2608,-197.7395 1284.6496,-202.1979 1289.5277,-207.2184\"/>\n</g>\n<!-- 23 -->\n<g id=\"node24\" class=\"node\">\n<title>23</title>\n<path fill=\"#399de5\" stroke=\"#000000\" d=\"M1238.5,-68C1238.5,-68 1138.5,-68 1138.5,-68 1132.5,-68 1126.5,-62 1126.5,-56 1126.5,-56 1126.5,-12 1126.5,-12 1126.5,-6 1132.5,0 1138.5,0 1138.5,0 1238.5,0 1238.5,0 1244.5,0 1250.5,-6 1250.5,-12 1250.5,-12 1250.5,-56 1250.5,-56 1250.5,-62 1244.5,-68 1238.5,-68\"/>\n<text text-anchor=\"start\" x=\"1146\" y=\"-52.8\" font-family=\"Helvetica,sans-Serif\" font-size=\"14.00\" fill=\"#000000\">entropy = 0.0</text>\n<text text-anchor=\"start\" x=\"1136.5\" y=\"-37.8\" font-family=\"Helvetica,sans-Serif\" font-size=\"14.00\" fill=\"#000000\">samples = 1486</text>\n<text text-anchor=\"start\" x=\"1134.5\" y=\"-22.8\" font-family=\"Helvetica,sans-Serif\" font-size=\"14.00\" fill=\"#000000\">value = [0, 1486]</text>\n<text text-anchor=\"start\" x=\"1159.5\" y=\"-7.8\" font-family=\"Helvetica,sans-Serif\" font-size=\"14.00\" fill=\"#000000\">class = 1</text>\n</g>\n<!-- 22&#45;&gt;23 -->\n<g id=\"edge23\" class=\"edge\">\n<title>22&#45;&gt;23</title>\n<path fill=\"none\" stroke=\"#000000\" d=\"M1188.5,-121.8126C1188.5,-108.0252 1188.5,-92.633 1188.5,-78.6338\"/>\n<polygon fill=\"#000000\" stroke=\"#000000\" points=\"1192.0001,-78.2496 1188.5,-68.2496 1185.0001,-78.2497 1192.0001,-78.2496\"/>\n</g>\n<!-- 24 -->\n<g id=\"node25\" class=\"node\">\n<title>24</title>\n<path fill=\"#3a9ee5\" stroke=\"#000000\" d=\"M1380.5,-68C1380.5,-68 1280.5,-68 1280.5,-68 1274.5,-68 1268.5,-62 1268.5,-56 1268.5,-56 1268.5,-12 1268.5,-12 1268.5,-6 1274.5,0 1280.5,0 1280.5,0 1380.5,0 1380.5,0 1386.5,0 1392.5,-6 1392.5,-12 1392.5,-12 1392.5,-56 1392.5,-56 1392.5,-62 1386.5,-68 1380.5,-68\"/>\n<text text-anchor=\"start\" x=\"1279.5\" y=\"-52.8\" font-family=\"Helvetica,sans-Serif\" font-size=\"14.00\" fill=\"#000000\">entropy = 0.051</text>\n<text text-anchor=\"start\" x=\"1278.5\" y=\"-37.8\" font-family=\"Helvetica,sans-Serif\" font-size=\"14.00\" fill=\"#000000\">samples = 1038</text>\n<text text-anchor=\"start\" x=\"1276.5\" y=\"-22.8\" font-family=\"Helvetica,sans-Serif\" font-size=\"14.00\" fill=\"#000000\">value = [6, 1032]</text>\n<text text-anchor=\"start\" x=\"1301.5\" y=\"-7.8\" font-family=\"Helvetica,sans-Serif\" font-size=\"14.00\" fill=\"#000000\">class = 1</text>\n</g>\n<!-- 22&#45;&gt;24 -->\n<g id=\"edge24\" class=\"edge\">\n<title>22&#45;&gt;24</title>\n<path fill=\"none\" stroke=\"#000000\" d=\"M1234.2113,-121.8126C1250.5153,-106.9438 1268.8657,-90.2087 1285.1401,-75.367\"/>\n<polygon fill=\"#000000\" stroke=\"#000000\" points=\"1287.914,-77.5741 1292.9444,-68.2496 1283.1972,-72.4019 1287.914,-77.5741\"/>\n</g>\n<!-- 27 -->\n<g id=\"node28\" class=\"node\">\n<title>27</title>\n<path fill=\"#e6853f\" stroke=\"#000000\" d=\"M1758.5,-479C1758.5,-479 1658.5,-479 1658.5,-479 1652.5,-479 1646.5,-473 1646.5,-467 1646.5,-467 1646.5,-408 1646.5,-408 1646.5,-402 1652.5,-396 1658.5,-396 1658.5,-396 1758.5,-396 1758.5,-396 1764.5,-396 1770.5,-402 1770.5,-408 1770.5,-408 1770.5,-467 1770.5,-467 1770.5,-473 1764.5,-479 1758.5,-479\"/>\n<text text-anchor=\"start\" x=\"1659\" y=\"-463.8\" font-family=\"Helvetica,sans-Serif\" font-size=\"14.00\" fill=\"#000000\">density ≤ 0.993</text>\n<text text-anchor=\"start\" x=\"1657.5\" y=\"-448.8\" font-family=\"Helvetica,sans-Serif\" font-size=\"14.00\" fill=\"#000000\">entropy = 0.196</text>\n<text text-anchor=\"start\" x=\"1660.5\" y=\"-433.8\" font-family=\"Helvetica,sans-Serif\" font-size=\"14.00\" fill=\"#000000\">samples = 924</text>\n<text text-anchor=\"start\" x=\"1654.5\" y=\"-418.8\" font-family=\"Helvetica,sans-Serif\" font-size=\"14.00\" fill=\"#000000\">value = [896, 28]</text>\n<text text-anchor=\"start\" x=\"1679.5\" y=\"-403.8\" font-family=\"Helvetica,sans-Serif\" font-size=\"14.00\" fill=\"#000000\">class = 0</text>\n</g>\n<!-- 26&#45;&gt;27 -->\n<g id=\"edge27\" class=\"edge\">\n<title>26&#45;&gt;27</title>\n<path fill=\"none\" stroke=\"#000000\" d=\"M1708.5,-532.6511C1708.5,-518.9738 1708.5,-503.6171 1708.5,-489.2974\"/>\n<polygon fill=\"#000000\" stroke=\"#000000\" points=\"1712.0001,-489.0926 1708.5,-479.0927 1705.0001,-489.0927 1712.0001,-489.0926\"/>\n</g>\n<!-- 40 -->\n<g id=\"node41\" class=\"node\">\n<title>40</title>\n<path fill=\"#7bbeee\" stroke=\"#000000\" d=\"M2503.5,-479C2503.5,-479 2343.5,-479 2343.5,-479 2337.5,-479 2331.5,-473 2331.5,-467 2331.5,-467 2331.5,-408 2331.5,-408 2331.5,-402 2337.5,-396 2343.5,-396 2343.5,-396 2503.5,-396 2503.5,-396 2509.5,-396 2515.5,-402 2515.5,-408 2515.5,-408 2515.5,-467 2515.5,-467 2515.5,-473 2509.5,-479 2503.5,-479\"/>\n<text text-anchor=\"start\" x=\"2339.5\" y=\"-463.8\" font-family=\"Helvetica,sans-Serif\" font-size=\"14.00\" fill=\"#000000\">total.sulfur.dioxide ≤ 153.0</text>\n<text text-anchor=\"start\" x=\"2372.5\" y=\"-448.8\" font-family=\"Helvetica,sans-Serif\" font-size=\"14.00\" fill=\"#000000\">entropy = 0.813</text>\n<text text-anchor=\"start\" x=\"2375.5\" y=\"-433.8\" font-family=\"Helvetica,sans-Serif\" font-size=\"14.00\" fill=\"#000000\">samples = 299</text>\n<text text-anchor=\"start\" x=\"2369.5\" y=\"-418.8\" font-family=\"Helvetica,sans-Serif\" font-size=\"14.00\" fill=\"#000000\">value = [75, 224]</text>\n<text text-anchor=\"start\" x=\"2394.5\" y=\"-403.8\" font-family=\"Helvetica,sans-Serif\" font-size=\"14.00\" fill=\"#000000\">class = 1</text>\n</g>\n<!-- 26&#45;&gt;40 -->\n<g id=\"edge40\" class=\"edge\">\n<title>26&#45;&gt;40</title>\n<path fill=\"none\" stroke=\"#000000\" d=\"M1800.51,-556.8701C1934.3973,-531.2162 2182.0986,-483.7545 2321.4356,-457.0564\"/>\n<polygon fill=\"#000000\" stroke=\"#000000\" points=\"2322.1149,-460.49 2331.2776,-455.1706 2320.7976,-453.6151 2322.1149,-460.49\"/>\n</g>\n<!-- 28 -->\n<g id=\"node29\" class=\"node\">\n<title>28</title>\n<path fill=\"#88c4ef\" stroke=\"#000000\" d=\"M1671.5,-342C1671.5,-342 1519.5,-342 1519.5,-342 1513.5,-342 1507.5,-336 1507.5,-330 1507.5,-330 1507.5,-271 1507.5,-271 1507.5,-265 1513.5,-259 1519.5,-259 1519.5,-259 1671.5,-259 1671.5,-259 1677.5,-259 1683.5,-265 1683.5,-271 1683.5,-271 1683.5,-330 1683.5,-330 1683.5,-336 1677.5,-342 1671.5,-342\"/>\n<text text-anchor=\"start\" x=\"1515.5\" y=\"-326.8\" font-family=\"Helvetica,sans-Serif\" font-size=\"14.00\" fill=\"#000000\">total.sulfur.dioxide ≤ 44.5</text>\n<text text-anchor=\"start\" x=\"1544.5\" y=\"-311.8\" font-family=\"Helvetica,sans-Serif\" font-size=\"14.00\" fill=\"#000000\">entropy = 0.863</text>\n<text text-anchor=\"start\" x=\"1551.5\" y=\"-296.8\" font-family=\"Helvetica,sans-Serif\" font-size=\"14.00\" fill=\"#000000\">samples = 28</text>\n<text text-anchor=\"start\" x=\"1550\" y=\"-281.8\" font-family=\"Helvetica,sans-Serif\" font-size=\"14.00\" fill=\"#000000\">value = [8, 20]</text>\n<text text-anchor=\"start\" x=\"1566.5\" y=\"-266.8\" font-family=\"Helvetica,sans-Serif\" font-size=\"14.00\" fill=\"#000000\">class = 1</text>\n</g>\n<!-- 27&#45;&gt;28 -->\n<g id=\"edge28\" class=\"edge\">\n<title>27&#45;&gt;28</title>\n<path fill=\"none\" stroke=\"#000000\" d=\"M1673.9823,-395.6511C1662.1534,-381.3098 1648.8015,-365.1222 1636.5097,-350.2197\"/>\n<polygon fill=\"#000000\" stroke=\"#000000\" points=\"1638.8694,-347.58 1629.8064,-342.0927 1633.4693,-352.0342 1638.8694,-347.58\"/>\n</g>\n<!-- 33 -->\n<g id=\"node34\" class=\"node\">\n<title>33</title>\n<path fill=\"#e5823b\" stroke=\"#000000\" d=\"M1897.5,-342C1897.5,-342 1745.5,-342 1745.5,-342 1739.5,-342 1733.5,-336 1733.5,-330 1733.5,-330 1733.5,-271 1733.5,-271 1733.5,-265 1739.5,-259 1745.5,-259 1745.5,-259 1897.5,-259 1897.5,-259 1903.5,-259 1909.5,-265 1909.5,-271 1909.5,-271 1909.5,-330 1909.5,-330 1909.5,-336 1903.5,-342 1897.5,-342\"/>\n<text text-anchor=\"start\" x=\"1741.5\" y=\"-326.8\" font-family=\"Helvetica,sans-Serif\" font-size=\"14.00\" fill=\"#000000\">total.sulfur.dioxide ≤ 89.5</text>\n<text text-anchor=\"start\" x=\"1770.5\" y=\"-311.8\" font-family=\"Helvetica,sans-Serif\" font-size=\"14.00\" fill=\"#000000\">entropy = 0.074</text>\n<text text-anchor=\"start\" x=\"1773.5\" y=\"-296.8\" font-family=\"Helvetica,sans-Serif\" font-size=\"14.00\" fill=\"#000000\">samples = 896</text>\n<text text-anchor=\"start\" x=\"1771.5\" y=\"-281.8\" font-family=\"Helvetica,sans-Serif\" font-size=\"14.00\" fill=\"#000000\">value = [888, 8]</text>\n<text text-anchor=\"start\" x=\"1792.5\" y=\"-266.8\" font-family=\"Helvetica,sans-Serif\" font-size=\"14.00\" fill=\"#000000\">class = 0</text>\n</g>\n<!-- 27&#45;&gt;33 -->\n<g id=\"edge33\" class=\"edge\">\n<title>27&#45;&gt;33</title>\n<path fill=\"none\" stroke=\"#000000\" d=\"M1743.0177,-395.6511C1754.8466,-381.3098 1768.1985,-365.1222 1780.4903,-350.2197\"/>\n<polygon fill=\"#000000\" stroke=\"#000000\" points=\"1783.5307,-352.0342 1787.1936,-342.0927 1778.1306,-347.58 1783.5307,-352.0342\"/>\n</g>\n<!-- 29 -->\n<g id=\"node30\" class=\"node\">\n<title>29</title>\n<path fill=\"#e58139\" stroke=\"#000000\" d=\"M1506,-197.5C1506,-197.5 1429,-197.5 1429,-197.5 1423,-197.5 1417,-191.5 1417,-185.5 1417,-185.5 1417,-141.5 1417,-141.5 1417,-135.5 1423,-129.5 1429,-129.5 1429,-129.5 1506,-129.5 1506,-129.5 1512,-129.5 1518,-135.5 1518,-141.5 1518,-141.5 1518,-185.5 1518,-185.5 1518,-191.5 1512,-197.5 1506,-197.5\"/>\n<text text-anchor=\"start\" x=\"1425\" y=\"-182.3\" font-family=\"Helvetica,sans-Serif\" font-size=\"14.00\" fill=\"#000000\">entropy = 0.0</text>\n<text text-anchor=\"start\" x=\"1428\" y=\"-167.3\" font-family=\"Helvetica,sans-Serif\" font-size=\"14.00\" fill=\"#000000\">samples = 7</text>\n<text text-anchor=\"start\" x=\"1426\" y=\"-152.3\" font-family=\"Helvetica,sans-Serif\" font-size=\"14.00\" fill=\"#000000\">value = [7, 0]</text>\n<text text-anchor=\"start\" x=\"1438.5\" y=\"-137.3\" font-family=\"Helvetica,sans-Serif\" font-size=\"14.00\" fill=\"#000000\">class = 0</text>\n</g>\n<!-- 28&#45;&gt;29 -->\n<g id=\"edge29\" class=\"edge\">\n<title>28&#45;&gt;29</title>\n<path fill=\"none\" stroke=\"#000000\" d=\"M1556.4003,-258.6511C1540.5888,-241.7278 1522.375,-222.2334 1506.5669,-205.3138\"/>\n<polygon fill=\"#000000\" stroke=\"#000000\" points=\"1508.8747,-202.6571 1499.4902,-197.7395 1503.7598,-207.436 1508.8747,-202.6571\"/>\n</g>\n<!-- 30 -->\n<g id=\"node31\" class=\"node\">\n<title>30</title>\n<path fill=\"#43a2e6\" stroke=\"#000000\" d=\"M1642.5,-205C1642.5,-205 1548.5,-205 1548.5,-205 1542.5,-205 1536.5,-199 1536.5,-193 1536.5,-193 1536.5,-134 1536.5,-134 1536.5,-128 1542.5,-122 1548.5,-122 1548.5,-122 1642.5,-122 1642.5,-122 1648.5,-122 1654.5,-128 1654.5,-134 1654.5,-134 1654.5,-193 1654.5,-193 1654.5,-199 1648.5,-205 1642.5,-205\"/>\n<text text-anchor=\"start\" x=\"1546\" y=\"-189.8\" font-family=\"Helvetica,sans-Serif\" font-size=\"14.00\" fill=\"#000000\">density ≤ 0.993</text>\n<text text-anchor=\"start\" x=\"1544.5\" y=\"-174.8\" font-family=\"Helvetica,sans-Serif\" font-size=\"14.00\" fill=\"#000000\">entropy = 0.276</text>\n<text text-anchor=\"start\" x=\"1551.5\" y=\"-159.8\" font-family=\"Helvetica,sans-Serif\" font-size=\"14.00\" fill=\"#000000\">samples = 21</text>\n<text text-anchor=\"start\" x=\"1550\" y=\"-144.8\" font-family=\"Helvetica,sans-Serif\" font-size=\"14.00\" fill=\"#000000\">value = [1, 20]</text>\n<text text-anchor=\"start\" x=\"1566.5\" y=\"-129.8\" font-family=\"Helvetica,sans-Serif\" font-size=\"14.00\" fill=\"#000000\">class = 1</text>\n</g>\n<!-- 28&#45;&gt;30 -->\n<g id=\"edge30\" class=\"edge\">\n<title>28&#45;&gt;30</title>\n<path fill=\"none\" stroke=\"#000000\" d=\"M1595.5,-258.6511C1595.5,-244.9738 1595.5,-229.6171 1595.5,-215.2974\"/>\n<polygon fill=\"#000000\" stroke=\"#000000\" points=\"1599.0001,-215.0926 1595.5,-205.0927 1592.0001,-215.0927 1599.0001,-215.0926\"/>\n</g>\n<!-- 31 -->\n<g id=\"node32\" class=\"node\">\n<title>31</title>\n<path fill=\"#399de5\" stroke=\"#000000\" d=\"M1506,-68C1506,-68 1423,-68 1423,-68 1417,-68 1411,-62 1411,-56 1411,-56 1411,-12 1411,-12 1411,-6 1417,0 1423,0 1423,0 1506,0 1506,0 1512,0 1518,-6 1518,-12 1518,-12 1518,-56 1518,-56 1518,-62 1512,-68 1506,-68\"/>\n<text text-anchor=\"start\" x=\"1422\" y=\"-52.8\" font-family=\"Helvetica,sans-Serif\" font-size=\"14.00\" fill=\"#000000\">entropy = 0.0</text>\n<text text-anchor=\"start\" x=\"1420.5\" y=\"-37.8\" font-family=\"Helvetica,sans-Serif\" font-size=\"14.00\" fill=\"#000000\">samples = 17</text>\n<text text-anchor=\"start\" x=\"1419\" y=\"-22.8\" font-family=\"Helvetica,sans-Serif\" font-size=\"14.00\" fill=\"#000000\">value = [0, 17]</text>\n<text text-anchor=\"start\" x=\"1435.5\" y=\"-7.8\" font-family=\"Helvetica,sans-Serif\" font-size=\"14.00\" fill=\"#000000\">class = 1</text>\n</g>\n<!-- 30&#45;&gt;31 -->\n<g id=\"edge31\" class=\"edge\">\n<title>30&#45;&gt;31</title>\n<path fill=\"none\" stroke=\"#000000\" d=\"M1553.3297,-121.8126C1538.2887,-106.9438 1521.3598,-90.2087 1506.3461,-75.367\"/>\n<polygon fill=\"#000000\" stroke=\"#000000\" points=\"1508.7186,-72.7908 1499.1463,-68.2496 1503.7974,-77.769 1508.7186,-72.7908\"/>\n</g>\n<!-- 32 -->\n<g id=\"node33\" class=\"node\">\n<title>32</title>\n<path fill=\"#7bbeee\" stroke=\"#000000\" d=\"M1642.5,-68C1642.5,-68 1548.5,-68 1548.5,-68 1542.5,-68 1536.5,-62 1536.5,-56 1536.5,-56 1536.5,-12 1536.5,-12 1536.5,-6 1542.5,0 1548.5,0 1548.5,0 1642.5,0 1642.5,0 1648.5,0 1654.5,-6 1654.5,-12 1654.5,-12 1654.5,-56 1654.5,-56 1654.5,-62 1648.5,-68 1642.5,-68\"/>\n<text text-anchor=\"start\" x=\"1544.5\" y=\"-52.8\" font-family=\"Helvetica,sans-Serif\" font-size=\"14.00\" fill=\"#000000\">entropy = 0.811</text>\n<text text-anchor=\"start\" x=\"1556\" y=\"-37.8\" font-family=\"Helvetica,sans-Serif\" font-size=\"14.00\" fill=\"#000000\">samples = 4</text>\n<text text-anchor=\"start\" x=\"1554\" y=\"-22.8\" font-family=\"Helvetica,sans-Serif\" font-size=\"14.00\" fill=\"#000000\">value = [1, 3]</text>\n<text text-anchor=\"start\" x=\"1566.5\" y=\"-7.8\" font-family=\"Helvetica,sans-Serif\" font-size=\"14.00\" fill=\"#000000\">class = 1</text>\n</g>\n<!-- 30&#45;&gt;32 -->\n<g id=\"edge32\" class=\"edge\">\n<title>30&#45;&gt;32</title>\n<path fill=\"none\" stroke=\"#000000\" d=\"M1595.5,-121.8126C1595.5,-108.0252 1595.5,-92.633 1595.5,-78.6338\"/>\n<polygon fill=\"#000000\" stroke=\"#000000\" points=\"1599.0001,-78.2496 1595.5,-68.2496 1592.0001,-78.2497 1599.0001,-78.2496\"/>\n</g>\n<!-- 34 -->\n<g id=\"node35\" class=\"node\">\n<title>34</title>\n<path fill=\"#e58139\" stroke=\"#000000\" d=\"M1868.5,-205C1868.5,-205 1774.5,-205 1774.5,-205 1768.5,-205 1762.5,-199 1762.5,-193 1762.5,-193 1762.5,-134 1762.5,-134 1762.5,-128 1768.5,-122 1774.5,-122 1774.5,-122 1868.5,-122 1868.5,-122 1874.5,-122 1880.5,-128 1880.5,-134 1880.5,-134 1880.5,-193 1880.5,-193 1880.5,-199 1874.5,-205 1868.5,-205\"/>\n<text text-anchor=\"start\" x=\"1772\" y=\"-189.8\" font-family=\"Helvetica,sans-Serif\" font-size=\"14.00\" fill=\"#000000\">density ≤ 0.994</text>\n<text text-anchor=\"start\" x=\"1770.5\" y=\"-174.8\" font-family=\"Helvetica,sans-Serif\" font-size=\"14.00\" fill=\"#000000\">entropy = 0.024</text>\n<text text-anchor=\"start\" x=\"1773.5\" y=\"-159.8\" font-family=\"Helvetica,sans-Serif\" font-size=\"14.00\" fill=\"#000000\">samples = 847</text>\n<text text-anchor=\"start\" x=\"1771.5\" y=\"-144.8\" font-family=\"Helvetica,sans-Serif\" font-size=\"14.00\" fill=\"#000000\">value = [845, 2]</text>\n<text text-anchor=\"start\" x=\"1792.5\" y=\"-129.8\" font-family=\"Helvetica,sans-Serif\" font-size=\"14.00\" fill=\"#000000\">class = 0</text>\n</g>\n<!-- 33&#45;&gt;34 -->\n<g id=\"edge34\" class=\"edge\">\n<title>33&#45;&gt;34</title>\n<path fill=\"none\" stroke=\"#000000\" d=\"M1821.5,-258.6511C1821.5,-244.9738 1821.5,-229.6171 1821.5,-215.2974\"/>\n<polygon fill=\"#000000\" stroke=\"#000000\" points=\"1825.0001,-215.0926 1821.5,-205.0927 1818.0001,-215.0927 1825.0001,-215.0926\"/>\n</g>\n<!-- 37 -->\n<g id=\"node38\" class=\"node\">\n<title>37</title>\n<path fill=\"#e99355\" stroke=\"#000000\" d=\"M2045,-205C2045,-205 1942,-205 1942,-205 1936,-205 1930,-199 1930,-193 1930,-193 1930,-134 1930,-134 1930,-128 1936,-122 1942,-122 1942,-122 2045,-122 2045,-122 2051,-122 2057,-128 2057,-134 2057,-134 2057,-193 2057,-193 2057,-199 2051,-205 2045,-205\"/>\n<text text-anchor=\"start\" x=\"1938\" y=\"-189.8\" font-family=\"Helvetica,sans-Serif\" font-size=\"14.00\" fill=\"#000000\">chlorides ≤ 0.068</text>\n<text text-anchor=\"start\" x=\"1942.5\" y=\"-174.8\" font-family=\"Helvetica,sans-Serif\" font-size=\"14.00\" fill=\"#000000\">entropy = 0.536</text>\n<text text-anchor=\"start\" x=\"1949.5\" y=\"-159.8\" font-family=\"Helvetica,sans-Serif\" font-size=\"14.00\" fill=\"#000000\">samples = 49</text>\n<text text-anchor=\"start\" x=\"1948\" y=\"-144.8\" font-family=\"Helvetica,sans-Serif\" font-size=\"14.00\" fill=\"#000000\">value = [43, 6]</text>\n<text text-anchor=\"start\" x=\"1964.5\" y=\"-129.8\" font-family=\"Helvetica,sans-Serif\" font-size=\"14.00\" fill=\"#000000\">class = 0</text>\n</g>\n<!-- 33&#45;&gt;37 -->\n<g id=\"edge37\" class=\"edge\">\n<title>33&#45;&gt;37</title>\n<path fill=\"none\" stroke=\"#000000\" d=\"M1874.0403,-258.6511C1892.7955,-243.7123 1914.0661,-226.77 1933.4082,-211.3638\"/>\n<polygon fill=\"#000000\" stroke=\"#000000\" points=\"1935.6401,-214.0607 1941.2815,-205.0927 1931.2789,-208.5853 1935.6401,-214.0607\"/>\n</g>\n<!-- 35 -->\n<g id=\"node36\" class=\"node\">\n<title>35</title>\n<path fill=\"#e68641\" stroke=\"#000000\" d=\"M1778.5,-68C1778.5,-68 1684.5,-68 1684.5,-68 1678.5,-68 1672.5,-62 1672.5,-56 1672.5,-56 1672.5,-12 1672.5,-12 1672.5,-6 1678.5,0 1684.5,0 1684.5,0 1778.5,0 1778.5,0 1784.5,0 1790.5,-6 1790.5,-12 1790.5,-12 1790.5,-56 1790.5,-56 1790.5,-62 1784.5,-68 1778.5,-68\"/>\n<text text-anchor=\"start\" x=\"1680.5\" y=\"-52.8\" font-family=\"Helvetica,sans-Serif\" font-size=\"14.00\" fill=\"#000000\">entropy = 0.239</text>\n<text text-anchor=\"start\" x=\"1687.5\" y=\"-37.8\" font-family=\"Helvetica,sans-Serif\" font-size=\"14.00\" fill=\"#000000\">samples = 51</text>\n<text text-anchor=\"start\" x=\"1686\" y=\"-22.8\" font-family=\"Helvetica,sans-Serif\" font-size=\"14.00\" fill=\"#000000\">value = [49, 2]</text>\n<text text-anchor=\"start\" x=\"1702.5\" y=\"-7.8\" font-family=\"Helvetica,sans-Serif\" font-size=\"14.00\" fill=\"#000000\">class = 0</text>\n</g>\n<!-- 34&#45;&gt;35 -->\n<g id=\"edge35\" class=\"edge\">\n<title>34&#45;&gt;35</title>\n<path fill=\"none\" stroke=\"#000000\" d=\"M1792.528,-121.8126C1782.4764,-107.3493 1771.1974,-91.1201 1761.0961,-76.5855\"/>\n<polygon fill=\"#000000\" stroke=\"#000000\" points=\"1763.8839,-74.4638 1755.3028,-68.2496 1758.1357,-78.4587 1763.8839,-74.4638\"/>\n</g>\n<!-- 36 -->\n<g id=\"node37\" class=\"node\">\n<title>36</title>\n<path fill=\"#e58139\" stroke=\"#000000\" d=\"M1912.5,-68C1912.5,-68 1820.5,-68 1820.5,-68 1814.5,-68 1808.5,-62 1808.5,-56 1808.5,-56 1808.5,-12 1808.5,-12 1808.5,-6 1814.5,0 1820.5,0 1820.5,0 1912.5,0 1912.5,0 1918.5,0 1924.5,-6 1924.5,-12 1924.5,-12 1924.5,-56 1924.5,-56 1924.5,-62 1918.5,-68 1912.5,-68\"/>\n<text text-anchor=\"start\" x=\"1824\" y=\"-52.8\" font-family=\"Helvetica,sans-Serif\" font-size=\"14.00\" fill=\"#000000\">entropy = 0.0</text>\n<text text-anchor=\"start\" x=\"1818.5\" y=\"-37.8\" font-family=\"Helvetica,sans-Serif\" font-size=\"14.00\" fill=\"#000000\">samples = 796</text>\n<text text-anchor=\"start\" x=\"1816.5\" y=\"-22.8\" font-family=\"Helvetica,sans-Serif\" font-size=\"14.00\" fill=\"#000000\">value = [796, 0]</text>\n<text text-anchor=\"start\" x=\"1837.5\" y=\"-7.8\" font-family=\"Helvetica,sans-Serif\" font-size=\"14.00\" fill=\"#000000\">class = 0</text>\n</g>\n<!-- 34&#45;&gt;36 -->\n<g id=\"edge36\" class=\"edge\">\n<title>34&#45;&gt;36</title>\n<path fill=\"none\" stroke=\"#000000\" d=\"M1835.986,-121.8126C1840.8709,-107.7548 1846.3356,-92.0288 1851.2758,-77.8119\"/>\n<polygon fill=\"#000000\" stroke=\"#000000\" points=\"1854.6222,-78.8444 1854.5986,-68.2496 1848.0101,-76.5467 1854.6222,-78.8444\"/>\n</g>\n<!-- 38 -->\n<g id=\"node39\" class=\"node\">\n<title>38</title>\n<path fill=\"#399de5\" stroke=\"#000000\" d=\"M2032,-68C2032,-68 1955,-68 1955,-68 1949,-68 1943,-62 1943,-56 1943,-56 1943,-12 1943,-12 1943,-6 1949,0 1955,0 1955,0 2032,0 2032,0 2038,0 2044,-6 2044,-12 2044,-12 2044,-56 2044,-56 2044,-62 2038,-68 2032,-68\"/>\n<text text-anchor=\"start\" x=\"1951\" y=\"-52.8\" font-family=\"Helvetica,sans-Serif\" font-size=\"14.00\" fill=\"#000000\">entropy = 0.0</text>\n<text text-anchor=\"start\" x=\"1954\" y=\"-37.8\" font-family=\"Helvetica,sans-Serif\" font-size=\"14.00\" fill=\"#000000\">samples = 3</text>\n<text text-anchor=\"start\" x=\"1952\" y=\"-22.8\" font-family=\"Helvetica,sans-Serif\" font-size=\"14.00\" fill=\"#000000\">value = [0, 3]</text>\n<text text-anchor=\"start\" x=\"1964.5\" y=\"-7.8\" font-family=\"Helvetica,sans-Serif\" font-size=\"14.00\" fill=\"#000000\">class = 1</text>\n</g>\n<!-- 37&#45;&gt;38 -->\n<g id=\"edge38\" class=\"edge\">\n<title>37&#45;&gt;38</title>\n<path fill=\"none\" stroke=\"#000000\" d=\"M1993.5,-121.8126C1993.5,-108.0252 1993.5,-92.633 1993.5,-78.6338\"/>\n<polygon fill=\"#000000\" stroke=\"#000000\" points=\"1997.0001,-78.2496 1993.5,-68.2496 1990.0001,-78.2497 1997.0001,-78.2496\"/>\n</g>\n<!-- 39 -->\n<g id=\"node40\" class=\"node\">\n<title>39</title>\n<path fill=\"#e78a47\" stroke=\"#000000\" d=\"M2168.5,-68C2168.5,-68 2074.5,-68 2074.5,-68 2068.5,-68 2062.5,-62 2062.5,-56 2062.5,-56 2062.5,-12 2062.5,-12 2062.5,-6 2068.5,0 2074.5,0 2074.5,0 2168.5,0 2168.5,0 2174.5,0 2180.5,-6 2180.5,-12 2180.5,-12 2180.5,-56 2180.5,-56 2180.5,-62 2174.5,-68 2168.5,-68\"/>\n<text text-anchor=\"start\" x=\"2070.5\" y=\"-52.8\" font-family=\"Helvetica,sans-Serif\" font-size=\"14.00\" fill=\"#000000\">entropy = 0.348</text>\n<text text-anchor=\"start\" x=\"2077.5\" y=\"-37.8\" font-family=\"Helvetica,sans-Serif\" font-size=\"14.00\" fill=\"#000000\">samples = 46</text>\n<text text-anchor=\"start\" x=\"2076\" y=\"-22.8\" font-family=\"Helvetica,sans-Serif\" font-size=\"14.00\" fill=\"#000000\">value = [43, 3]</text>\n<text text-anchor=\"start\" x=\"2092.5\" y=\"-7.8\" font-family=\"Helvetica,sans-Serif\" font-size=\"14.00\" fill=\"#000000\">class = 0</text>\n</g>\n<!-- 37&#45;&gt;39 -->\n<g id=\"edge39\" class=\"edge\">\n<title>37&#45;&gt;39</title>\n<path fill=\"none\" stroke=\"#000000\" d=\"M2034.7046,-121.8126C2049.4011,-106.9438 2065.9424,-90.2087 2080.6122,-75.367\"/>\n<polygon fill=\"#000000\" stroke=\"#000000\" points=\"2083.1066,-77.8222 2087.6471,-68.2496 2078.128,-72.9014 2083.1066,-77.8222\"/>\n</g>\n<!-- 41 -->\n<g id=\"node42\" class=\"node\">\n<title>41</title>\n<path fill=\"#c7e3f8\" stroke=\"#000000\" d=\"M2473.5,-342C2473.5,-342 2373.5,-342 2373.5,-342 2367.5,-342 2361.5,-336 2361.5,-330 2361.5,-330 2361.5,-271 2361.5,-271 2361.5,-265 2367.5,-259 2373.5,-259 2373.5,-259 2473.5,-259 2473.5,-259 2479.5,-259 2485.5,-265 2485.5,-271 2485.5,-271 2485.5,-330 2485.5,-330 2485.5,-336 2479.5,-342 2473.5,-342\"/>\n<text text-anchor=\"start\" x=\"2374\" y=\"-326.8\" font-family=\"Helvetica,sans-Serif\" font-size=\"14.00\" fill=\"#000000\">density ≤ 0.995</text>\n<text text-anchor=\"start\" x=\"2376.5\" y=\"-311.8\" font-family=\"Helvetica,sans-Serif\" font-size=\"14.00\" fill=\"#000000\">entropy = 0.98</text>\n<text text-anchor=\"start\" x=\"2375.5\" y=\"-296.8\" font-family=\"Helvetica,sans-Serif\" font-size=\"14.00\" fill=\"#000000\">samples = 175</text>\n<text text-anchor=\"start\" x=\"2369.5\" y=\"-281.8\" font-family=\"Helvetica,sans-Serif\" font-size=\"14.00\" fill=\"#000000\">value = [73, 102]</text>\n<text text-anchor=\"start\" x=\"2394.5\" y=\"-266.8\" font-family=\"Helvetica,sans-Serif\" font-size=\"14.00\" fill=\"#000000\">class = 1</text>\n</g>\n<!-- 40&#45;&gt;41 -->\n<g id=\"edge41\" class=\"edge\">\n<title>40&#45;&gt;41</title>\n<path fill=\"none\" stroke=\"#000000\" d=\"M2423.5,-395.6511C2423.5,-381.9738 2423.5,-366.6171 2423.5,-352.2974\"/>\n<polygon fill=\"#000000\" stroke=\"#000000\" points=\"2427.0001,-352.0926 2423.5,-342.0927 2420.0001,-352.0927 2427.0001,-352.0926\"/>\n</g>\n<!-- 48 -->\n<g id=\"node49\" class=\"node\">\n<title>48</title>\n<path fill=\"#3c9fe5\" stroke=\"#000000\" d=\"M2693.5,-342C2693.5,-342 2599.5,-342 2599.5,-342 2593.5,-342 2587.5,-336 2587.5,-330 2587.5,-330 2587.5,-271 2587.5,-271 2587.5,-265 2593.5,-259 2599.5,-259 2599.5,-259 2693.5,-259 2693.5,-259 2699.5,-259 2705.5,-265 2705.5,-271 2705.5,-271 2705.5,-330 2705.5,-330 2705.5,-336 2699.5,-342 2693.5,-342\"/>\n<text text-anchor=\"start\" x=\"2597\" y=\"-326.8\" font-family=\"Helvetica,sans-Serif\" font-size=\"14.00\" fill=\"#000000\">density ≤ 0.992</text>\n<text text-anchor=\"start\" x=\"2595.5\" y=\"-311.8\" font-family=\"Helvetica,sans-Serif\" font-size=\"14.00\" fill=\"#000000\">entropy = 0.119</text>\n<text text-anchor=\"start\" x=\"2598.5\" y=\"-296.8\" font-family=\"Helvetica,sans-Serif\" font-size=\"14.00\" fill=\"#000000\">samples = 124</text>\n<text text-anchor=\"start\" x=\"2596.5\" y=\"-281.8\" font-family=\"Helvetica,sans-Serif\" font-size=\"14.00\" fill=\"#000000\">value = [2, 122]</text>\n<text text-anchor=\"start\" x=\"2617.5\" y=\"-266.8\" font-family=\"Helvetica,sans-Serif\" font-size=\"14.00\" fill=\"#000000\">class = 1</text>\n</g>\n<!-- 40&#45;&gt;48 -->\n<g id=\"edge48\" class=\"edge\">\n<title>40&#45;&gt;48</title>\n<path fill=\"none\" stroke=\"#000000\" d=\"M2491.3156,-395.8375C2518.9504,-378.8601 2550.8376,-359.2702 2578.4921,-342.2807\"/>\n<polygon fill=\"#000000\" stroke=\"#000000\" points=\"2580.6229,-345.0794 2587.3113,-336.8626 2576.9586,-339.115 2580.6229,-345.0794\"/>\n</g>\n<!-- 42 -->\n<g id=\"node43\" class=\"node\">\n<title>42</title>\n<path fill=\"#3ea0e6\" stroke=\"#000000\" d=\"M2420.5,-205C2420.5,-205 2260.5,-205 2260.5,-205 2254.5,-205 2248.5,-199 2248.5,-193 2248.5,-193 2248.5,-134 2248.5,-134 2248.5,-128 2254.5,-122 2260.5,-122 2260.5,-122 2420.5,-122 2420.5,-122 2426.5,-122 2432.5,-128 2432.5,-134 2432.5,-134 2432.5,-193 2432.5,-193 2432.5,-199 2426.5,-205 2420.5,-205\"/>\n<text text-anchor=\"start\" x=\"2256.5\" y=\"-189.8\" font-family=\"Helvetica,sans-Serif\" font-size=\"14.00\" fill=\"#000000\">total.sulfur.dioxide ≤ 147.0</text>\n<text text-anchor=\"start\" x=\"2289.5\" y=\"-174.8\" font-family=\"Helvetica,sans-Serif\" font-size=\"14.00\" fill=\"#000000\">entropy = 0.172</text>\n<text text-anchor=\"start\" x=\"2296.5\" y=\"-159.8\" font-family=\"Helvetica,sans-Serif\" font-size=\"14.00\" fill=\"#000000\">samples = 78</text>\n<text text-anchor=\"start\" x=\"2295\" y=\"-144.8\" font-family=\"Helvetica,sans-Serif\" font-size=\"14.00\" fill=\"#000000\">value = [2, 76]</text>\n<text text-anchor=\"start\" x=\"2311.5\" y=\"-129.8\" font-family=\"Helvetica,sans-Serif\" font-size=\"14.00\" fill=\"#000000\">class = 1</text>\n</g>\n<!-- 41&#45;&gt;42 -->\n<g id=\"edge42\" class=\"edge\">\n<title>41&#45;&gt;42</title>\n<path fill=\"none\" stroke=\"#000000\" d=\"M2398.1463,-258.6511C2389.6187,-244.5754 2380.0135,-228.7211 2371.1245,-214.0489\"/>\n<polygon fill=\"#000000\" stroke=\"#000000\" points=\"2373.8736,-211.8319 2365.6985,-205.0927 2367.8867,-215.4591 2373.8736,-211.8319\"/>\n</g>\n<!-- 45 -->\n<g id=\"node46\" class=\"node\">\n<title>45</title>\n<path fill=\"#efaf82\" stroke=\"#000000\" d=\"M2566,-205C2566,-205 2463,-205 2463,-205 2457,-205 2451,-199 2451,-193 2451,-193 2451,-134 2451,-134 2451,-128 2457,-122 2463,-122 2463,-122 2566,-122 2566,-122 2572,-122 2578,-128 2578,-134 2578,-134 2578,-193 2578,-193 2578,-199 2572,-205 2566,-205\"/>\n<text text-anchor=\"start\" x=\"2459\" y=\"-189.8\" font-family=\"Helvetica,sans-Serif\" font-size=\"14.00\" fill=\"#000000\">chlorides ≤ 0.067</text>\n<text text-anchor=\"start\" x=\"2463.5\" y=\"-174.8\" font-family=\"Helvetica,sans-Serif\" font-size=\"14.00\" fill=\"#000000\">entropy = 0.839</text>\n<text text-anchor=\"start\" x=\"2470.5\" y=\"-159.8\" font-family=\"Helvetica,sans-Serif\" font-size=\"14.00\" fill=\"#000000\">samples = 97</text>\n<text text-anchor=\"start\" x=\"2464.5\" y=\"-144.8\" font-family=\"Helvetica,sans-Serif\" font-size=\"14.00\" fill=\"#000000\">value = [71, 26]</text>\n<text text-anchor=\"start\" x=\"2485.5\" y=\"-129.8\" font-family=\"Helvetica,sans-Serif\" font-size=\"14.00\" fill=\"#000000\">class = 0</text>\n</g>\n<!-- 41&#45;&gt;45 -->\n<g id=\"edge45\" class=\"edge\">\n<title>41&#45;&gt;45</title>\n<path fill=\"none\" stroke=\"#000000\" d=\"M2451.2975,-258.6511C2460.7352,-244.4426 2471.3768,-228.4218 2481.1993,-213.634\"/>\n<polygon fill=\"#000000\" stroke=\"#000000\" points=\"2484.2552,-215.3591 2486.8728,-205.0927 2478.4243,-211.486 2484.2552,-215.3591\"/>\n</g>\n<!-- 43 -->\n<g id=\"node44\" class=\"node\">\n<title>43</title>\n<path fill=\"#399de5\" stroke=\"#000000\" d=\"M2294,-68C2294,-68 2211,-68 2211,-68 2205,-68 2199,-62 2199,-56 2199,-56 2199,-12 2199,-12 2199,-6 2205,0 2211,0 2211,0 2294,0 2294,0 2300,0 2306,-6 2306,-12 2306,-12 2306,-56 2306,-56 2306,-62 2300,-68 2294,-68\"/>\n<text text-anchor=\"start\" x=\"2210\" y=\"-52.8\" font-family=\"Helvetica,sans-Serif\" font-size=\"14.00\" fill=\"#000000\">entropy = 0.0</text>\n<text text-anchor=\"start\" x=\"2208.5\" y=\"-37.8\" font-family=\"Helvetica,sans-Serif\" font-size=\"14.00\" fill=\"#000000\">samples = 65</text>\n<text text-anchor=\"start\" x=\"2207\" y=\"-22.8\" font-family=\"Helvetica,sans-Serif\" font-size=\"14.00\" fill=\"#000000\">value = [0, 65]</text>\n<text text-anchor=\"start\" x=\"2223.5\" y=\"-7.8\" font-family=\"Helvetica,sans-Serif\" font-size=\"14.00\" fill=\"#000000\">class = 1</text>\n</g>\n<!-- 42&#45;&gt;43 -->\n<g id=\"edge43\" class=\"edge\">\n<title>42&#45;&gt;43</title>\n<path fill=\"none\" stroke=\"#000000\" d=\"M2312.1719,-121.8126C2302.3436,-107.3493 2291.3152,-91.1201 2281.4384,-76.5855\"/>\n<polygon fill=\"#000000\" stroke=\"#000000\" points=\"2284.2893,-74.5535 2275.7739,-68.2496 2278.4995,-78.4879 2284.2893,-74.5535\"/>\n</g>\n<!-- 44 -->\n<g id=\"node45\" class=\"node\">\n<title>44</title>\n<path fill=\"#5dafea\" stroke=\"#000000\" d=\"M2430.5,-68C2430.5,-68 2336.5,-68 2336.5,-68 2330.5,-68 2324.5,-62 2324.5,-56 2324.5,-56 2324.5,-12 2324.5,-12 2324.5,-6 2330.5,0 2336.5,0 2336.5,0 2430.5,0 2430.5,0 2436.5,0 2442.5,-6 2442.5,-12 2442.5,-12 2442.5,-56 2442.5,-56 2442.5,-62 2436.5,-68 2430.5,-68\"/>\n<text text-anchor=\"start\" x=\"2332.5\" y=\"-52.8\" font-family=\"Helvetica,sans-Serif\" font-size=\"14.00\" fill=\"#000000\">entropy = 0.619</text>\n<text text-anchor=\"start\" x=\"2339.5\" y=\"-37.8\" font-family=\"Helvetica,sans-Serif\" font-size=\"14.00\" fill=\"#000000\">samples = 13</text>\n<text text-anchor=\"start\" x=\"2338\" y=\"-22.8\" font-family=\"Helvetica,sans-Serif\" font-size=\"14.00\" fill=\"#000000\">value = [2, 11]</text>\n<text text-anchor=\"start\" x=\"2354.5\" y=\"-7.8\" font-family=\"Helvetica,sans-Serif\" font-size=\"14.00\" fill=\"#000000\">class = 1</text>\n</g>\n<!-- 42&#45;&gt;44 -->\n<g id=\"edge44\" class=\"edge\">\n<title>42&#45;&gt;44</title>\n<path fill=\"none\" stroke=\"#000000\" d=\"M2354.3422,-121.8126C2359.01,-107.7548 2364.2317,-92.0288 2368.9524,-77.8119\"/>\n<polygon fill=\"#000000\" stroke=\"#000000\" points=\"2372.2979,-78.8431 2372.1275,-68.2496 2365.6545,-76.6372 2372.2979,-78.8431\"/>\n</g>\n<!-- 46 -->\n<g id=\"node47\" class=\"node\">\n<title>46</title>\n<path fill=\"#399de5\" stroke=\"#000000\" d=\"M2556,-68C2556,-68 2473,-68 2473,-68 2467,-68 2461,-62 2461,-56 2461,-56 2461,-12 2461,-12 2461,-6 2467,0 2473,0 2473,0 2556,0 2556,0 2562,0 2568,-6 2568,-12 2568,-12 2568,-56 2568,-56 2568,-62 2562,-68 2556,-68\"/>\n<text text-anchor=\"start\" x=\"2472\" y=\"-52.8\" font-family=\"Helvetica,sans-Serif\" font-size=\"14.00\" fill=\"#000000\">entropy = 0.0</text>\n<text text-anchor=\"start\" x=\"2470.5\" y=\"-37.8\" font-family=\"Helvetica,sans-Serif\" font-size=\"14.00\" fill=\"#000000\">samples = 14</text>\n<text text-anchor=\"start\" x=\"2469\" y=\"-22.8\" font-family=\"Helvetica,sans-Serif\" font-size=\"14.00\" fill=\"#000000\">value = [0, 14]</text>\n<text text-anchor=\"start\" x=\"2485.5\" y=\"-7.8\" font-family=\"Helvetica,sans-Serif\" font-size=\"14.00\" fill=\"#000000\">class = 1</text>\n</g>\n<!-- 45&#45;&gt;46 -->\n<g id=\"edge46\" class=\"edge\">\n<title>45&#45;&gt;46</title>\n<path fill=\"none\" stroke=\"#000000\" d=\"M2514.5,-121.8126C2514.5,-108.0252 2514.5,-92.633 2514.5,-78.6338\"/>\n<polygon fill=\"#000000\" stroke=\"#000000\" points=\"2518.0001,-78.2496 2514.5,-68.2496 2511.0001,-78.2497 2518.0001,-78.2496\"/>\n</g>\n<!-- 47 -->\n<g id=\"node48\" class=\"node\">\n<title>47</title>\n<path fill=\"#e9965a\" stroke=\"#000000\" d=\"M2692.5,-68C2692.5,-68 2598.5,-68 2598.5,-68 2592.5,-68 2586.5,-62 2586.5,-56 2586.5,-56 2586.5,-12 2586.5,-12 2586.5,-6 2592.5,0 2598.5,0 2598.5,0 2692.5,0 2692.5,0 2698.5,0 2704.5,-6 2704.5,-12 2704.5,-12 2704.5,-56 2704.5,-56 2704.5,-62 2698.5,-68 2692.5,-68\"/>\n<text text-anchor=\"start\" x=\"2594.5\" y=\"-52.8\" font-family=\"Helvetica,sans-Serif\" font-size=\"14.00\" fill=\"#000000\">entropy = 0.596</text>\n<text text-anchor=\"start\" x=\"2601.5\" y=\"-37.8\" font-family=\"Helvetica,sans-Serif\" font-size=\"14.00\" fill=\"#000000\">samples = 83</text>\n<text text-anchor=\"start\" x=\"2595.5\" y=\"-22.8\" font-family=\"Helvetica,sans-Serif\" font-size=\"14.00\" fill=\"#000000\">value = [71, 12]</text>\n<text text-anchor=\"start\" x=\"2616.5\" y=\"-7.8\" font-family=\"Helvetica,sans-Serif\" font-size=\"14.00\" fill=\"#000000\">class = 0</text>\n</g>\n<!-- 45&#45;&gt;47 -->\n<g id=\"edge47\" class=\"edge\">\n<title>45&#45;&gt;47</title>\n<path fill=\"none\" stroke=\"#000000\" d=\"M2556.6703,-121.8126C2571.7113,-106.9438 2588.6402,-90.2087 2603.6539,-75.367\"/>\n<polygon fill=\"#000000\" stroke=\"#000000\" points=\"2606.2026,-77.769 2610.8537,-68.2496 2601.2814,-72.7908 2606.2026,-77.769\"/>\n</g>\n<!-- 49 -->\n<g id=\"node50\" class=\"node\">\n<title>49</title>\n<path fill=\"#ffffff\" stroke=\"#000000\" d=\"M2685,-197.5C2685,-197.5 2608,-197.5 2608,-197.5 2602,-197.5 2596,-191.5 2596,-185.5 2596,-185.5 2596,-141.5 2596,-141.5 2596,-135.5 2602,-129.5 2608,-129.5 2608,-129.5 2685,-129.5 2685,-129.5 2691,-129.5 2697,-135.5 2697,-141.5 2697,-141.5 2697,-185.5 2697,-185.5 2697,-191.5 2691,-197.5 2685,-197.5\"/>\n<text text-anchor=\"start\" x=\"2604\" y=\"-182.3\" font-family=\"Helvetica,sans-Serif\" font-size=\"14.00\" fill=\"#000000\">entropy = 1.0</text>\n<text text-anchor=\"start\" x=\"2607\" y=\"-167.3\" font-family=\"Helvetica,sans-Serif\" font-size=\"14.00\" fill=\"#000000\">samples = 2</text>\n<text text-anchor=\"start\" x=\"2605\" y=\"-152.3\" font-family=\"Helvetica,sans-Serif\" font-size=\"14.00\" fill=\"#000000\">value = [1, 1]</text>\n<text text-anchor=\"start\" x=\"2617.5\" y=\"-137.3\" font-family=\"Helvetica,sans-Serif\" font-size=\"14.00\" fill=\"#000000\">class = 0</text>\n</g>\n<!-- 48&#45;&gt;49 -->\n<g id=\"edge49\" class=\"edge\">\n<title>48&#45;&gt;49</title>\n<path fill=\"none\" stroke=\"#000000\" d=\"M2646.5,-258.6511C2646.5,-242.6426 2646.5,-224.3334 2646.5,-208.0793\"/>\n<polygon fill=\"#000000\" stroke=\"#000000\" points=\"2650.0001,-207.7395 2646.5,-197.7395 2643.0001,-207.7396 2650.0001,-207.7395\"/>\n</g>\n<!-- 50 -->\n<g id=\"node51\" class=\"node\">\n<title>50</title>\n<path fill=\"#3b9ee5\" stroke=\"#000000\" d=\"M2887.5,-205C2887.5,-205 2727.5,-205 2727.5,-205 2721.5,-205 2715.5,-199 2715.5,-193 2715.5,-193 2715.5,-134 2715.5,-134 2715.5,-128 2721.5,-122 2727.5,-122 2727.5,-122 2887.5,-122 2887.5,-122 2893.5,-122 2899.5,-128 2899.5,-134 2899.5,-134 2899.5,-193 2899.5,-193 2899.5,-199 2893.5,-205 2887.5,-205\"/>\n<text text-anchor=\"start\" x=\"2723.5\" y=\"-189.8\" font-family=\"Helvetica,sans-Serif\" font-size=\"14.00\" fill=\"#000000\">total.sulfur.dioxide ≤ 160.5</text>\n<text text-anchor=\"start\" x=\"2756.5\" y=\"-174.8\" font-family=\"Helvetica,sans-Serif\" font-size=\"14.00\" fill=\"#000000\">entropy = 0.069</text>\n<text text-anchor=\"start\" x=\"2759.5\" y=\"-159.8\" font-family=\"Helvetica,sans-Serif\" font-size=\"14.00\" fill=\"#000000\">samples = 122</text>\n<text text-anchor=\"start\" x=\"2757.5\" y=\"-144.8\" font-family=\"Helvetica,sans-Serif\" font-size=\"14.00\" fill=\"#000000\">value = [1, 121]</text>\n<text text-anchor=\"start\" x=\"2778.5\" y=\"-129.8\" font-family=\"Helvetica,sans-Serif\" font-size=\"14.00\" fill=\"#000000\">class = 1</text>\n</g>\n<!-- 48&#45;&gt;50 -->\n<g id=\"edge50\" class=\"edge\">\n<title>48&#45;&gt;50</title>\n<path fill=\"none\" stroke=\"#000000\" d=\"M2695.6801,-258.6511C2713.0018,-243.9115 2732.6157,-227.2214 2750.5261,-211.9809\"/>\n<polygon fill=\"#000000\" stroke=\"#000000\" points=\"2753.2733,-214.2389 2758.621,-205.0927 2748.7369,-208.9077 2753.2733,-214.2389\"/>\n</g>\n<!-- 51 -->\n<g id=\"node52\" class=\"node\">\n<title>51</title>\n<path fill=\"#43a2e6\" stroke=\"#000000\" d=\"M2841.5,-68C2841.5,-68 2747.5,-68 2747.5,-68 2741.5,-68 2735.5,-62 2735.5,-56 2735.5,-56 2735.5,-12 2735.5,-12 2735.5,-6 2741.5,0 2747.5,0 2747.5,0 2841.5,0 2841.5,0 2847.5,0 2853.5,-6 2853.5,-12 2853.5,-12 2853.5,-56 2853.5,-56 2853.5,-62 2847.5,-68 2841.5,-68\"/>\n<text text-anchor=\"start\" x=\"2743.5\" y=\"-52.8\" font-family=\"Helvetica,sans-Serif\" font-size=\"14.00\" fill=\"#000000\">entropy = 0.286</text>\n<text text-anchor=\"start\" x=\"2750.5\" y=\"-37.8\" font-family=\"Helvetica,sans-Serif\" font-size=\"14.00\" fill=\"#000000\">samples = 20</text>\n<text text-anchor=\"start\" x=\"2749\" y=\"-22.8\" font-family=\"Helvetica,sans-Serif\" font-size=\"14.00\" fill=\"#000000\">value = [1, 19]</text>\n<text text-anchor=\"start\" x=\"2765.5\" y=\"-7.8\" font-family=\"Helvetica,sans-Serif\" font-size=\"14.00\" fill=\"#000000\">class = 1</text>\n</g>\n<!-- 50&#45;&gt;51 -->\n<g id=\"edge51\" class=\"edge\">\n<title>50&#45;&gt;51</title>\n<path fill=\"none\" stroke=\"#000000\" d=\"M2803.3152,-121.8126C2801.9175,-107.89 2800.3556,-92.3311 2798.9393,-78.2224\"/>\n<polygon fill=\"#000000\" stroke=\"#000000\" points=\"2802.4196,-77.85 2797.9382,-68.2496 2795.4546,-78.5492 2802.4196,-77.85\"/>\n</g>\n<!-- 52 -->\n<g id=\"node53\" class=\"node\">\n<title>52</title>\n<path fill=\"#399de5\" stroke=\"#000000\" d=\"M2975.5,-68C2975.5,-68 2883.5,-68 2883.5,-68 2877.5,-68 2871.5,-62 2871.5,-56 2871.5,-56 2871.5,-12 2871.5,-12 2871.5,-6 2877.5,0 2883.5,0 2883.5,0 2975.5,0 2975.5,0 2981.5,0 2987.5,-6 2987.5,-12 2987.5,-12 2987.5,-56 2987.5,-56 2987.5,-62 2981.5,-68 2975.5,-68\"/>\n<text text-anchor=\"start\" x=\"2887\" y=\"-52.8\" font-family=\"Helvetica,sans-Serif\" font-size=\"14.00\" fill=\"#000000\">entropy = 0.0</text>\n<text text-anchor=\"start\" x=\"2881.5\" y=\"-37.8\" font-family=\"Helvetica,sans-Serif\" font-size=\"14.00\" fill=\"#000000\">samples = 102</text>\n<text text-anchor=\"start\" x=\"2879.5\" y=\"-22.8\" font-family=\"Helvetica,sans-Serif\" font-size=\"14.00\" fill=\"#000000\">value = [0, 102]</text>\n<text text-anchor=\"start\" x=\"2900.5\" y=\"-7.8\" font-family=\"Helvetica,sans-Serif\" font-size=\"14.00\" fill=\"#000000\">class = 1</text>\n</g>\n<!-- 50&#45;&gt;52 -->\n<g id=\"edge52\" class=\"edge\">\n<title>50&#45;&gt;52</title>\n<path fill=\"none\" stroke=\"#000000\" d=\"M2846.7731,-121.8126C2860.6534,-107.079 2876.2601,-90.5128 2890.147,-75.7722\"/>\n<polygon fill=\"#000000\" stroke=\"#000000\" points=\"2892.9243,-77.9284 2897.2339,-68.2496 2887.8292,-73.1283 2892.9243,-77.9284\"/>\n</g>\n</g>\n</svg>\n"
          },
          "metadata": {
            "tags": []
          },
          "execution_count": 95
        }
      ]
    },
    {
      "cell_type": "code",
      "metadata": {
        "colab": {
          "base_uri": "https://localhost:8080/",
          "height": 206
        },
        "id": "7tiXIlucr-qo",
        "outputId": "807e390e-505a-46ea-b7fd-210d3b22cd76"
      },
      "source": [
        "samples = x_te[selected_features_fs_2].sample(5).sort_index()\n",
        "samples"
      ],
      "execution_count": 97,
      "outputs": [
        {
          "output_type": "execute_result",
          "data": {
            "text/html": [
              "<div>\n",
              "<style scoped>\n",
              "    .dataframe tbody tr th:only-of-type {\n",
              "        vertical-align: middle;\n",
              "    }\n",
              "\n",
              "    .dataframe tbody tr th {\n",
              "        vertical-align: top;\n",
              "    }\n",
              "\n",
              "    .dataframe thead th {\n",
              "        text-align: right;\n",
              "    }\n",
              "</style>\n",
              "<table border=\"1\" class=\"dataframe\">\n",
              "  <thead>\n",
              "    <tr style=\"text-align: right;\">\n",
              "      <th></th>\n",
              "      <th>chlorides</th>\n",
              "      <th>total.sulfur.dioxide</th>\n",
              "      <th>density</th>\n",
              "    </tr>\n",
              "  </thead>\n",
              "  <tbody>\n",
              "    <tr>\n",
              "      <th>908</th>\n",
              "      <td>0.070</td>\n",
              "      <td>26.0</td>\n",
              "      <td>0.99358</td>\n",
              "    </tr>\n",
              "    <tr>\n",
              "      <th>1277</th>\n",
              "      <td>0.070</td>\n",
              "      <td>14.0</td>\n",
              "      <td>0.99562</td>\n",
              "    </tr>\n",
              "    <tr>\n",
              "      <th>1343</th>\n",
              "      <td>0.053</td>\n",
              "      <td>27.0</td>\n",
              "      <td>0.99362</td>\n",
              "    </tr>\n",
              "    <tr>\n",
              "      <th>4104</th>\n",
              "      <td>0.055</td>\n",
              "      <td>157.0</td>\n",
              "      <td>0.99384</td>\n",
              "    </tr>\n",
              "    <tr>\n",
              "      <th>4700</th>\n",
              "      <td>0.054</td>\n",
              "      <td>143.0</td>\n",
              "      <td>0.99287</td>\n",
              "    </tr>\n",
              "  </tbody>\n",
              "</table>\n",
              "</div>"
            ],
            "text/plain": [
              "      chlorides  total.sulfur.dioxide  density\n",
              "908       0.070                  26.0  0.99358\n",
              "1277      0.070                  14.0  0.99562\n",
              "1343      0.053                  27.0  0.99362\n",
              "4104      0.055                 157.0  0.99384\n",
              "4700      0.054                 143.0  0.99287"
            ]
          },
          "metadata": {
            "tags": []
          },
          "execution_count": 97
        }
      ]
    },
    {
      "cell_type": "code",
      "metadata": {
        "colab": {
          "base_uri": "https://localhost:8080/",
          "height": 206
        },
        "id": "TxPzLpaSsJXq",
        "outputId": "de415159-9ebc-470f-e9f3-d1d90071822f"
      },
      "source": [
        "y_te[y_te.index.isin(samples.index)].sort_index(inplace = True)\n",
        "pd.DataFrame({'true_y' : y_te[y_te.index.isin(samples.index)], 'predicted_y' : model_3.predict(samples)}, index = samples.index)"
      ],
      "execution_count": 99,
      "outputs": [
        {
          "output_type": "execute_result",
          "data": {
            "text/html": [
              "<div>\n",
              "<style scoped>\n",
              "    .dataframe tbody tr th:only-of-type {\n",
              "        vertical-align: middle;\n",
              "    }\n",
              "\n",
              "    .dataframe tbody tr th {\n",
              "        vertical-align: top;\n",
              "    }\n",
              "\n",
              "    .dataframe thead th {\n",
              "        text-align: right;\n",
              "    }\n",
              "</style>\n",
              "<table border=\"1\" class=\"dataframe\">\n",
              "  <thead>\n",
              "    <tr style=\"text-align: right;\">\n",
              "      <th></th>\n",
              "      <th>true_y</th>\n",
              "      <th>predicted_y</th>\n",
              "    </tr>\n",
              "  </thead>\n",
              "  <tbody>\n",
              "    <tr>\n",
              "      <th>908</th>\n",
              "      <td>0</td>\n",
              "      <td>0</td>\n",
              "    </tr>\n",
              "    <tr>\n",
              "      <th>1277</th>\n",
              "      <td>0</td>\n",
              "      <td>0</td>\n",
              "    </tr>\n",
              "    <tr>\n",
              "      <th>1343</th>\n",
              "      <td>0</td>\n",
              "      <td>0</td>\n",
              "    </tr>\n",
              "    <tr>\n",
              "      <th>4104</th>\n",
              "      <td>1</td>\n",
              "      <td>1</td>\n",
              "    </tr>\n",
              "    <tr>\n",
              "      <th>4700</th>\n",
              "      <td>1</td>\n",
              "      <td>1</td>\n",
              "    </tr>\n",
              "  </tbody>\n",
              "</table>\n",
              "</div>"
            ],
            "text/plain": [
              "      true_y  predicted_y\n",
              "908        0            0\n",
              "1277       0            0\n",
              "1343       0            0\n",
              "4104       1            1\n",
              "4700       1            1"
            ]
          },
          "metadata": {
            "tags": []
          },
          "execution_count": 99
        }
      ]
    },
    {
      "cell_type": "markdown",
      "metadata": {
        "id": "xou7hyQaskkn"
      },
      "source": [
        "https://mateuszgrzyb.pl/historia-pewnego-procesu-rekrutacyjnego/\n"
      ]
    }
  ]
}