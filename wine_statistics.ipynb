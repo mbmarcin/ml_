{
  "nbformat": 4,
  "nbformat_minor": 0,
  "metadata": {
    "colab": {
      "name": "wine_statistics.ipynb",
      "provenance": [],
      "collapsed_sections": [],
      "authorship_tag": "ABX9TyPT8bpwMOFGLTddmQz/MJcu",
      "include_colab_link": true
    },
    "kernelspec": {
      "name": "python3",
      "display_name": "Python 3"
    }
  },
  "cells": [
    {
      "cell_type": "markdown",
      "metadata": {
        "id": "view-in-github",
        "colab_type": "text"
      },
      "source": [
        "<a href=\"https://colab.research.google.com/github/mbmarcin/ml_/blob/main/wine_statistics.ipynb\" target=\"_parent\"><img src=\"https://colab.research.google.com/assets/colab-badge.svg\" alt=\"Open In Colab\"/></a>"
      ]
    },
    {
      "cell_type": "code",
      "metadata": {
        "id": "1lOlwazt3B7h"
      },
      "source": [
        "import pandas as pd\n",
        "import numpy as np\n",
        "import seaborn as sns\n",
        "import matplotlib.pyplot as plt\n",
        "import scipy.stats\n",
        "from sklearn.decomposition import PCA\n",
        "from sklearn.model_selection import train_test_split, cross_val_score, GridSearchCV, RandomizedSearchCV\n",
        "from sklearn.tree import DecisionTreeClassifier\n",
        "from sklearn.metrics import roc_auc_score, roc_curve, recall_score\n",
        "from sklearn.feature_selection import RFE\n",
        "from scipy.stats import randint\n",
        "from sklearn import tree\n",
        "import graphviz"
      ],
      "execution_count": null,
      "outputs": []
    },
    {
      "cell_type": "code",
      "metadata": {
        "colab": {
          "base_uri": "https://localhost:8080/"
        },
        "id": "KZH8b_4W2lb7",
        "outputId": "66ad9d19-25a2-436b-deb8-9a107505a2db"
      },
      "source": [
        "wines = pd.read_csv('winequality-all.csv')\n",
        "wines.columns"
      ],
      "execution_count": null,
      "outputs": [
        {
          "output_type": "execute_result",
          "data": {
            "text/plain": [
              "Index(['fixed.acidity', 'volatile.acidity', 'citric.acid', 'residual.sugar',\n",
              "       'chlorides', 'free.sulfur.dioxide', 'total.sulfur.dioxide', 'density',\n",
              "       'pH', 'sulphates', 'alcohol', 'response', 'color'],\n",
              "      dtype='object')"
            ]
          },
          "metadata": {
            "tags": []
          },
          "execution_count": 69
        }
      ]
    },
    {
      "cell_type": "code",
      "metadata": {
        "colab": {
          "base_uri": "https://localhost:8080/",
          "height": 457
        },
        "id": "7xiwcAQG3TVU",
        "outputId": "33910324-5e89-4853-cf75-881a889957cc"
      },
      "source": [
        "summary = pd.DataFrame(wines.dtypes, columns=['Feature type'])\n",
        "summary['Is any null?'] = wines.isnull().any()\n",
        "summary['Sum of nulls'] = wines.isnull().sum()\n",
        "summary['Percent of nulls'] = round((wines.apply(pd.isnull).mean()*100),2)\n",
        "summary"
      ],
      "execution_count": null,
      "outputs": [
        {
          "output_type": "execute_result",
          "data": {
            "text/html": [
              "<div>\n",
              "<style scoped>\n",
              "    .dataframe tbody tr th:only-of-type {\n",
              "        vertical-align: middle;\n",
              "    }\n",
              "\n",
              "    .dataframe tbody tr th {\n",
              "        vertical-align: top;\n",
              "    }\n",
              "\n",
              "    .dataframe thead th {\n",
              "        text-align: right;\n",
              "    }\n",
              "</style>\n",
              "<table border=\"1\" class=\"dataframe\">\n",
              "  <thead>\n",
              "    <tr style=\"text-align: right;\">\n",
              "      <th></th>\n",
              "      <th>Feature type</th>\n",
              "      <th>Is any null?</th>\n",
              "      <th>Sum of nulls</th>\n",
              "      <th>Percent of nulls</th>\n",
              "    </tr>\n",
              "  </thead>\n",
              "  <tbody>\n",
              "    <tr>\n",
              "      <th>fixed.acidity</th>\n",
              "      <td>float64</td>\n",
              "      <td>False</td>\n",
              "      <td>0</td>\n",
              "      <td>0.0</td>\n",
              "    </tr>\n",
              "    <tr>\n",
              "      <th>volatile.acidity</th>\n",
              "      <td>float64</td>\n",
              "      <td>False</td>\n",
              "      <td>0</td>\n",
              "      <td>0.0</td>\n",
              "    </tr>\n",
              "    <tr>\n",
              "      <th>citric.acid</th>\n",
              "      <td>float64</td>\n",
              "      <td>False</td>\n",
              "      <td>0</td>\n",
              "      <td>0.0</td>\n",
              "    </tr>\n",
              "    <tr>\n",
              "      <th>residual.sugar</th>\n",
              "      <td>float64</td>\n",
              "      <td>False</td>\n",
              "      <td>0</td>\n",
              "      <td>0.0</td>\n",
              "    </tr>\n",
              "    <tr>\n",
              "      <th>chlorides</th>\n",
              "      <td>float64</td>\n",
              "      <td>False</td>\n",
              "      <td>0</td>\n",
              "      <td>0.0</td>\n",
              "    </tr>\n",
              "    <tr>\n",
              "      <th>free.sulfur.dioxide</th>\n",
              "      <td>float64</td>\n",
              "      <td>False</td>\n",
              "      <td>0</td>\n",
              "      <td>0.0</td>\n",
              "    </tr>\n",
              "    <tr>\n",
              "      <th>total.sulfur.dioxide</th>\n",
              "      <td>float64</td>\n",
              "      <td>False</td>\n",
              "      <td>0</td>\n",
              "      <td>0.0</td>\n",
              "    </tr>\n",
              "    <tr>\n",
              "      <th>density</th>\n",
              "      <td>float64</td>\n",
              "      <td>False</td>\n",
              "      <td>0</td>\n",
              "      <td>0.0</td>\n",
              "    </tr>\n",
              "    <tr>\n",
              "      <th>pH</th>\n",
              "      <td>float64</td>\n",
              "      <td>False</td>\n",
              "      <td>0</td>\n",
              "      <td>0.0</td>\n",
              "    </tr>\n",
              "    <tr>\n",
              "      <th>sulphates</th>\n",
              "      <td>float64</td>\n",
              "      <td>False</td>\n",
              "      <td>0</td>\n",
              "      <td>0.0</td>\n",
              "    </tr>\n",
              "    <tr>\n",
              "      <th>alcohol</th>\n",
              "      <td>float64</td>\n",
              "      <td>False</td>\n",
              "      <td>0</td>\n",
              "      <td>0.0</td>\n",
              "    </tr>\n",
              "    <tr>\n",
              "      <th>response</th>\n",
              "      <td>int64</td>\n",
              "      <td>False</td>\n",
              "      <td>0</td>\n",
              "      <td>0.0</td>\n",
              "    </tr>\n",
              "    <tr>\n",
              "      <th>color</th>\n",
              "      <td>object</td>\n",
              "      <td>False</td>\n",
              "      <td>0</td>\n",
              "      <td>0.0</td>\n",
              "    </tr>\n",
              "  </tbody>\n",
              "</table>\n",
              "</div>"
            ],
            "text/plain": [
              "                     Feature type  Is any null?  Sum of nulls  Percent of nulls\n",
              "fixed.acidity             float64         False             0               0.0\n",
              "volatile.acidity          float64         False             0               0.0\n",
              "citric.acid               float64         False             0               0.0\n",
              "residual.sugar            float64         False             0               0.0\n",
              "chlorides                 float64         False             0               0.0\n",
              "free.sulfur.dioxide       float64         False             0               0.0\n",
              "total.sulfur.dioxide      float64         False             0               0.0\n",
              "density                   float64         False             0               0.0\n",
              "pH                        float64         False             0               0.0\n",
              "sulphates                 float64         False             0               0.0\n",
              "alcohol                   float64         False             0               0.0\n",
              "response                    int64         False             0               0.0\n",
              "color                      object         False             0               0.0"
            ]
          },
          "metadata": {
            "tags": []
          },
          "execution_count": 70
        }
      ]
    },
    {
      "cell_type": "code",
      "metadata": {
        "colab": {
          "base_uri": "https://localhost:8080/",
          "height": 132
        },
        "id": "afGtRIqrDXGa",
        "outputId": "47d1cf7c-776a-4c12-837b-c22f7c332e77"
      },
      "source": [
        "wines.agg(['mean', 'median'])"
      ],
      "execution_count": null,
      "outputs": [
        {
          "output_type": "execute_result",
          "data": {
            "text/html": [
              "<div>\n",
              "<style scoped>\n",
              "    .dataframe tbody tr th:only-of-type {\n",
              "        vertical-align: middle;\n",
              "    }\n",
              "\n",
              "    .dataframe tbody tr th {\n",
              "        vertical-align: top;\n",
              "    }\n",
              "\n",
              "    .dataframe thead th {\n",
              "        text-align: right;\n",
              "    }\n",
              "</style>\n",
              "<table border=\"1\" class=\"dataframe\">\n",
              "  <thead>\n",
              "    <tr style=\"text-align: right;\">\n",
              "      <th></th>\n",
              "      <th>fixed.acidity</th>\n",
              "      <th>volatile.acidity</th>\n",
              "      <th>citric.acid</th>\n",
              "      <th>residual.sugar</th>\n",
              "      <th>chlorides</th>\n",
              "      <th>free.sulfur.dioxide</th>\n",
              "      <th>total.sulfur.dioxide</th>\n",
              "      <th>density</th>\n",
              "      <th>pH</th>\n",
              "      <th>sulphates</th>\n",
              "      <th>alcohol</th>\n",
              "      <th>response</th>\n",
              "    </tr>\n",
              "  </thead>\n",
              "  <tbody>\n",
              "    <tr>\n",
              "      <th>mean</th>\n",
              "      <td>7.215179</td>\n",
              "      <td>0.34413</td>\n",
              "      <td>0.318494</td>\n",
              "      <td>5.048477</td>\n",
              "      <td>0.05669</td>\n",
              "      <td>30.036654</td>\n",
              "      <td>114.109023</td>\n",
              "      <td>0.994535</td>\n",
              "      <td>3.224664</td>\n",
              "      <td>0.533357</td>\n",
              "      <td>10.549241</td>\n",
              "      <td>3.795677</td>\n",
              "    </tr>\n",
              "    <tr>\n",
              "      <th>median</th>\n",
              "      <td>7.000000</td>\n",
              "      <td>0.30000</td>\n",
              "      <td>0.310000</td>\n",
              "      <td>2.700000</td>\n",
              "      <td>0.04700</td>\n",
              "      <td>28.000000</td>\n",
              "      <td>116.000000</td>\n",
              "      <td>0.994650</td>\n",
              "      <td>3.210000</td>\n",
              "      <td>0.510000</td>\n",
              "      <td>10.400000</td>\n",
              "      <td>4.000000</td>\n",
              "    </tr>\n",
              "  </tbody>\n",
              "</table>\n",
              "</div>"
            ],
            "text/plain": [
              "        fixed.acidity  volatile.acidity  ...    alcohol  response\n",
              "mean         7.215179           0.34413  ...  10.549241  3.795677\n",
              "median       7.000000           0.30000  ...  10.400000  4.000000\n",
              "\n",
              "[2 rows x 12 columns]"
            ]
          },
          "metadata": {
            "tags": []
          },
          "execution_count": 71
        }
      ]
    },
    {
      "cell_type": "code",
      "metadata": {
        "colab": {
          "base_uri": "https://localhost:8080/"
        },
        "id": "rNgdR26sEPVc",
        "outputId": "d37da986-4028-4f9c-9bcd-21b20a5c30ca"
      },
      "source": [
        "wines.color.value_counts(normalize = True)"
      ],
      "execution_count": null,
      "outputs": [
        {
          "output_type": "execute_result",
          "data": {
            "text/plain": [
              "white    0.744549\n",
              "red      0.255451\n",
              "Name: color, dtype: float64"
            ]
          },
          "metadata": {
            "tags": []
          },
          "execution_count": 72
        }
      ]
    },
    {
      "cell_type": "code",
      "metadata": {
        "colab": {
          "base_uri": "https://localhost:8080/"
        },
        "id": "I3FcZ4gbG3yF",
        "outputId": "4968fedb-da90-4802-9914-c80eb06304dd"
      },
      "source": [
        "for feature in wines.columns.drop('color'):\n",
        "    alpha = 0.05\n",
        "    p_value = scipy.stats.normaltest(wines[feature])[1]\n",
        "    \n",
        "    if(p_value < alpha):\n",
        "        print('For feature \\'' + feature +'\\' null hypothesis can be rejected. Sample DOES NOT come from normal distribution.')\n",
        "    else:\n",
        "        print('For feature \\'' + feature +'\\' null hypothesis can not be rejected. Sample COMES from normal distribution.')"
      ],
      "execution_count": null,
      "outputs": [
        {
          "output_type": "stream",
          "text": [
            "For feature 'fixed.acidity' null hypothesis can be rejected. Sample DOES NOT come from normal distribution.\n",
            "For feature 'volatile.acidity' null hypothesis can be rejected. Sample DOES NOT come from normal distribution.\n",
            "For feature 'citric.acid' null hypothesis can be rejected. Sample DOES NOT come from normal distribution.\n",
            "For feature 'residual.sugar' null hypothesis can be rejected. Sample DOES NOT come from normal distribution.\n",
            "For feature 'chlorides' null hypothesis can be rejected. Sample DOES NOT come from normal distribution.\n",
            "For feature 'free.sulfur.dioxide' null hypothesis can be rejected. Sample DOES NOT come from normal distribution.\n",
            "For feature 'total.sulfur.dioxide' null hypothesis can be rejected. Sample DOES NOT come from normal distribution.\n",
            "For feature 'density' null hypothesis can be rejected. Sample DOES NOT come from normal distribution.\n",
            "For feature 'pH' null hypothesis can be rejected. Sample DOES NOT come from normal distribution.\n",
            "For feature 'sulphates' null hypothesis can be rejected. Sample DOES NOT come from normal distribution.\n",
            "For feature 'alcohol' null hypothesis can be rejected. Sample DOES NOT come from normal distribution.\n",
            "For feature 'response' null hypothesis can be rejected. Sample DOES NOT come from normal distribution.\n"
          ],
          "name": "stdout"
        }
      ]
    },
    {
      "cell_type": "code",
      "metadata": {
        "colab": {
          "base_uri": "https://localhost:8080/"
        },
        "id": "t1Q2useCNfsF",
        "outputId": "67915cf6-e90b-4dd7-87d1-aa52a668be73"
      },
      "source": [
        "wines.columns"
      ],
      "execution_count": null,
      "outputs": [
        {
          "output_type": "execute_result",
          "data": {
            "text/plain": [
              "Index(['fixed.acidity', 'volatile.acidity', 'citric.acid', 'residual.sugar',\n",
              "       'chlorides', 'free.sulfur.dioxide', 'total.sulfur.dioxide', 'density',\n",
              "       'pH', 'sulphates', 'alcohol', 'response', 'color'],\n",
              "      dtype='object')"
            ]
          },
          "metadata": {
            "tags": []
          },
          "execution_count": 74
        }
      ]
    },
    {
      "cell_type": "code",
      "metadata": {
        "colab": {
          "base_uri": "https://localhost:8080/",
          "height": 369
        },
        "id": "JFR_IdrYJxxf",
        "outputId": "b5c4f71c-d157-49d7-8582-332f4c4fa250"
      },
      "source": [
        "melted_wines_df_1 = pd.melt(wines, value_vars=wines.drop(['color', 'total.sulfur.dioxide', 'free.sulfur.dioxide', 'residual.sugar', 'fixed.acidity', 'alcohol', 'response'], axis = 1).columns, var_name=['feature_name'], value_name = 'value')\n",
        "melted_wines_df_2 = pd.melt(wines, value_vars=wines[['fixed.acidity', 'alcohol', 'response']].columns, var_name=['feature_name'], value_name = 'value')\n",
        "melted_wines_df_3 = pd.melt(wines, value_vars=wines[['total.sulfur.dioxide', 'free.sulfur.dioxide', 'residual.sugar', 'fixed.acidity', 'alcohol', 'response']].columns, var_name=['feature_name'], value_name = 'value')\n",
        "\n",
        "plt.figure(figsize=(8,5))\n",
        "sns.set(font_scale=1.4)\n",
        "sns.boxplot(data = melted_wines_df_1, y = 'feature_name', x = 'value', palette = 'Blues_d').set(title = 'Distribution of numeric features - group 1', ylabel = 'feature name')\n",
        "plt.show()\n"
      ],
      "execution_count": null,
      "outputs": [
        {
          "output_type": "display_data",
          "data": {
            "image/png": "[encoded data removed]",
            "text/plain": [
              "<Figure size 576x360 with 1 Axes>"
            ]
          },
          "metadata": {
            "tags": []
          }
        }
      ]
    },
    {
      "cell_type": "code",
      "metadata": {
        "colab": {
          "base_uri": "https://localhost:8080/",
          "height": 369
        },
        "id": "897oF1CtRDMU",
        "outputId": "d4911ac9-0412-4851-dcf9-0b920e2578f9"
      },
      "source": [
        "plt.figure(figsize=(13,5))\n",
        "sns.set(font_scale=1.4)\n",
        "sns.boxplot(data = melted_wines_df_2, y = 'feature_name', x = 'value', palette = 'Blues_d').set(title = 'Distribution of numeric features - group 2', ylabel = 'feature name')\n",
        "plt.show()"
      ],
      "execution_count": null,
      "outputs": [
        {
          "output_type": "display_data",
          "data": {
            "image/png": "[encoded data removed]",
            "text/plain": [
              "<Figure size 936x360 with 1 Axes>"
            ]
          },
          "metadata": {
            "tags": []
          }
        }
      ]
    },
    {
      "cell_type": "code",
      "metadata": {
        "colab": {
          "base_uri": "https://localhost:8080/"
        },
        "id": "k0y6VF4aR9fX",
        "outputId": "c3736460-009f-4ef0-972b-1a95556bd587"
      },
      "source": [
        "\n",
        "# Outliers detection.\n",
        "\n",
        "# There are two methods of detecting outliers:\n",
        "\n",
        "#     3 sigma rule,\n",
        "#     1.5 interquartile range.\n",
        "\n",
        "# First of them has strong assumption: normallly distributed features. I can not use it, so I decide to use second.\n",
        "\n",
        "q1 = wines.drop(['color', 'response'], axis = 1).quantile(0.25)\n",
        "q3 = wines.drop(['color', 'response'], axis = 1).quantile(0.75)\n",
        "iqr = q3 - q1\n",
        "iqr"
      ],
      "execution_count": null,
      "outputs": [
        {
          "output_type": "execute_result",
          "data": {
            "text/plain": [
              "fixed.acidity            1.30000\n",
              "volatile.acidity         0.18000\n",
              "citric.acid              0.16000\n",
              "residual.sugar           5.70000\n",
              "chlorides                0.02800\n",
              "free.sulfur.dioxide     25.00000\n",
              "total.sulfur.dioxide    79.25000\n",
              "density                  0.00457\n",
              "pH                       0.22000\n",
              "sulphates                0.17000\n",
              "alcohol                  1.90000\n",
              "dtype: float64"
            ]
          },
          "metadata": {
            "tags": []
          },
          "execution_count": 77
        }
      ]
    },
    {
      "cell_type": "code",
      "metadata": {
        "colab": {
          "base_uri": "https://localhost:8080/",
          "height": 394
        },
        "id": "Tvmo1fNfT4T8",
        "outputId": "143cfc87-2a33-4d3c-81ef-22e10ebf4218"
      },
      "source": [
        "low_boundary = (q1 - 1.5 * iqr)\n",
        "upp_boundary = (q3 + 1.5 * iqr)\n",
        "num_of_outliers_L = (wines.drop(['color', 'response'], axis = 1)[iqr.index] < low_boundary).sum()\n",
        "num_of_outliers_U = (wines.drop(['color', 'response'], axis = 1)[iqr.index] > upp_boundary).sum()\n",
        "outliers = pd.DataFrame({'lower_boundary':low_boundary, 'upper_boundary':upp_boundary,'num_of_outliers_L':num_of_outliers_L, 'num_of_outliers_U':num_of_outliers_U})\n",
        "outliers\n"
      ],
      "execution_count": null,
      "outputs": [
        {
          "output_type": "execute_result",
          "data": {
            "text/html": [
              "<div>\n",
              "<style scoped>\n",
              "    .dataframe tbody tr th:only-of-type {\n",
              "        vertical-align: middle;\n",
              "    }\n",
              "\n",
              "    .dataframe tbody tr th {\n",
              "        vertical-align: top;\n",
              "    }\n",
              "\n",
              "    .dataframe thead th {\n",
              "        text-align: right;\n",
              "    }\n",
              "</style>\n",
              "<table border=\"1\" class=\"dataframe\">\n",
              "  <thead>\n",
              "    <tr style=\"text-align: right;\">\n",
              "      <th></th>\n",
              "      <th>lower_boundary</th>\n",
              "      <th>upper_boundary</th>\n",
              "      <th>num_of_outliers_L</th>\n",
              "      <th>num_of_outliers_U</th>\n",
              "    </tr>\n",
              "  </thead>\n",
              "  <tbody>\n",
              "    <tr>\n",
              "      <th>fixed.acidity</th>\n",
              "      <td>4.450000e+00</td>\n",
              "      <td>9.650000</td>\n",
              "      <td>7</td>\n",
              "      <td>297</td>\n",
              "    </tr>\n",
              "    <tr>\n",
              "      <th>volatile.acidity</th>\n",
              "      <td>-4.000000e-02</td>\n",
              "      <td>0.680000</td>\n",
              "      <td>0</td>\n",
              "      <td>279</td>\n",
              "    </tr>\n",
              "    <tr>\n",
              "      <th>citric.acid</th>\n",
              "      <td>-5.551115e-17</td>\n",
              "      <td>0.640000</td>\n",
              "      <td>0</td>\n",
              "      <td>143</td>\n",
              "    </tr>\n",
              "    <tr>\n",
              "      <th>residual.sugar</th>\n",
              "      <td>-6.750000e+00</td>\n",
              "      <td>16.050000</td>\n",
              "      <td>0</td>\n",
              "      <td>141</td>\n",
              "    </tr>\n",
              "    <tr>\n",
              "      <th>chlorides</th>\n",
              "      <td>-4.000000e-03</td>\n",
              "      <td>0.108000</td>\n",
              "      <td>0</td>\n",
              "      <td>237</td>\n",
              "    </tr>\n",
              "    <tr>\n",
              "      <th>free.sulfur.dioxide</th>\n",
              "      <td>-2.150000e+01</td>\n",
              "      <td>78.500000</td>\n",
              "      <td>0</td>\n",
              "      <td>44</td>\n",
              "    </tr>\n",
              "    <tr>\n",
              "      <th>total.sulfur.dioxide</th>\n",
              "      <td>-4.487500e+01</td>\n",
              "      <td>272.125000</td>\n",
              "      <td>0</td>\n",
              "      <td>10</td>\n",
              "    </tr>\n",
              "    <tr>\n",
              "      <th>density</th>\n",
              "      <td>9.853450e-01</td>\n",
              "      <td>1.003625</td>\n",
              "      <td>0</td>\n",
              "      <td>3</td>\n",
              "    </tr>\n",
              "    <tr>\n",
              "      <th>pH</th>\n",
              "      <td>2.780000e+00</td>\n",
              "      <td>3.660000</td>\n",
              "      <td>4</td>\n",
              "      <td>45</td>\n",
              "    </tr>\n",
              "    <tr>\n",
              "      <th>sulphates</th>\n",
              "      <td>1.750000e-01</td>\n",
              "      <td>0.855000</td>\n",
              "      <td>0</td>\n",
              "      <td>163</td>\n",
              "    </tr>\n",
              "    <tr>\n",
              "      <th>alcohol</th>\n",
              "      <td>6.650000e+00</td>\n",
              "      <td>14.250000</td>\n",
              "      <td>0</td>\n",
              "      <td>1</td>\n",
              "    </tr>\n",
              "  </tbody>\n",
              "</table>\n",
              "</div>"
            ],
            "text/plain": [
              "                      lower_boundary  ...  num_of_outliers_U\n",
              "fixed.acidity           4.450000e+00  ...                297\n",
              "volatile.acidity       -4.000000e-02  ...                279\n",
              "citric.acid            -5.551115e-17  ...                143\n",
              "residual.sugar         -6.750000e+00  ...                141\n",
              "chlorides              -4.000000e-03  ...                237\n",
              "free.sulfur.dioxide    -2.150000e+01  ...                 44\n",
              "total.sulfur.dioxide   -4.487500e+01  ...                 10\n",
              "density                 9.853450e-01  ...                  3\n",
              "pH                      2.780000e+00  ...                 45\n",
              "sulphates               1.750000e-01  ...                163\n",
              "alcohol                 6.650000e+00  ...                  1\n",
              "\n",
              "[11 rows x 4 columns]"
            ]
          },
          "metadata": {
            "tags": []
          },
          "execution_count": 78
        }
      ]
    },
    {
      "cell_type": "code",
      "metadata": {
        "id": "3kglmHoeVEH8"
      },
      "source": [
        "## remove outliers\n",
        "\n",
        "w = wines.copy()\n"
      ],
      "execution_count": null,
      "outputs": []
    },
    {
      "cell_type": "code",
      "metadata": {
        "colab": {
          "base_uri": "https://localhost:8080/"
        },
        "id": "SQXKYX_XEXza",
        "outputId": "299137f2-12c8-4a40-9ec7-7cdda758c9f5"
      },
      "source": [
        "for row in outliers.iterrows():\n",
        "    w = w[(w[row[0]] >= row[1]['lower_boundary']) & (w[row[0]] <= row[1]['upper_boundary'])]\n",
        "print(w.shape)\n",
        "print(wines.shape)"
      ],
      "execution_count": null,
      "outputs": [
        {
          "output_type": "stream",
          "text": [
            "(4226, 13)\n",
            "(5320, 13)\n"
          ],
          "name": "stdout"
        }
      ]
    },
    {
      "cell_type": "code",
      "metadata": {
        "colab": {
          "base_uri": "https://localhost:8080/",
          "height": 446
        },
        "id": "eJ7plf-QKRhK",
        "outputId": "783e83c4-2637-4abf-d52f-c71470a68976"
      },
      "source": [
        " ## Analysis of correlation between target variable and other features.\n",
        "\n",
        "correlation_matrix = pd.DataFrame(np.abs(scipy.stats.spearmanr(wines)[0]), columns = wines.columns, index = wines.columns)\n",
        "correlation_matrix.drop('color', axis = 0, inplace = True)\n",
        "correlation_matrix.reset_index(inplace=True)\n",
        "\n",
        "correlation_matrix\n"
      ],
      "execution_count": null,
      "outputs": [
        {
          "output_type": "execute_result",
          "data": {
            "text/html": [
              "<div>\n",
              "<style scoped>\n",
              "    .dataframe tbody tr th:only-of-type {\n",
              "        vertical-align: middle;\n",
              "    }\n",
              "\n",
              "    .dataframe tbody tr th {\n",
              "        vertical-align: top;\n",
              "    }\n",
              "\n",
              "    .dataframe thead th {\n",
              "        text-align: right;\n",
              "    }\n",
              "</style>\n",
              "<table border=\"1\" class=\"dataframe\">\n",
              "  <thead>\n",
              "    <tr style=\"text-align: right;\">\n",
              "      <th></th>\n",
              "      <th>index</th>\n",
              "      <th>fixed.acidity</th>\n",
              "      <th>volatile.acidity</th>\n",
              "      <th>citric.acid</th>\n",
              "      <th>residual.sugar</th>\n",
              "      <th>chlorides</th>\n",
              "      <th>free.sulfur.dioxide</th>\n",
              "      <th>total.sulfur.dioxide</th>\n",
              "      <th>density</th>\n",
              "      <th>pH</th>\n",
              "      <th>sulphates</th>\n",
              "      <th>alcohol</th>\n",
              "      <th>response</th>\n",
              "      <th>color</th>\n",
              "    </tr>\n",
              "  </thead>\n",
              "  <tbody>\n",
              "    <tr>\n",
              "      <th>0</th>\n",
              "      <td>fixed.acidity</td>\n",
              "      <td>1.000000</td>\n",
              "      <td>0.206593</td>\n",
              "      <td>0.278841</td>\n",
              "      <td>0.025441</td>\n",
              "      <td>0.359324</td>\n",
              "      <td>0.266580</td>\n",
              "      <td>0.247357</td>\n",
              "      <td>0.450184</td>\n",
              "      <td>0.262258</td>\n",
              "      <td>0.229855</td>\n",
              "      <td>0.113936</td>\n",
              "      <td>0.104029</td>\n",
              "      <td>0.429236</td>\n",
              "    </tr>\n",
              "    <tr>\n",
              "      <th>1</th>\n",
              "      <td>volatile.acidity</td>\n",
              "      <td>0.206593</td>\n",
              "      <td>1.000000</td>\n",
              "      <td>0.303870</td>\n",
              "      <td>0.021323</td>\n",
              "      <td>0.432466</td>\n",
              "      <td>0.370346</td>\n",
              "      <td>0.341317</td>\n",
              "      <td>0.310026</td>\n",
              "      <td>0.178650</td>\n",
              "      <td>0.263985</td>\n",
              "      <td>0.061742</td>\n",
              "      <td>0.251450</td>\n",
              "      <td>0.601336</td>\n",
              "    </tr>\n",
              "    <tr>\n",
              "      <th>2</th>\n",
              "      <td>citric.acid</td>\n",
              "      <td>0.278841</td>\n",
              "      <td>0.303870</td>\n",
              "      <td>1.000000</td>\n",
              "      <td>0.073252</td>\n",
              "      <td>0.062915</td>\n",
              "      <td>0.117661</td>\n",
              "      <td>0.156361</td>\n",
              "      <td>0.062847</td>\n",
              "      <td>0.305331</td>\n",
              "      <td>0.031671</td>\n",
              "      <td>0.024059</td>\n",
              "      <td>0.116477</td>\n",
              "      <td>0.157784</td>\n",
              "    </tr>\n",
              "    <tr>\n",
              "      <th>3</th>\n",
              "      <td>residual.sugar</td>\n",
              "      <td>0.025441</td>\n",
              "      <td>0.021323</td>\n",
              "      <td>0.073252</td>\n",
              "      <td>1.000000</td>\n",
              "      <td>0.032791</td>\n",
              "      <td>0.363153</td>\n",
              "      <td>0.428820</td>\n",
              "      <td>0.493452</td>\n",
              "      <td>0.194395</td>\n",
              "      <td>0.117949</td>\n",
              "      <td>0.266348</td>\n",
              "      <td>0.028170</td>\n",
              "      <td>0.219714</td>\n",
              "    </tr>\n",
              "    <tr>\n",
              "      <th>4</th>\n",
              "      <td>chlorides</td>\n",
              "      <td>0.359324</td>\n",
              "      <td>0.432466</td>\n",
              "      <td>0.062915</td>\n",
              "      <td>0.032791</td>\n",
              "      <td>1.000000</td>\n",
              "      <td>0.261093</td>\n",
              "      <td>0.278533</td>\n",
              "      <td>0.608994</td>\n",
              "      <td>0.160172</td>\n",
              "      <td>0.376322</td>\n",
              "      <td>0.417115</td>\n",
              "      <td>0.303872</td>\n",
              "      <td>0.668152</td>\n",
              "    </tr>\n",
              "    <tr>\n",
              "      <th>5</th>\n",
              "      <td>free.sulfur.dioxide</td>\n",
              "      <td>0.266580</td>\n",
              "      <td>0.370346</td>\n",
              "      <td>0.117661</td>\n",
              "      <td>0.363153</td>\n",
              "      <td>0.261093</td>\n",
              "      <td>1.000000</td>\n",
              "      <td>0.741566</td>\n",
              "      <td>0.024871</td>\n",
              "      <td>0.161797</td>\n",
              "      <td>0.236049</td>\n",
              "      <td>0.166343</td>\n",
              "      <td>0.089978</td>\n",
              "      <td>0.516525</td>\n",
              "    </tr>\n",
              "    <tr>\n",
              "      <th>6</th>\n",
              "      <td>total.sulfur.dioxide</td>\n",
              "      <td>0.247357</td>\n",
              "      <td>0.341317</td>\n",
              "      <td>0.156361</td>\n",
              "      <td>0.428820</td>\n",
              "      <td>0.278533</td>\n",
              "      <td>0.741566</td>\n",
              "      <td>1.000000</td>\n",
              "      <td>0.021789</td>\n",
              "      <td>0.228878</td>\n",
              "      <td>0.264330</td>\n",
              "      <td>0.280905</td>\n",
              "      <td>0.058229</td>\n",
              "      <td>0.678997</td>\n",
              "    </tr>\n",
              "    <tr>\n",
              "      <th>7</th>\n",
              "      <td>density</td>\n",
              "      <td>0.450184</td>\n",
              "      <td>0.310026</td>\n",
              "      <td>0.062847</td>\n",
              "      <td>0.493452</td>\n",
              "      <td>0.608994</td>\n",
              "      <td>0.024871</td>\n",
              "      <td>0.021789</td>\n",
              "      <td>1.000000</td>\n",
              "      <td>0.039593</td>\n",
              "      <td>0.302401</td>\n",
              "      <td>0.683486</td>\n",
              "      <td>0.349012</td>\n",
              "      <td>0.453556</td>\n",
              "    </tr>\n",
              "    <tr>\n",
              "      <th>8</th>\n",
              "      <td>pH</td>\n",
              "      <td>0.262258</td>\n",
              "      <td>0.178650</td>\n",
              "      <td>0.305331</td>\n",
              "      <td>0.194395</td>\n",
              "      <td>0.160172</td>\n",
              "      <td>0.161797</td>\n",
              "      <td>0.228878</td>\n",
              "      <td>0.039593</td>\n",
              "      <td>1.000000</td>\n",
              "      <td>0.235296</td>\n",
              "      <td>0.110308</td>\n",
              "      <td>0.052798</td>\n",
              "      <td>0.318942</td>\n",
              "    </tr>\n",
              "    <tr>\n",
              "      <th>9</th>\n",
              "      <td>sulphates</td>\n",
              "      <td>0.229855</td>\n",
              "      <td>0.263985</td>\n",
              "      <td>0.031671</td>\n",
              "      <td>0.117949</td>\n",
              "      <td>0.376322</td>\n",
              "      <td>0.236049</td>\n",
              "      <td>0.264330</td>\n",
              "      <td>0.302401</td>\n",
              "      <td>0.235296</td>\n",
              "      <td>1.000000</td>\n",
              "      <td>0.017053</td>\n",
              "      <td>0.035769</td>\n",
              "      <td>0.499328</td>\n",
              "    </tr>\n",
              "    <tr>\n",
              "      <th>10</th>\n",
              "      <td>alcohol</td>\n",
              "      <td>0.113936</td>\n",
              "      <td>0.061742</td>\n",
              "      <td>0.024059</td>\n",
              "      <td>0.266348</td>\n",
              "      <td>0.417115</td>\n",
              "      <td>0.166343</td>\n",
              "      <td>0.280905</td>\n",
              "      <td>0.683486</td>\n",
              "      <td>0.110308</td>\n",
              "      <td>0.017053</td>\n",
              "      <td>1.000000</td>\n",
              "      <td>0.479783</td>\n",
              "      <td>0.050082</td>\n",
              "    </tr>\n",
              "    <tr>\n",
              "      <th>11</th>\n",
              "      <td>response</td>\n",
              "      <td>0.104029</td>\n",
              "      <td>0.251450</td>\n",
              "      <td>0.116477</td>\n",
              "      <td>0.028170</td>\n",
              "      <td>0.303872</td>\n",
              "      <td>0.089978</td>\n",
              "      <td>0.058229</td>\n",
              "      <td>0.349012</td>\n",
              "      <td>0.052798</td>\n",
              "      <td>0.035769</td>\n",
              "      <td>0.479783</td>\n",
              "      <td>1.000000</td>\n",
              "      <td>0.120077</td>\n",
              "    </tr>\n",
              "  </tbody>\n",
              "</table>\n",
              "</div>"
            ],
            "text/plain": [
              "                   index  fixed.acidity  ...  response     color\n",
              "0          fixed.acidity       1.000000  ...  0.104029  0.429236\n",
              "1       volatile.acidity       0.206593  ...  0.251450  0.601336\n",
              "2            citric.acid       0.278841  ...  0.116477  0.157784\n",
              "3         residual.sugar       0.025441  ...  0.028170  0.219714\n",
              "4              chlorides       0.359324  ...  0.303872  0.668152\n",
              "5    free.sulfur.dioxide       0.266580  ...  0.089978  0.516525\n",
              "6   total.sulfur.dioxide       0.247357  ...  0.058229  0.678997\n",
              "7                density       0.450184  ...  0.349012  0.453556\n",
              "8                     pH       0.262258  ...  0.052798  0.318942\n",
              "9              sulphates       0.229855  ...  0.035769  0.499328\n",
              "10               alcohol       0.113936  ...  0.479783  0.050082\n",
              "11              response       0.104029  ...  1.000000  0.120077\n",
              "\n",
              "[12 rows x 14 columns]"
            ]
          },
          "metadata": {
            "tags": []
          },
          "execution_count": 81
        }
      ]
    },
    {
      "cell_type": "code",
      "metadata": {
        "colab": {
          "base_uri": "https://localhost:8080/",
          "height": 478
        },
        "id": "NuA2syNLLdpK",
        "outputId": "5f32617f-9a7e-4ad6-ef53-22321d954860"
      },
      "source": [
        "plt.figure(figsize=(10,7))\n",
        "sns.set(font_scale=1.4)\n",
        "sns.barplot(data = correlation_matrix.sort_values('color', ascending=False), x = 'color', y = 'index', palette = 'Blues_d').set(title = 'Coefficient of correlation between target variable and other features', xlabel = 'coefficient of correlation', ylabel = 'feature name')\n",
        "plt.show()"
      ],
      "execution_count": null,
      "outputs": [
        {
          "output_type": "display_data",
          "data": {
            "image/png": "[encoded data removed]",
            "text/plain": [
              "<Figure size 720x504 with 1 Axes>"
            ]
          },
          "metadata": {
            "tags": []
          }
        }
      ]
    },
    {
      "cell_type": "code",
      "metadata": {
        "colab": {
          "base_uri": "https://localhost:8080/",
          "height": 446
        },
        "id": "u-dMygaKKdJL",
        "outputId": "ab1fc3e8-5724-4d65-8b4d-a73d0db0c1b6"
      },
      "source": [
        "correlation_matrix = pd.DataFrame(np.abs(scipy.stats.spearmanr(wines.drop('color', axis = 1))[0]), columns = wines.drop('color', axis = 1).columns, index = wines.drop('color', axis = 1).columns)\n",
        "correlation_matrix"
      ],
      "execution_count": null,
      "outputs": [
        {
          "output_type": "execute_result",
          "data": {
            "text/html": [
              "<div>\n",
              "<style scoped>\n",
              "    .dataframe tbody tr th:only-of-type {\n",
              "        vertical-align: middle;\n",
              "    }\n",
              "\n",
              "    .dataframe tbody tr th {\n",
              "        vertical-align: top;\n",
              "    }\n",
              "\n",
              "    .dataframe thead th {\n",
              "        text-align: right;\n",
              "    }\n",
              "</style>\n",
              "<table border=\"1\" class=\"dataframe\">\n",
              "  <thead>\n",
              "    <tr style=\"text-align: right;\">\n",
              "      <th></th>\n",
              "      <th>fixed.acidity</th>\n",
              "      <th>volatile.acidity</th>\n",
              "      <th>citric.acid</th>\n",
              "      <th>residual.sugar</th>\n",
              "      <th>chlorides</th>\n",
              "      <th>free.sulfur.dioxide</th>\n",
              "      <th>total.sulfur.dioxide</th>\n",
              "      <th>density</th>\n",
              "      <th>pH</th>\n",
              "      <th>sulphates</th>\n",
              "      <th>alcohol</th>\n",
              "      <th>response</th>\n",
              "    </tr>\n",
              "  </thead>\n",
              "  <tbody>\n",
              "    <tr>\n",
              "      <th>fixed.acidity</th>\n",
              "      <td>1.000000</td>\n",
              "      <td>0.206593</td>\n",
              "      <td>0.278841</td>\n",
              "      <td>0.025441</td>\n",
              "      <td>0.359324</td>\n",
              "      <td>0.266580</td>\n",
              "      <td>0.247357</td>\n",
              "      <td>0.450184</td>\n",
              "      <td>0.262258</td>\n",
              "      <td>0.229855</td>\n",
              "      <td>0.113936</td>\n",
              "      <td>0.104029</td>\n",
              "    </tr>\n",
              "    <tr>\n",
              "      <th>volatile.acidity</th>\n",
              "      <td>0.206593</td>\n",
              "      <td>1.000000</td>\n",
              "      <td>0.303870</td>\n",
              "      <td>0.021323</td>\n",
              "      <td>0.432466</td>\n",
              "      <td>0.370346</td>\n",
              "      <td>0.341317</td>\n",
              "      <td>0.310026</td>\n",
              "      <td>0.178650</td>\n",
              "      <td>0.263985</td>\n",
              "      <td>0.061742</td>\n",
              "      <td>0.251450</td>\n",
              "    </tr>\n",
              "    <tr>\n",
              "      <th>citric.acid</th>\n",
              "      <td>0.278841</td>\n",
              "      <td>0.303870</td>\n",
              "      <td>1.000000</td>\n",
              "      <td>0.073252</td>\n",
              "      <td>0.062915</td>\n",
              "      <td>0.117661</td>\n",
              "      <td>0.156361</td>\n",
              "      <td>0.062847</td>\n",
              "      <td>0.305331</td>\n",
              "      <td>0.031671</td>\n",
              "      <td>0.024059</td>\n",
              "      <td>0.116477</td>\n",
              "    </tr>\n",
              "    <tr>\n",
              "      <th>residual.sugar</th>\n",
              "      <td>0.025441</td>\n",
              "      <td>0.021323</td>\n",
              "      <td>0.073252</td>\n",
              "      <td>1.000000</td>\n",
              "      <td>0.032791</td>\n",
              "      <td>0.363153</td>\n",
              "      <td>0.428820</td>\n",
              "      <td>0.493452</td>\n",
              "      <td>0.194395</td>\n",
              "      <td>0.117949</td>\n",
              "      <td>0.266348</td>\n",
              "      <td>0.028170</td>\n",
              "    </tr>\n",
              "    <tr>\n",
              "      <th>chlorides</th>\n",
              "      <td>0.359324</td>\n",
              "      <td>0.432466</td>\n",
              "      <td>0.062915</td>\n",
              "      <td>0.032791</td>\n",
              "      <td>1.000000</td>\n",
              "      <td>0.261093</td>\n",
              "      <td>0.278533</td>\n",
              "      <td>0.608994</td>\n",
              "      <td>0.160172</td>\n",
              "      <td>0.376322</td>\n",
              "      <td>0.417115</td>\n",
              "      <td>0.303872</td>\n",
              "    </tr>\n",
              "    <tr>\n",
              "      <th>free.sulfur.dioxide</th>\n",
              "      <td>0.266580</td>\n",
              "      <td>0.370346</td>\n",
              "      <td>0.117661</td>\n",
              "      <td>0.363153</td>\n",
              "      <td>0.261093</td>\n",
              "      <td>1.000000</td>\n",
              "      <td>0.741566</td>\n",
              "      <td>0.024871</td>\n",
              "      <td>0.161797</td>\n",
              "      <td>0.236049</td>\n",
              "      <td>0.166343</td>\n",
              "      <td>0.089978</td>\n",
              "    </tr>\n",
              "    <tr>\n",
              "      <th>total.sulfur.dioxide</th>\n",
              "      <td>0.247357</td>\n",
              "      <td>0.341317</td>\n",
              "      <td>0.156361</td>\n",
              "      <td>0.428820</td>\n",
              "      <td>0.278533</td>\n",
              "      <td>0.741566</td>\n",
              "      <td>1.000000</td>\n",
              "      <td>0.021789</td>\n",
              "      <td>0.228878</td>\n",
              "      <td>0.264330</td>\n",
              "      <td>0.280905</td>\n",
              "      <td>0.058229</td>\n",
              "    </tr>\n",
              "    <tr>\n",
              "      <th>density</th>\n",
              "      <td>0.450184</td>\n",
              "      <td>0.310026</td>\n",
              "      <td>0.062847</td>\n",
              "      <td>0.493452</td>\n",
              "      <td>0.608994</td>\n",
              "      <td>0.024871</td>\n",
              "      <td>0.021789</td>\n",
              "      <td>1.000000</td>\n",
              "      <td>0.039593</td>\n",
              "      <td>0.302401</td>\n",
              "      <td>0.683486</td>\n",
              "      <td>0.349012</td>\n",
              "    </tr>\n",
              "    <tr>\n",
              "      <th>pH</th>\n",
              "      <td>0.262258</td>\n",
              "      <td>0.178650</td>\n",
              "      <td>0.305331</td>\n",
              "      <td>0.194395</td>\n",
              "      <td>0.160172</td>\n",
              "      <td>0.161797</td>\n",
              "      <td>0.228878</td>\n",
              "      <td>0.039593</td>\n",
              "      <td>1.000000</td>\n",
              "      <td>0.235296</td>\n",
              "      <td>0.110308</td>\n",
              "      <td>0.052798</td>\n",
              "    </tr>\n",
              "    <tr>\n",
              "      <th>sulphates</th>\n",
              "      <td>0.229855</td>\n",
              "      <td>0.263985</td>\n",
              "      <td>0.031671</td>\n",
              "      <td>0.117949</td>\n",
              "      <td>0.376322</td>\n",
              "      <td>0.236049</td>\n",
              "      <td>0.264330</td>\n",
              "      <td>0.302401</td>\n",
              "      <td>0.235296</td>\n",
              "      <td>1.000000</td>\n",
              "      <td>0.017053</td>\n",
              "      <td>0.035769</td>\n",
              "    </tr>\n",
              "    <tr>\n",
              "      <th>alcohol</th>\n",
              "      <td>0.113936</td>\n",
              "      <td>0.061742</td>\n",
              "      <td>0.024059</td>\n",
              "      <td>0.266348</td>\n",
              "      <td>0.417115</td>\n",
              "      <td>0.166343</td>\n",
              "      <td>0.280905</td>\n",
              "      <td>0.683486</td>\n",
              "      <td>0.110308</td>\n",
              "      <td>0.017053</td>\n",
              "      <td>1.000000</td>\n",
              "      <td>0.479783</td>\n",
              "    </tr>\n",
              "    <tr>\n",
              "      <th>response</th>\n",
              "      <td>0.104029</td>\n",
              "      <td>0.251450</td>\n",
              "      <td>0.116477</td>\n",
              "      <td>0.028170</td>\n",
              "      <td>0.303872</td>\n",
              "      <td>0.089978</td>\n",
              "      <td>0.058229</td>\n",
              "      <td>0.349012</td>\n",
              "      <td>0.052798</td>\n",
              "      <td>0.035769</td>\n",
              "      <td>0.479783</td>\n",
              "      <td>1.000000</td>\n",
              "    </tr>\n",
              "  </tbody>\n",
              "</table>\n",
              "</div>"
            ],
            "text/plain": [
              "                      fixed.acidity  volatile.acidity  ...   alcohol  response\n",
              "fixed.acidity              1.000000          0.206593  ...  0.113936  0.104029\n",
              "volatile.acidity           0.206593          1.000000  ...  0.061742  0.251450\n",
              "citric.acid                0.278841          0.303870  ...  0.024059  0.116477\n",
              "residual.sugar             0.025441          0.021323  ...  0.266348  0.028170\n",
              "chlorides                  0.359324          0.432466  ...  0.417115  0.303872\n",
              "free.sulfur.dioxide        0.266580          0.370346  ...  0.166343  0.089978\n",
              "total.sulfur.dioxide       0.247357          0.341317  ...  0.280905  0.058229\n",
              "density                    0.450184          0.310026  ...  0.683486  0.349012\n",
              "pH                         0.262258          0.178650  ...  0.110308  0.052798\n",
              "sulphates                  0.229855          0.263985  ...  0.017053  0.035769\n",
              "alcohol                    0.113936          0.061742  ...  1.000000  0.479783\n",
              "response                   0.104029          0.251450  ...  0.479783  1.000000\n",
              "\n",
              "[12 rows x 12 columns]"
            ]
          },
          "metadata": {
            "tags": []
          },
          "execution_count": 83
        }
      ]
    },
    {
      "cell_type": "code",
      "metadata": {
        "colab": {
          "base_uri": "https://localhost:8080/",
          "height": 485
        },
        "id": "nZnOumfrMo0x",
        "outputId": "c51bda3f-1aa8-4d77-dd4a-7dc54b668822"
      },
      "source": [
        "plt.figure(figsize=(15,6))\n",
        "sns.set(font_scale=1)\n",
        "sns.heatmap(correlation_matrix.abs(), cmap=\"Blues\", linewidths=.5).set(title='Heatmap of coefficients of correlation between features')\n",
        "plt.show()"
      ],
      "execution_count": null,
      "outputs": [
        {
          "output_type": "display_data",
          "data": {
            "image/png": "[encoded data removed]",
            "text/plain": [
              "<Figure size 1080x432 with 2 Axes>"
            ]
          },
          "metadata": {
            "tags": []
          }
        }
      ]
    },
    {
      "cell_type": "code",
      "metadata": {
        "colab": {
          "base_uri": "https://localhost:8080/",
          "height": 112
        },
        "id": "_S81eUdAP4pD",
        "outputId": "a3809283-d60a-4948-a681-7a802825eeef"
      },
      "source": [
        "# Pair number 1.\n",
        "ct_1 = pd.crosstab(wines['free.sulfur.dioxide'] > wines['free.sulfur.dioxide'].mean(), wines['total.sulfur.dioxide'] > wines['total.sulfur.dioxide'].mean())\n",
        "ct_1.index = [\"'free.sulfur.dioxide' below mean\", \"free.sulfur.dioxide' above mean\"]\n",
        "ct_1.columns = [\"'total.sulfur.dioxide' below mean\", \"'total.sulfur.dioxide' above mean\"]\n",
        "ct_1"
      ],
      "execution_count": null,
      "outputs": [
        {
          "output_type": "execute_result",
          "data": {
            "text/html": [
              "<div>\n",
              "<style scoped>\n",
              "    .dataframe tbody tr th:only-of-type {\n",
              "        vertical-align: middle;\n",
              "    }\n",
              "\n",
              "    .dataframe tbody tr th {\n",
              "        vertical-align: top;\n",
              "    }\n",
              "\n",
              "    .dataframe thead th {\n",
              "        text-align: right;\n",
              "    }\n",
              "</style>\n",
              "<table border=\"1\" class=\"dataframe\">\n",
              "  <thead>\n",
              "    <tr style=\"text-align: right;\">\n",
              "      <th></th>\n",
              "      <th>'total.sulfur.dioxide' below mean</th>\n",
              "      <th>'total.sulfur.dioxide' above mean</th>\n",
              "    </tr>\n",
              "  </thead>\n",
              "  <tbody>\n",
              "    <tr>\n",
              "      <th>'free.sulfur.dioxide' below mean</th>\n",
              "      <td>2151</td>\n",
              "      <td>809</td>\n",
              "    </tr>\n",
              "    <tr>\n",
              "      <th>free.sulfur.dioxide' above mean</th>\n",
              "      <td>445</td>\n",
              "      <td>1915</td>\n",
              "    </tr>\n",
              "  </tbody>\n",
              "</table>\n",
              "</div>"
            ],
            "text/plain": [
              "                                  'total.sulfur.dioxide' below mean  'total.sulfur.dioxide' above mean\n",
              "'free.sulfur.dioxide' below mean                               2151                                809\n",
              "free.sulfur.dioxide' above mean                                 445                               1915"
            ]
          },
          "metadata": {
            "tags": []
          },
          "execution_count": 85
        }
      ]
    },
    {
      "cell_type": "code",
      "metadata": {
        "colab": {
          "base_uri": "https://localhost:8080/",
          "height": 112
        },
        "id": "GbKmoHGgSwIE",
        "outputId": "2a0e9926-3710-46d6-da7e-3e1c5dd593ce"
      },
      "source": [
        "# Pair number 2.\n",
        "ct_2 = pd.crosstab(wines['density'] > wines['density'].mean(), wines['residual.sugar'] > wines['residual.sugar'].mean())\n",
        "ct_2.index = [\"'density' below mean\", \"density' above mean\"]\n",
        "ct_2.columns = [\"'residual.sugar' below mean\", \"'residual.sugar' above mean\"]\n",
        "ct_2"
      ],
      "execution_count": null,
      "outputs": [
        {
          "output_type": "execute_result",
          "data": {
            "text/html": [
              "<div>\n",
              "<style scoped>\n",
              "    .dataframe tbody tr th:only-of-type {\n",
              "        vertical-align: middle;\n",
              "    }\n",
              "\n",
              "    .dataframe tbody tr th {\n",
              "        vertical-align: top;\n",
              "    }\n",
              "\n",
              "    .dataframe thead th {\n",
              "        text-align: right;\n",
              "    }\n",
              "</style>\n",
              "<table border=\"1\" class=\"dataframe\">\n",
              "  <thead>\n",
              "    <tr style=\"text-align: right;\">\n",
              "      <th></th>\n",
              "      <th>'residual.sugar' below mean</th>\n",
              "      <th>'residual.sugar' above mean</th>\n",
              "    </tr>\n",
              "  </thead>\n",
              "  <tbody>\n",
              "    <tr>\n",
              "      <th>'density' below mean</th>\n",
              "      <td>2074</td>\n",
              "      <td>521</td>\n",
              "    </tr>\n",
              "    <tr>\n",
              "      <th>density' above mean</th>\n",
              "      <td>1312</td>\n",
              "      <td>1413</td>\n",
              "    </tr>\n",
              "  </tbody>\n",
              "</table>\n",
              "</div>"
            ],
            "text/plain": [
              "                      'residual.sugar' below mean  'residual.sugar' above mean\n",
              "'density' below mean                         2074                          521\n",
              "density' above mean                          1312                         1413"
            ]
          },
          "metadata": {
            "tags": []
          },
          "execution_count": 86
        }
      ]
    },
    {
      "cell_type": "code",
      "metadata": {
        "colab": {
          "base_uri": "https://localhost:8080/",
          "height": 112
        },
        "id": "utFggjBsjvJB",
        "outputId": "304b4d92-673a-4e95-a9dc-83ffabfb0879"
      },
      "source": [
        "# Pair number 3.\n",
        "ct_3 = pd.crosstab(wines['density'] > wines['density'].mean(), wines['chlorides'] > wines['chlorides'].mean())\n",
        "ct_3.index = [\"'density' below mean\", \"density' above mean\"]\n",
        "ct_3.columns = [\"'chlorides' below mean\", \"'chlorides' above mean\"]\n",
        "ct_3"
      ],
      "execution_count": null,
      "outputs": [
        {
          "output_type": "execute_result",
          "data": {
            "text/html": [
              "<div>\n",
              "<style scoped>\n",
              "    .dataframe tbody tr th:only-of-type {\n",
              "        vertical-align: middle;\n",
              "    }\n",
              "\n",
              "    .dataframe tbody tr th {\n",
              "        vertical-align: top;\n",
              "    }\n",
              "\n",
              "    .dataframe thead th {\n",
              "        text-align: right;\n",
              "    }\n",
              "</style>\n",
              "<table border=\"1\" class=\"dataframe\">\n",
              "  <thead>\n",
              "    <tr style=\"text-align: right;\">\n",
              "      <th></th>\n",
              "      <th>'chlorides' below mean</th>\n",
              "      <th>'chlorides' above mean</th>\n",
              "    </tr>\n",
              "  </thead>\n",
              "  <tbody>\n",
              "    <tr>\n",
              "      <th>'density' below mean</th>\n",
              "      <td>2321</td>\n",
              "      <td>274</td>\n",
              "    </tr>\n",
              "    <tr>\n",
              "      <th>density' above mean</th>\n",
              "      <td>1274</td>\n",
              "      <td>1451</td>\n",
              "    </tr>\n",
              "  </tbody>\n",
              "</table>\n",
              "</div>"
            ],
            "text/plain": [
              "                      'chlorides' below mean  'chlorides' above mean\n",
              "'density' below mean                    2321                     274\n",
              "density' above mean                     1274                    1451"
            ]
          },
          "metadata": {
            "tags": []
          },
          "execution_count": 87
        }
      ]
    },
    {
      "cell_type": "code",
      "metadata": {
        "colab": {
          "base_uri": "https://localhost:8080/",
          "height": 112
        },
        "id": "EJgSIxQuku2p",
        "outputId": "a2d27995-260b-4256-e497-cd479325a54c"
      },
      "source": [
        "# Pair number 4. \n",
        "ct_4 = pd.crosstab(wines['density'] > wines['density'].mean(), wines['alcohol'] > wines['alcohol'].mean())\n",
        "ct_4.index = [\"'density' below mean\", \"density' above mean\"]\n",
        "ct_4.columns = [\"'alcohol' below mean\", \"'alcohol' above mean\"]\n",
        "ct_4"
      ],
      "execution_count": null,
      "outputs": [
        {
          "output_type": "execute_result",
          "data": {
            "text/html": [
              "<div>\n",
              "<style scoped>\n",
              "    .dataframe tbody tr th:only-of-type {\n",
              "        vertical-align: middle;\n",
              "    }\n",
              "\n",
              "    .dataframe tbody tr th {\n",
              "        vertical-align: top;\n",
              "    }\n",
              "\n",
              "    .dataframe thead th {\n",
              "        text-align: right;\n",
              "    }\n",
              "</style>\n",
              "<table border=\"1\" class=\"dataframe\">\n",
              "  <thead>\n",
              "    <tr style=\"text-align: right;\">\n",
              "      <th></th>\n",
              "      <th>'alcohol' below mean</th>\n",
              "      <th>'alcohol' above mean</th>\n",
              "    </tr>\n",
              "  </thead>\n",
              "  <tbody>\n",
              "    <tr>\n",
              "      <th>'density' below mean</th>\n",
              "      <td>793</td>\n",
              "      <td>1802</td>\n",
              "    </tr>\n",
              "    <tr>\n",
              "      <th>density' above mean</th>\n",
              "      <td>2175</td>\n",
              "      <td>550</td>\n",
              "    </tr>\n",
              "  </tbody>\n",
              "</table>\n",
              "</div>"
            ],
            "text/plain": [
              "                      'alcohol' below mean  'alcohol' above mean\n",
              "'density' below mean                   793                  1802\n",
              "density' above mean                   2175                   550"
            ]
          },
          "metadata": {
            "tags": []
          },
          "execution_count": 88
        }
      ]
    },
    {
      "cell_type": "code",
      "metadata": {
        "colab": {
          "base_uri": "https://localhost:8080/"
        },
        "id": "kXpNEYTSk53k",
        "outputId": "93b01a83-4643-43cf-f008-bd6b65592b95"
      },
      "source": [
        "# PCA\n",
        "\n",
        "pca_model_2d = PCA(n_components = 2)\n",
        "pca_dataset_2d = pd.DataFrame(pca_model_2d.fit_transform(wines.drop('color', axis = 1)), columns = ['component_1', 'component_2'])\n",
        "pca_dataset_2d['color'] = wines.color.replace([0, 1], ['white', 'red']).values\n",
        "\n",
        "pca_model_2d"
      ],
      "execution_count": null,
      "outputs": [
        {
          "output_type": "execute_result",
          "data": {
            "text/plain": [
              "PCA(copy=True, iterated_power='auto', n_components=2, random_state=None,\n",
              "    svd_solver='auto', tol=0.0, whiten=False)"
            ]
          },
          "metadata": {
            "tags": []
          },
          "execution_count": 89
        }
      ]
    },
    {
      "cell_type": "code",
      "metadata": {
        "colab": {
          "base_uri": "https://localhost:8080/",
          "height": 522
        },
        "id": "xZPGELeNlshf",
        "outputId": "4016a705-ed0f-4119-becc-c2e432e49e52"
      },
      "source": [
        "sns.set(font_scale=1.3)\n",
        "sns.lmplot(data = pca_dataset_2d, x = 'component_1', y = 'component_2', hue = 'color', fit_reg=False, size=6, aspect=1.2).set(title = 'Visualisation of the data set on 2D space')\n",
        "plt.show()"
      ],
      "execution_count": null,
      "outputs": [
        {
          "output_type": "stream",
          "text": [
            "/usr/local/lib/python3.6/dist-packages/seaborn/regression.py:580: UserWarning: The `size` parameter has been renamed to `height`; please update your code.\n",
            "  warnings.warn(msg, UserWarning)\n"
          ],
          "name": "stderr"
        },
        {
          "output_type": "display_data",
          "data": {
            "image/png": "[encoded data removed]",
            "text/plain": [
              "<Figure size 608.88x432 with 1 Axes>"
            ]
          },
          "metadata": {
            "tags": []
          }
        }
      ]
    },
    {
      "cell_type": "code",
      "metadata": {
        "colab": {
          "base_uri": "https://localhost:8080/",
          "height": 522
        },
        "id": "h6GLcpRMpVdx",
        "outputId": "d79605cc-1223-4d7d-fe00-537130a4b457"
      },
      "source": [
        "sns.set(font_scale=1.3)\n",
        "sns.lmplot(data = pca_dataset_2d, x = 'component_1', y = 'component_2', hue = 'color', fit_reg=False, scatter_kws={'alpha':0.1}, size=6, aspect=1.2).set(title = 'Visualisation of the data set on 2D space')\n",
        "plt.show()"
      ],
      "execution_count": null,
      "outputs": [
        {
          "output_type": "stream",
          "text": [
            "/usr/local/lib/python3.6/dist-packages/seaborn/regression.py:580: UserWarning: The `size` parameter has been renamed to `height`; please update your code.\n",
            "  warnings.warn(msg, UserWarning)\n"
          ],
          "name": "stderr"
        },
        {
          "output_type": "display_data",
          "data": {
            "image/png": "[encoded data removed]",
            "text/plain": [
              "<Figure size 608.88x432 with 1 Axes>"
            ]
          },
          "metadata": {
            "tags": []
          }
        }
      ]
    }
  ]
}